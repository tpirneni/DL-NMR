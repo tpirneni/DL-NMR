{
 "cells": [
  {
   "cell_type": "code",
   "execution_count": 55,
   "metadata": {},
   "outputs": [],
   "source": [
    "## Import dependencies\n",
    "\n",
    "import numpy as np\n",
    "from os import path\n",
    "import matplotlib.pyplot as plt\n",
    "import os\n",
    "import nmrglue as ng\n",
    "import seaborn as sns\n",
    "import sklearn\n",
    "from sklearn.model_selection import train_test_split\n",
    "from sklearn.metrics import mean_squared_error\n",
    "import torch\n",
    "import torch.nn as nn\n",
    "import torch.optim as optim\n",
    "import copy\n",
    "import time\n",
    "import optuna\n",
    "import pandas as pd\n",
    "\n",
    "# Set default plot size\n",
    "plt.rcParams[\"figure.figsize\"] = (30,20)"
   ]
  },
  {
   "cell_type": "code",
   "execution_count": null,
   "metadata": {},
   "outputs": [],
   "source": []
  },
  {
   "cell_type": "markdown",
   "metadata": {},
   "source": [
    "## Optimize MLP architecture and hyperparameters on dataset of 44 metabolites"
   ]
  },
  {
   "cell_type": "code",
   "execution_count": 56,
   "metadata": {},
   "outputs": [],
   "source": [
    "# Define number of epochs used later in training\n",
    "num_epochs = 5000\n",
    "\n",
    "# Name variable used for saving model metrics, name should reflect model used, dataset used, and other information such as # of epochs\n",
    "ModelName = \"MLP_Opt_44Met\" + str(num_epochs) +\"ep\"\n",
    "\n",
    "# Set the random seed\n",
    "os.chdir('/home/htjhnson/Desktop/DL-NMR-Optimization/ModelPerformanceMetrics/') \n",
    "seed = 1 \n",
    "torch.manual_seed(seed)\n",
    "np.save(ModelName + \"_Seed.npy\", seed)"
   ]
  },
  {
   "cell_type": "code",
   "execution_count": 57,
   "metadata": {},
   "outputs": [],
   "source": [
    "## Load training and testing datasets, validation datasets, and representative example spectra \n",
    "\n",
    "# Switch to directory containing datasets\n",
    "os.chdir('/home/htjhnson/Desktop/DL-NMR-Optimization/GeneratedDataAndVariables')\n",
    "\n",
    "# Load training data and max value from testing and training datasets\n",
    "spectra = np.load('Dataset44_Spec.npy')\n",
    "conc1 = np.load('Dataset44_Conc.npy')\n",
    "\n",
    "# Load validation dataset\n",
    "spectraVal = np.load('Dataset44_Val_Spec.npy')\n",
    "concVal = np.load('Dataset44_Val_Conc.npy')\n",
    "\n",
    "# Load representative validation spectra\n",
    "ValSpectra = np.load(\"Dataset44_RepresentativeExamples_Spectra.npy\")\n",
    "ValConc = np.load(\"Dataset44_RepresentativeExamples_Concentrations.npy\")\n",
    "ValSpecNames = np.load(\"Dataset44_RepresentativeExamples_VariableNames.npy\")"
   ]
  },
  {
   "cell_type": "code",
   "execution_count": 58,
   "metadata": {},
   "outputs": [
    {
     "name": "stdout",
     "output_type": "stream",
     "text": [
      "Using GPU for training.\n"
     ]
    }
   ],
   "source": [
    "## Prepare to switch data from CPU to GPU\n",
    "\n",
    "# Check if CUDA (GPU support) is available\n",
    "if torch.cuda.is_available():\n",
    "    device = torch.device(\"cuda\")          # A CUDA device object\n",
    "    print(\"Using GPU for training.\")\n",
    "else:\n",
    "    device = torch.device(\"cpu\")           # A CPU object\n",
    "    print(\"CUDA is not available. Using CPU for training.\")"
   ]
  },
  {
   "cell_type": "code",
   "execution_count": 59,
   "metadata": {},
   "outputs": [],
   "source": [
    "## Set up data for testing and training\n",
    "\n",
    "# Split into testing and training data\n",
    "X_train1, X_test1, y_train1, y_test1 = train_test_split(spectra, conc1, test_size = 0.2, random_state = 1)\n",
    "\n",
    "# Tensorize and prepare datasets\n",
    "X_train = torch.tensor(X_train1).float()\n",
    "y_train = torch.tensor(y_train1).float()\n",
    "X_test = torch.tensor(X_test1).float()\n",
    "y_test = torch.tensor(y_test1).float()\n",
    "\n",
    "\n",
    "# Move the input data to the GPU device\n",
    "X_train = X_train.to(device)\n",
    "X_test = X_test.to(device)\n",
    "spectraVal = torch.tensor(spectraVal).float().to(device)   # Confusing names, these spectra are the 5000 spectra generated like the training dataset\n",
    "ValSpectra = torch.tensor(ValSpectra).float().to(device)   # Confusing names, these spectra are the 10 representative example spectra\n",
    "\n",
    "# Move the target data to the GPU device\n",
    "y_train = y_train.to(device)\n",
    "y_test = y_test.to(device)\n",
    "concVal = torch.tensor(concVal).float().to(device)\n",
    "ValConc = torch.tensor(ValConc).float().to(device)\n",
    "\n",
    "# More data prep?\n",
    "datasets = torch.utils.data.TensorDataset(X_train, y_train)\n",
    "Test_datasets = torch.utils.data.TensorDataset(X_test, y_test)\n",
    "#train_iter = torch.utils.data.DataLoader(datasets, batch_size = 128, shuffle=True)\n",
    "#test_iter = torch.utils.data.DataLoader(Test_datasets, batch_size = 128, shuffle=True)"
   ]
  },
  {
   "cell_type": "code",
   "execution_count": 61,
   "metadata": {},
   "outputs": [
    {
     "name": "stderr",
     "output_type": "stream",
     "text": [
      "[I 2024-05-03 17:37:30,104] A new study created in memory with name: no-name-bf403188-ce77-4cbd-a688-289f74023045\n"
     ]
    },
    {
     "name": "stdout",
     "output_type": "stream",
     "text": [
      "Epoch 1/5000 running accumulative loss 34549.985 --time-- 1.2140085697174072\n",
      "Epoch 501/5000 running accumulative loss 1778.512 --time-- 1.2124712467193604\n",
      "Epoch 1001/5000 running accumulative loss 1706.600 --time-- 1.217393159866333\n",
      "Epoch 1501/5000 running accumulative loss 1709.343 --time-- 1.2184028625488281\n",
      "Epoch 2001/5000 running accumulative loss 1717.889 --time-- 1.2178432941436768\n",
      "Epoch 2501/5000 running accumulative loss 1720.652 --time-- 1.2175955772399902\n",
      "Epoch 3001/5000 running accumulative loss 1749.538 --time-- 1.219062328338623\n",
      "Epoch 3501/5000 running accumulative loss 1704.271 --time-- 1.2208704948425293\n",
      "Epoch 4001/5000 running accumulative loss 1703.186 --time-- 1.221247673034668\n",
      "Epoch 4501/5000 running accumulative loss 1715.943 --time-- 1.2198238372802734\n"
     ]
    },
    {
     "name": "stderr",
     "output_type": "stream",
     "text": [
      "[I 2024-05-03 19:18:43,574] Trial 0 finished with value: 1680.4046566486359 and parameters: {'n_layers': 2, 'activation': 'leaky_relu', 'weight_init': 'he', 'n_units_l0': 485, 'n_units_l1': 189, 'batch_norm': True, 'optimizer': 'Adam', 'learning_rate': 0.007332629246788814, 'regularization': 'l2', 'reg_strength': 0.0006187352872044527, 'batch_size': 54}. Best is trial 0 with value: 1680.4046566486359.\n"
     ]
    },
    {
     "name": "stdout",
     "output_type": "stream",
     "text": [
      "6073.1731033325195\n",
      "Epoch 1/5000 running accumulative loss 22422.905 --time-- 0.2231764793395996\n",
      "Epoch 501/5000 running accumulative loss 498.397 --time-- 0.2152400016784668\n",
      "Epoch 1001/5000 running accumulative loss 535.916 --time-- 0.21612238883972168\n",
      "Epoch 1501/5000 running accumulative loss 405.147 --time-- 0.21337485313415527\n",
      "Epoch 2001/5000 running accumulative loss 381.428 --time-- 0.4071369171142578\n",
      "Epoch 2501/5000 running accumulative loss 391.178 --time-- 0.2163076400756836\n",
      "Epoch 3001/5000 running accumulative loss 350.557 --time-- 0.22134709358215332\n",
      "Epoch 3501/5000 running accumulative loss 345.003 --time-- 0.21574807167053223\n",
      "Epoch 4001/5000 running accumulative loss 323.027 --time-- 0.21640777587890625\n",
      "Epoch 4501/5000 running accumulative loss 352.006 --time-- 0.22078275680541992\n"
     ]
    },
    {
     "name": "stderr",
     "output_type": "stream",
     "text": [
      "[I 2024-05-03 19:37:22,842] Trial 1 finished with value: 340.46477341651917 and parameters: {'n_layers': 1, 'activation': 'relu', 'weight_init': 'he', 'n_units_l0': 152, 'batch_norm': True, 'optimizer': 'SGD', 'learning_rate': 0.03420270498850646, 'regularization': 'l1', 'reg_strength': 0.00015265134690027065, 'batch_size': 172}. Best is trial 1 with value: 340.46477341651917.\n"
     ]
    },
    {
     "name": "stdout",
     "output_type": "stream",
     "text": [
      "1119.174241065979\n",
      "Epoch 1/5000 running accumulative loss 27491.385 --time-- 0.8299264907836914\n",
      "Epoch 501/5000 running accumulative loss 17400.311 --time-- 0.8347718715667725\n",
      "Epoch 1001/5000 running accumulative loss 11194.632 --time-- 0.832374095916748\n",
      "Epoch 1501/5000 running accumulative loss 9598.171 --time-- 0.8323471546173096\n",
      "Epoch 2001/5000 running accumulative loss 7973.428 --time-- 0.8333134651184082\n",
      "Epoch 2501/5000 running accumulative loss 7903.337 --time-- 0.8326807022094727\n",
      "Epoch 3001/5000 running accumulative loss 7408.348 --time-- 0.8324079513549805\n",
      "Epoch 3501/5000 running accumulative loss 7436.861 --time-- 0.8354949951171875\n",
      "Epoch 4001/5000 running accumulative loss 6835.768 --time-- 0.832542896270752\n",
      "Epoch 4501/5000 running accumulative loss 6844.286 --time-- 0.8324928283691406\n"
     ]
    },
    {
     "name": "stderr",
     "output_type": "stream",
     "text": [
      "[I 2024-05-03 20:46:52,634] Trial 2 finished with value: 6825.3083152771 and parameters: {'n_layers': 4, 'activation': 'elu', 'weight_init': 'xavier', 'n_units_l0': 820, 'n_units_l1': 498, 'n_units_l2': 720, 'n_units_l3': 923, 'batch_norm': True, 'optimizer': 'Adam', 'learning_rate': 0.08799593706632414, 'regularization': 'l1', 'reg_strength': 0.0008964784761203808, 'batch_size': 150}. Best is trial 1 with value: 340.46477341651917.\n"
     ]
    },
    {
     "name": "stdout",
     "output_type": "stream",
     "text": [
      "4169.279195547104\n",
      "Epoch 1/5000 running accumulative loss 279655182.799 --time-- 0.3088221549987793\n",
      "Epoch 501/5000 running accumulative loss 7892.229 --time-- 0.30871152877807617\n",
      "Epoch 1001/5000 running accumulative loss 24501.246 --time-- 0.3081512451171875\n",
      "Epoch 1501/5000 running accumulative loss 1920859.613 --time-- 0.30849313735961914\n",
      "Epoch 2001/5000 running accumulative loss 6868.525 --time-- 0.30819082260131836\n",
      "Epoch 2501/5000 running accumulative loss 2863.684 --time-- 0.3089425563812256\n",
      "Epoch 3001/5000 running accumulative loss 142871.996 --time-- 0.30790138244628906\n",
      "Epoch 3501/5000 running accumulative loss 7280.720 --time-- 0.309429407119751\n",
      "Epoch 4001/5000 running accumulative loss 1964.193 --time-- 0.30855369567871094\n",
      "Epoch 4501/5000 running accumulative loss 5085.344 --time-- 0.30838632583618164\n"
     ]
    },
    {
     "name": "stderr",
     "output_type": "stream",
     "text": [
      "[I 2024-05-03 21:12:38,273] Trial 3 finished with value: 204063.19885253906 and parameters: {'n_layers': 1, 'activation': 'leaky_relu', 'weight_init': 'he', 'n_units_l0': 383, 'batch_norm': False, 'optimizer': 'RMSprop', 'learning_rate': 0.06437144567087046, 'regularization': 'none', 'reg_strength': 0.0007098775951115528, 'batch_size': 158}. Best is trial 1 with value: 340.46477341651917.\n"
     ]
    },
    {
     "name": "stdout",
     "output_type": "stream",
     "text": [
      "1545.4110882282257\n",
      "Epoch 1/5000 running accumulative loss 5914682.097 --time-- 1.8557100296020508\n",
      "Epoch 501/5000 running accumulative loss 18363.359 --time-- 1.8559279441833496\n",
      "Epoch 1001/5000 running accumulative loss 71922.317 --time-- 1.861236333847046\n",
      "Epoch 1501/5000 running accumulative loss 153419.281 --time-- 1.8626549243927002\n",
      "Epoch 2001/5000 running accumulative loss 522748.810 --time-- 1.8614075183868408\n",
      "Epoch 2501/5000 running accumulative loss 4949255.433 --time-- 1.8558070659637451\n",
      "Epoch 3001/5000 running accumulative loss 110753.816 --time-- 1.8617939949035645\n",
      "Epoch 3501/5000 running accumulative loss 287118.887 --time-- 1.8553898334503174\n",
      "Epoch 4001/5000 running accumulative loss 1967501.446 --time-- 1.8555076122283936\n",
      "Epoch 4501/5000 running accumulative loss 41498.868 --time-- 1.8558945655822754\n"
     ]
    },
    {
     "name": "stderr",
     "output_type": "stream",
     "text": [
      "[I 2024-05-03 23:47:25,599] Trial 4 finished with value: 37850.0174407959 and parameters: {'n_layers': 3, 'activation': 'leaky_relu', 'weight_init': 'normal', 'n_units_l0': 662, 'n_units_l1': 96, 'n_units_l2': 543, 'batch_norm': False, 'optimizer': 'RMSprop', 'learning_rate': 0.003944682833618294, 'regularization': 'l2', 'reg_strength': 0.00013993170764078282, 'batch_size': 38}. Best is trial 1 with value: 340.46477341651917.\n"
     ]
    },
    {
     "name": "stdout",
     "output_type": "stream",
     "text": [
      "9286.929962873459\n",
      "Epoch 1/5000 running accumulative loss nan --time-- 0.47260570526123047\n",
      "Epoch 501/5000 running accumulative loss nan --time-- 0.46116161346435547\n",
      "Epoch 1001/5000 running accumulative loss nan --time-- 0.4608266353607178\n",
      "Epoch 1501/5000 running accumulative loss nan --time-- 0.4606146812438965\n",
      "Epoch 2001/5000 running accumulative loss nan --time-- 0.46358203887939453\n",
      "Epoch 2501/5000 running accumulative loss nan --time-- 0.46176934242248535\n",
      "Epoch 3001/5000 running accumulative loss nan --time-- 0.4772965908050537\n",
      "Epoch 3501/5000 running accumulative loss nan --time-- 0.4613535404205322\n",
      "Epoch 4001/5000 running accumulative loss nan --time-- 0.4629995822906494\n",
      "Epoch 4501/5000 running accumulative loss nan --time-- 0.4614074230194092\n"
     ]
    },
    {
     "name": "stderr",
     "output_type": "stream",
     "text": [
      "[W 2024-05-04 00:26:07,146] Trial 5 failed with parameters: {'n_layers': 4, 'activation': 'leaky_relu', 'weight_init': 'xavier', 'n_units_l0': 473, 'n_units_l1': 62, 'n_units_l2': 49, 'n_units_l3': 807, 'batch_norm': False, 'optimizer': 'SGD', 'learning_rate': 0.01017224146849207, 'regularization': 'l1', 'reg_strength': 0.0009014783625784125, 'batch_size': 75} because of the following error: The value nan is not acceptable.\n",
      "[W 2024-05-04 00:26:07,147] Trial 5 failed with value nan.\n"
     ]
    },
    {
     "name": "stdout",
     "output_type": "stream",
     "text": [
      "2321.253049850464\n",
      "Epoch 1/5000 running accumulative loss 20295.136 --time-- 0.28302669525146484\n",
      "Epoch 501/5000 running accumulative loss 277.684 --time-- 0.2827134132385254\n",
      "Epoch 1001/5000 running accumulative loss 233.349 --time-- 0.2805616855621338\n",
      "Epoch 1501/5000 running accumulative loss 215.439 --time-- 0.28063201904296875\n",
      "Epoch 2001/5000 running accumulative loss 197.210 --time-- 0.2815670967102051\n",
      "Epoch 2501/5000 running accumulative loss 189.692 --time-- 0.2816464900970459\n",
      "Epoch 3001/5000 running accumulative loss 175.302 --time-- 0.28078770637512207\n",
      "Epoch 3501/5000 running accumulative loss 158.555 --time-- 0.2805447578430176\n",
      "Epoch 4001/5000 running accumulative loss 154.303 --time-- 0.28145360946655273\n",
      "Epoch 4501/5000 running accumulative loss 153.458 --time-- 0.2826845645904541\n"
     ]
    },
    {
     "name": "stderr",
     "output_type": "stream",
     "text": [
      "[I 2024-05-04 00:50:04,308] Trial 6 finished with value: 134.12604784965515 and parameters: {'n_layers': 1, 'activation': 'relu', 'weight_init': 'he', 'n_units_l0': 578, 'batch_norm': False, 'optimizer': 'SGD', 'learning_rate': 0.015188225269941572, 'regularization': 'l1', 'reg_strength': 7.76693822083345e-05, 'batch_size': 217}. Best is trial 6 with value: 134.12604784965515.\n"
     ]
    },
    {
     "name": "stdout",
     "output_type": "stream",
     "text": [
      "1436.8216326236725\n",
      "Epoch 1/5000 running accumulative loss 93425.857 --time-- 1.4312810897827148\n",
      "Epoch 501/5000 running accumulative loss 995.713 --time-- 1.4294440746307373\n",
      "Epoch 1001/5000 running accumulative loss 967.684 --time-- 1.4299876689910889\n",
      "Epoch 1501/5000 running accumulative loss 933.828 --time-- 1.4290332794189453\n",
      "Epoch 2001/5000 running accumulative loss 941.043 --time-- 1.4292190074920654\n",
      "Epoch 2501/5000 running accumulative loss 913.004 --time-- 1.4292922019958496\n",
      "Epoch 3001/5000 running accumulative loss 913.191 --time-- 1.4295694828033447\n",
      "Epoch 3501/5000 running accumulative loss 931.851 --time-- 1.4290099143981934\n",
      "Epoch 4001/5000 running accumulative loss 876.554 --time-- 1.4291093349456787\n",
      "Epoch 4501/5000 running accumulative loss 891.813 --time-- 1.4292914867401123\n"
     ]
    },
    {
     "name": "stderr",
     "output_type": "stream",
     "text": [
      "[I 2024-05-04 02:49:11,139] Trial 7 finished with value: 897.5928673744202 and parameters: {'n_layers': 2, 'activation': 'leaky_relu', 'weight_init': 'xavier', 'n_units_l0': 811, 'n_units_l1': 293, 'batch_norm': True, 'optimizer': 'Adam', 'learning_rate': 0.0009336302283761152, 'regularization': 'l1', 'reg_strength': 0.0002823765963072382, 'batch_size': 72}. Best is trial 6 with value: 134.12604784965515.\n"
     ]
    },
    {
     "name": "stdout",
     "output_type": "stream",
     "text": [
      "7146.3540987968445\n",
      "Epoch 1/5000 running accumulative loss 47441.463 --time-- 0.5942056179046631\n",
      "Epoch 501/5000 running accumulative loss nan --time-- 0.5924928188323975\n",
      "Epoch 1001/5000 running accumulative loss nan --time-- 0.5941789150238037\n",
      "Epoch 1501/5000 running accumulative loss nan --time-- 0.5943453311920166\n",
      "Epoch 2001/5000 running accumulative loss nan --time-- 0.59600830078125\n",
      "Epoch 2501/5000 running accumulative loss nan --time-- 0.5941758155822754\n",
      "Epoch 3001/5000 running accumulative loss nan --time-- 0.5945193767547607\n",
      "Epoch 3501/5000 running accumulative loss nan --time-- 0.5956530570983887\n",
      "Epoch 4001/5000 running accumulative loss nan --time-- 0.5925533771514893\n",
      "Epoch 4501/5000 running accumulative loss nan --time-- 0.5935547351837158\n"
     ]
    },
    {
     "name": "stderr",
     "output_type": "stream",
     "text": [
      "[W 2024-05-04 03:39:14,023] Trial 8 failed with parameters: {'n_layers': 2, 'activation': 'relu', 'weight_init': 'xavier', 'n_units_l0': 885, 'n_units_l1': 872, 'batch_norm': False, 'optimizer': 'SGD', 'learning_rate': 0.060422813742229416, 'regularization': 'l2', 'reg_strength': 0.00016396091287304985, 'batch_size': 199} because of the following error: The value nan is not acceptable.\n",
      "[W 2024-05-04 03:39:14,023] Trial 8 failed with value nan.\n"
     ]
    },
    {
     "name": "stdout",
     "output_type": "stream",
     "text": [
      "3002.3530089855194\n",
      "Epoch 1/5000 running accumulative loss 18928.627 --time-- 0.2003343105316162\n",
      "Epoch 501/5000 running accumulative loss 194.132 --time-- 0.19750285148620605\n",
      "Epoch 1001/5000 running accumulative loss 115.194 --time-- 0.1938464641571045\n",
      "Epoch 1501/5000 running accumulative loss 119.179 --time-- 0.19509267807006836\n",
      "Epoch 2001/5000 running accumulative loss 93.209 --time-- 0.19545912742614746\n",
      "Epoch 2501/5000 running accumulative loss 95.275 --time-- 0.19554471969604492\n",
      "Epoch 3001/5000 running accumulative loss 73.195 --time-- 0.20184636116027832\n",
      "Epoch 3501/5000 running accumulative loss 82.027 --time-- 0.19548845291137695\n",
      "Epoch 4001/5000 running accumulative loss 87.320 --time-- 0.1964871883392334\n",
      "Epoch 4501/5000 running accumulative loss 75.087 --time-- 0.19734716415405273\n"
     ]
    },
    {
     "name": "stderr",
     "output_type": "stream",
     "text": [
      "[I 2024-05-04 03:56:07,100] Trial 9 finished with value: 82.72228693962097 and parameters: {'n_layers': 1, 'activation': 'leaky_relu', 'weight_init': 'normal', 'n_units_l0': 139, 'batch_norm': False, 'optimizer': 'Adam', 'learning_rate': 0.046543400518827965, 'regularization': 'l2', 'reg_strength': 0.0009932161646938576, 'batch_size': 213}. Best is trial 9 with value: 82.72228693962097.\n"
     ]
    },
    {
     "name": "stdout",
     "output_type": "stream",
     "text": [
      "1012.9937443733215\n",
      "Epoch 1/5000 running accumulative loss 59821.416 --time-- 1.1559779644012451\n",
      "Epoch 501/5000 running accumulative loss 265.253 --time-- 1.1566050052642822\n",
      "Epoch 1001/5000 running accumulative loss 217.388 --time-- 1.156836748123169\n",
      "Epoch 1501/5000 running accumulative loss 196.920 --time-- 1.1558003425598145\n",
      "Epoch 2001/5000 running accumulative loss 272.263 --time-- 1.156893014907837\n",
      "Epoch 2501/5000 running accumulative loss 188.492 --time-- 1.156397819519043\n",
      "Epoch 3001/5000 running accumulative loss 194.321 --time-- 1.156090497970581\n",
      "Epoch 3501/5000 running accumulative loss 198.786 --time-- 1.1562225818634033\n",
      "Epoch 4001/5000 running accumulative loss 194.345 --time-- 1.1573371887207031\n",
      "Epoch 4501/5000 running accumulative loss 206.293 --time-- 1.1571574211120605\n"
     ]
    },
    {
     "name": "stderr",
     "output_type": "stream",
     "text": [
      "[I 2024-05-04 05:32:30,569] Trial 10 finished with value: 220.23829373717308 and parameters: {'n_layers': 2, 'activation': 'elu', 'weight_init': 'normal', 'n_units_l0': 398, 'n_units_l1': 686, 'batch_norm': False, 'optimizer': 'Adam', 'learning_rate': 0.006705642721811125, 'regularization': 'l2', 'reg_strength': 0.0009601722003968937, 'batch_size': 49}. Best is trial 9 with value: 82.72228693962097.\n"
     ]
    },
    {
     "name": "stdout",
     "output_type": "stream",
     "text": [
      "5783.2282102108\n",
      "Epoch 1/5000 running accumulative loss 28303.456 --time-- 0.2667410373687744\n",
      "Epoch 501/5000 running accumulative loss 233.818 --time-- 0.2656402587890625\n",
      "Epoch 1001/5000 running accumulative loss 165.386 --time-- 0.263075590133667\n",
      "Epoch 1501/5000 running accumulative loss 150.745 --time-- 0.2639787197113037\n",
      "Epoch 2001/5000 running accumulative loss 134.948 --time-- 0.26505589485168457\n",
      "Epoch 2501/5000 running accumulative loss 128.157 --time-- 0.2682526111602783\n",
      "Epoch 3001/5000 running accumulative loss 126.652 --time-- 0.27564573287963867\n",
      "Epoch 3501/5000 running accumulative loss 111.055 --time-- 0.2649674415588379\n",
      "Epoch 4001/5000 running accumulative loss 98.018 --time-- 0.26845884323120117\n",
      "Epoch 4501/5000 running accumulative loss 111.790 --time-- 0.26285791397094727\n"
     ]
    },
    {
     "name": "stderr",
     "output_type": "stream",
     "text": [
      "[I 2024-05-04 05:54:45,211] Trial 11 finished with value: 104.85385459661484 and parameters: {'n_layers': 1, 'activation': 'relu', 'weight_init': 'he', 'n_units_l0': 139, 'batch_norm': False, 'optimizer': 'Adam', 'learning_rate': 0.015463798504395878, 'regularization': 'l1', 'reg_strength': 0.0005104758382971315, 'batch_size': 111}. Best is trial 9 with value: 82.72228693962097.\n"
     ]
    },
    {
     "name": "stdout",
     "output_type": "stream",
     "text": [
      "1334.559754371643\n",
      "Epoch 1/5000 running accumulative loss 111710266246.964 --time-- 0.1914072036743164\n",
      "Epoch 501/5000 running accumulative loss 15466.309 --time-- 0.19106674194335938\n",
      "Epoch 1001/5000 running accumulative loss 19953.381 --time-- 0.3630952835083008\n",
      "Epoch 1501/5000 running accumulative loss 16545865.082 --time-- 0.19249391555786133\n",
      "Epoch 2001/5000 running accumulative loss 796422801.000 --time-- 0.18999910354614258\n",
      "Epoch 2501/5000 running accumulative loss 5103817.668 --time-- 0.18894171714782715\n",
      "Epoch 3001/5000 running accumulative loss 671640199448.553 --time-- 0.18983244895935059\n",
      "Epoch 3501/5000 running accumulative loss 3941092.520 --time-- 0.18977856636047363\n",
      "Epoch 4001/5000 running accumulative loss 7740758.266 --time-- 0.18980860710144043\n",
      "Epoch 4501/5000 running accumulative loss 6071001001.312 --time-- 0.19033026695251465\n"
     ]
    },
    {
     "name": "stderr",
     "output_type": "stream",
     "text": [
      "[I 2024-05-04 06:11:05,530] Trial 12 finished with value: 52156024041.625 and parameters: {'n_layers': 3, 'activation': 'leaky_relu', 'weight_init': 'normal', 'n_units_l0': 12, 'n_units_l1': 981, 'n_units_l2': 45, 'batch_norm': False, 'optimizer': 'RMSprop', 'learning_rate': 0.05449685491194341, 'regularization': 'none', 'reg_strength': 0.0008002209041826284, 'batch_size': 255}. Best is trial 9 with value: 82.72228693962097.\n"
     ]
    },
    {
     "name": "stdout",
     "output_type": "stream",
     "text": [
      "980.2741410732269\n",
      "Epoch 1/5000 running accumulative loss 23974.699 --time-- 0.2984294891357422\n",
      "Epoch 501/5000 running accumulative loss 446.072 --time-- 0.29019975662231445\n",
      "Epoch 1001/5000 running accumulative loss 393.171 --time-- 0.2900681495666504\n",
      "Epoch 1501/5000 running accumulative loss 331.685 --time-- 0.29041171073913574\n",
      "Epoch 2001/5000 running accumulative loss 337.710 --time-- 0.28839540481567383\n",
      "Epoch 2501/5000 running accumulative loss 293.532 --time-- 0.28928637504577637\n",
      "Epoch 3001/5000 running accumulative loss 307.976 --time-- 0.2900979518890381\n",
      "Epoch 3501/5000 running accumulative loss 288.546 --time-- 0.29019856452941895\n",
      "Epoch 4001/5000 running accumulative loss 250.390 --time-- 0.29211997985839844\n",
      "Epoch 4501/5000 running accumulative loss 252.819 --time-- 0.2881505489349365\n"
     ]
    },
    {
     "name": "stderr",
     "output_type": "stream",
     "text": [
      "[I 2024-05-04 06:35:15,368] Trial 13 finished with value: 214.98226779699326 and parameters: {'n_layers': 1, 'activation': 'relu', 'weight_init': 'normal', 'n_units_l0': 181, 'batch_norm': False, 'optimizer': 'Adam', 'learning_rate': 0.030101820080699688, 'regularization': 'l2', 'reg_strength': 0.00042541898977309443, 'batch_size': 110}. Best is trial 9 with value: 82.72228693962097.\n"
     ]
    },
    {
     "name": "stdout",
     "output_type": "stream",
     "text": [
      "1449.7033948898315\n",
      "Epoch 1/5000 running accumulative loss 30859.522 --time-- 0.3653440475463867\n",
      "Epoch 501/5000 running accumulative loss 7481.433 --time-- 0.3678109645843506\n",
      "Epoch 1001/5000 running accumulative loss 7469.375 --time-- 0.36853504180908203\n",
      "Epoch 1501/5000 running accumulative loss 7408.916 --time-- 0.3681762218475342\n",
      "Epoch 2001/5000 running accumulative loss 7384.445 --time-- 0.3688509464263916\n",
      "Epoch 2501/5000 running accumulative loss 7350.424 --time-- 0.36774158477783203\n",
      "Epoch 3001/5000 running accumulative loss 7386.751 --time-- 0.3671865463256836\n",
      "Epoch 3501/5000 running accumulative loss 7355.953 --time-- 0.3677806854248047\n",
      "Epoch 4001/5000 running accumulative loss 7352.363 --time-- 0.3681216239929199\n",
      "Epoch 4501/5000 running accumulative loss 7346.827 --time-- 0.3679945468902588\n"
     ]
    },
    {
     "name": "stderr",
     "output_type": "stream",
     "text": [
      "[I 2024-05-04 07:05:54,473] Trial 14 finished with value: 7347.0617027282715 and parameters: {'n_layers': 1, 'activation': 'relu', 'weight_init': 'normal', 'n_units_l0': 231, 'batch_norm': False, 'optimizer': 'Adam', 'learning_rate': 0.03398324635131508, 'regularization': 'l2', 'reg_strength': 0.0005016878789867188, 'batch_size': 105}. Best is trial 9 with value: 82.72228693962097.\n"
     ]
    },
    {
     "name": "stdout",
     "output_type": "stream",
     "text": [
      "1838.9368786811829\n",
      "Epoch 1/5000 running accumulative loss 38642.811 --time-- 0.21182012557983398\n",
      "Epoch 501/5000 running accumulative loss 21757.603 --time-- 0.20780515670776367\n",
      "Epoch 1001/5000 running accumulative loss 21755.066 --time-- 0.20583033561706543\n",
      "Epoch 1501/5000 running accumulative loss 21755.541 --time-- 0.2120051383972168\n",
      "Epoch 2001/5000 running accumulative loss 21758.818 --time-- 0.20763659477233887\n",
      "Epoch 2501/5000 running accumulative loss 21757.904 --time-- 0.2214677333831787\n",
      "Epoch 3001/5000 running accumulative loss 21757.234 --time-- 0.20539116859436035\n",
      "Epoch 3501/5000 running accumulative loss 21756.200 --time-- 0.2052016258239746\n",
      "Epoch 4001/5000 running accumulative loss 21757.822 --time-- 0.20821666717529297\n",
      "Epoch 4501/5000 running accumulative loss 21755.549 --time-- 0.20818710327148438\n"
     ]
    },
    {
     "name": "stderr",
     "output_type": "stream",
     "text": [
      "[I 2024-05-04 07:23:44,171] Trial 15 finished with value: 21758.343505859375 and parameters: {'n_layers': 2, 'activation': 'relu', 'weight_init': 'he', 'n_units_l0': 12, 'n_units_l1': 955, 'batch_norm': False, 'optimizer': 'Adam', 'learning_rate': 0.07576937988340221, 'regularization': 'l1', 'reg_strength': 0.0003847670805761738, 'batch_size': 201}. Best is trial 9 with value: 82.72228693962097.\n"
     ]
    },
    {
     "name": "stdout",
     "output_type": "stream",
     "text": [
      "1069.6558442115784\n",
      "Epoch 1/5000 running accumulative loss nan --time-- 0.34428906440734863\n",
      "Epoch 501/5000 running accumulative loss nan --time-- 0.3351614475250244\n",
      "Epoch 1001/5000 running accumulative loss nan --time-- 0.3507850170135498\n",
      "Epoch 1501/5000 running accumulative loss nan --time-- 0.3382587432861328\n",
      "Epoch 2001/5000 running accumulative loss nan --time-- 0.3327453136444092\n",
      "Epoch 2501/5000 running accumulative loss nan --time-- 0.33321380615234375\n",
      "Epoch 3001/5000 running accumulative loss nan --time-- 0.34404611587524414\n",
      "Epoch 3501/5000 running accumulative loss nan --time-- 0.33301401138305664\n",
      "Epoch 4001/5000 running accumulative loss nan --time-- 0.3359675407409668\n",
      "Epoch 4501/5000 running accumulative loss nan --time-- 0.3327476978302002\n"
     ]
    },
    {
     "name": "stderr",
     "output_type": "stream",
     "text": [
      "[W 2024-05-04 07:51:42,449] Trial 16 failed with parameters: {'n_layers': 4, 'activation': 'elu', 'weight_init': 'xavier', 'n_units_l0': 255, 'n_units_l1': 654, 'n_units_l2': 939, 'n_units_l3': 62, 'batch_norm': False, 'optimizer': 'SGD', 'learning_rate': 0.047153898552321445, 'regularization': 'none', 'reg_strength': 0.0006041762339584061, 'batch_size': 113} because of the following error: The value nan is not acceptable.\n",
      "[W 2024-05-04 07:51:42,449] Trial 16 failed with value nan.\n"
     ]
    },
    {
     "name": "stdout",
     "output_type": "stream",
     "text": [
      "1678.075189590454\n",
      "Epoch 1/5000 running accumulative loss nan --time-- 0.34422755241394043\n",
      "Epoch 501/5000 running accumulative loss nan --time-- 0.3448212146759033\n",
      "Epoch 1001/5000 running accumulative loss nan --time-- 0.3414158821105957\n",
      "Epoch 1501/5000 running accumulative loss nan --time-- 0.3503093719482422\n",
      "Epoch 2001/5000 running accumulative loss nan --time-- 0.35650014877319336\n",
      "Epoch 2501/5000 running accumulative loss nan --time-- 0.34481120109558105\n",
      "Epoch 3001/5000 running accumulative loss nan --time-- 0.3397693634033203\n",
      "Epoch 3501/5000 running accumulative loss nan --time-- 0.33808255195617676\n",
      "Epoch 4001/5000 running accumulative loss nan --time-- 0.3383157253265381\n",
      "Epoch 4501/5000 running accumulative loss nan --time-- 0.34024930000305176\n"
     ]
    },
    {
     "name": "stderr",
     "output_type": "stream",
     "text": [
      "[W 2024-05-04 08:20:17,860] Trial 17 failed with parameters: {'n_layers': 4, 'activation': 'elu', 'weight_init': 'xavier', 'n_units_l0': 282, 'n_units_l1': 657, 'n_units_l2': 953, 'n_units_l3': 43, 'batch_norm': False, 'optimizer': 'SGD', 'learning_rate': 0.04697887345101985, 'regularization': 'none', 'reg_strength': 0.0006113672173594133, 'batch_size': 112} because of the following error: The value nan is not acceptable.\n",
      "[W 2024-05-04 08:20:17,861] Trial 17 failed with value nan.\n"
     ]
    },
    {
     "name": "stdout",
     "output_type": "stream",
     "text": [
      "1715.1924068927765\n",
      "Epoch 1/5000 running accumulative loss nan --time-- 0.3308601379394531\n",
      "Epoch 501/5000 running accumulative loss nan --time-- 0.33492207527160645\n",
      "Epoch 1001/5000 running accumulative loss nan --time-- 0.325122594833374\n",
      "Epoch 1501/5000 running accumulative loss nan --time-- 0.3206486701965332\n",
      "Epoch 2001/5000 running accumulative loss nan --time-- 0.3361382484436035\n",
      "Epoch 2501/5000 running accumulative loss nan --time-- 0.32079458236694336\n",
      "Epoch 3001/5000 running accumulative loss nan --time-- 0.32288241386413574\n",
      "Epoch 3501/5000 running accumulative loss nan --time-- 0.32427072525024414\n",
      "Epoch 4001/5000 running accumulative loss nan --time-- 0.3247849941253662\n",
      "Epoch 4501/5000 running accumulative loss nan --time-- 0.32620954513549805\n"
     ]
    },
    {
     "name": "stderr",
     "output_type": "stream",
     "text": [
      "[W 2024-05-04 08:47:28,388] Trial 18 failed with parameters: {'n_layers': 4, 'activation': 'elu', 'weight_init': 'xavier', 'n_units_l0': 292, 'n_units_l1': 588, 'n_units_l2': 985, 'n_units_l3': 48, 'batch_norm': False, 'optimizer': 'SGD', 'learning_rate': 0.04764597165377339, 'regularization': 'none', 'reg_strength': 0.0006492233170615979, 'batch_size': 122} because of the following error: The value nan is not acceptable.\n",
      "[W 2024-05-04 08:47:28,389] Trial 18 failed with value nan.\n"
     ]
    },
    {
     "name": "stdout",
     "output_type": "stream",
     "text": [
      "1630.3045563697815\n",
      "Epoch 1/5000 running accumulative loss nan --time-- 0.36255836486816406\n",
      "Epoch 501/5000 running accumulative loss nan --time-- 0.36173343658447266\n",
      "Epoch 1001/5000 running accumulative loss nan --time-- 0.36118149757385254\n",
      "Epoch 1501/5000 running accumulative loss nan --time-- 0.35948801040649414\n",
      "Epoch 2001/5000 running accumulative loss nan --time-- 0.36107397079467773\n",
      "Epoch 2501/5000 running accumulative loss nan --time-- 0.3658754825592041\n",
      "Epoch 3001/5000 running accumulative loss nan --time-- 0.3628816604614258\n",
      "Epoch 3501/5000 running accumulative loss nan --time-- 0.35987281799316406\n",
      "Epoch 4001/5000 running accumulative loss nan --time-- 0.3612172603607178\n",
      "Epoch 4501/5000 running accumulative loss nan --time-- 0.37903833389282227\n"
     ]
    },
    {
     "name": "stderr",
     "output_type": "stream",
     "text": [
      "[W 2024-05-04 09:17:44,046] Trial 19 failed with parameters: {'n_layers': 4, 'activation': 'elu', 'weight_init': 'xavier', 'n_units_l0': 290, 'n_units_l1': 651, 'n_units_l2': 987, 'n_units_l3': 32, 'batch_norm': False, 'optimizer': 'SGD', 'learning_rate': 0.04606153466436476, 'regularization': 'none', 'reg_strength': 0.0006022373469148489, 'batch_size': 101} because of the following error: The value nan is not acceptable.\n",
      "[W 2024-05-04 09:17:44,046] Trial 19 failed with value nan.\n"
     ]
    },
    {
     "name": "stdout",
     "output_type": "stream",
     "text": [
      "1815.4350802898407\n",
      "Epoch 1/5000 running accumulative loss nan --time-- 0.3596162796020508\n",
      "Epoch 501/5000 running accumulative loss nan --time-- 0.3614225387573242\n",
      "Epoch 1001/5000 running accumulative loss nan --time-- 0.34246230125427246\n",
      "Epoch 1501/5000 running accumulative loss nan --time-- 0.3477327823638916\n",
      "Epoch 2001/5000 running accumulative loss nan --time-- 0.35877180099487305\n",
      "Epoch 2501/5000 running accumulative loss nan --time-- 0.3454775810241699\n",
      "Epoch 3001/5000 running accumulative loss nan --time-- 0.3411717414855957\n",
      "Epoch 3501/5000 running accumulative loss nan --time-- 0.34103941917419434\n",
      "Epoch 4001/5000 running accumulative loss nan --time-- 0.3410196304321289\n",
      "Epoch 4501/5000 running accumulative loss nan --time-- 0.34230947494506836\n"
     ]
    },
    {
     "name": "stderr",
     "output_type": "stream",
     "text": [
      "[W 2024-05-04 09:46:33,544] Trial 20 failed with parameters: {'n_layers': 4, 'activation': 'elu', 'weight_init': 'xavier', 'n_units_l0': 294, 'n_units_l1': 613, 'n_units_l2': 995, 'n_units_l3': 32, 'batch_norm': False, 'optimizer': 'SGD', 'learning_rate': 0.04699793074156761, 'regularization': 'none', 'reg_strength': 0.0005959640600540963, 'batch_size': 111} because of the following error: The value nan is not acceptable.\n",
      "[W 2024-05-04 09:46:33,545] Trial 20 failed with value nan.\n"
     ]
    },
    {
     "name": "stdout",
     "output_type": "stream",
     "text": [
      "1729.2737045288086\n",
      "Epoch 1/5000 running accumulative loss nan --time-- 0.35825657844543457\n",
      "Epoch 501/5000 running accumulative loss nan --time-- 0.34718799591064453\n",
      "Epoch 1001/5000 running accumulative loss nan --time-- 0.3423755168914795\n",
      "Epoch 1501/5000 running accumulative loss nan --time-- 0.3444705009460449\n",
      "Epoch 2001/5000 running accumulative loss nan --time-- 0.34638166427612305\n",
      "Epoch 2501/5000 running accumulative loss nan --time-- 0.3453338146209717\n",
      "Epoch 3001/5000 running accumulative loss nan --time-- 0.3445754051208496\n",
      "Epoch 3501/5000 running accumulative loss nan --time-- 0.3476557731628418\n",
      "Epoch 4001/5000 running accumulative loss nan --time-- 0.34184813499450684\n",
      "Epoch 4501/5000 running accumulative loss nan --time-- 0.3470795154571533\n"
     ]
    },
    {
     "name": "stderr",
     "output_type": "stream",
     "text": [
      "[W 2024-05-04 10:15:24,351] Trial 21 failed with parameters: {'n_layers': 4, 'activation': 'elu', 'weight_init': 'xavier', 'n_units_l0': 285, 'n_units_l1': 612, 'n_units_l2': 983, 'n_units_l3': 76, 'batch_norm': False, 'optimizer': 'SGD', 'learning_rate': 0.04994322773372571, 'regularization': 'none', 'reg_strength': 0.0006087812332310385, 'batch_size': 110} because of the following error: The value nan is not acceptable.\n",
      "[W 2024-05-04 10:15:24,351] Trial 21 failed with value nan.\n"
     ]
    },
    {
     "name": "stdout",
     "output_type": "stream",
     "text": [
      "1730.5758953094482\n",
      "Epoch 1/5000 running accumulative loss nan --time-- 0.49228358268737793\n",
      "Epoch 501/5000 running accumulative loss nan --time-- 0.4932136535644531\n",
      "Epoch 1001/5000 running accumulative loss nan --time-- 0.4930720329284668\n",
      "Epoch 1501/5000 running accumulative loss nan --time-- 0.4928286075592041\n",
      "Epoch 2001/5000 running accumulative loss nan --time-- 0.4938962459564209\n",
      "Epoch 2501/5000 running accumulative loss nan --time-- 0.49364352226257324\n",
      "Epoch 3001/5000 running accumulative loss nan --time-- 0.49365234375\n",
      "Epoch 3501/5000 running accumulative loss nan --time-- 0.4932279586791992\n",
      "Epoch 4001/5000 running accumulative loss nan --time-- 0.49283671379089355\n",
      "Epoch 4501/5000 running accumulative loss nan --time-- 0.49404191970825195\n"
     ]
    },
    {
     "name": "stderr",
     "output_type": "stream",
     "text": [
      "[W 2024-05-04 10:56:32,099] Trial 22 failed with parameters: {'n_layers': 4, 'activation': 'elu', 'weight_init': 'xavier', 'n_units_l0': 990, 'n_units_l1': 566, 'n_units_l2': 951, 'n_units_l3': 20, 'batch_norm': False, 'optimizer': 'SGD', 'learning_rate': 0.047470858220546225, 'regularization': 'none', 'reg_strength': 0.000611753560073267, 'batch_size': 109} because of the following error: The value nan is not acceptable.\n",
      "[W 2024-05-04 10:56:32,100] Trial 22 failed with value nan.\n"
     ]
    },
    {
     "name": "stdout",
     "output_type": "stream",
     "text": [
      "2467.1160645484924\n",
      "Epoch 1/5000 running accumulative loss nan --time-- 0.3604464530944824\n",
      "Epoch 501/5000 running accumulative loss nan --time-- 0.3518822193145752\n",
      "Epoch 1001/5000 running accumulative loss nan --time-- 0.3653557300567627\n",
      "Epoch 1501/5000 running accumulative loss nan --time-- 0.35088229179382324\n",
      "Epoch 2001/5000 running accumulative loss nan --time-- 0.3474247455596924\n",
      "Epoch 2501/5000 running accumulative loss nan --time-- 0.3520088195800781\n",
      "Epoch 3001/5000 running accumulative loss nan --time-- 0.35165834426879883\n",
      "Epoch 3501/5000 running accumulative loss nan --time-- 0.35042595863342285\n",
      "Epoch 4001/5000 running accumulative loss nan --time-- 0.36066412925720215\n",
      "Epoch 4501/5000 running accumulative loss nan --time-- 0.3487842082977295\n"
     ]
    },
    {
     "name": "stderr",
     "output_type": "stream",
     "text": [
      "[W 2024-05-04 11:26:00,434] Trial 23 failed with parameters: {'n_layers': 4, 'activation': 'elu', 'weight_init': 'xavier', 'n_units_l0': 294, 'n_units_l1': 656, 'n_units_l2': 967, 'n_units_l3': 18, 'batch_norm': False, 'optimizer': 'SGD', 'learning_rate': 0.046595644345535425, 'regularization': 'none', 'reg_strength': 0.0005956133625827039, 'batch_size': 106} because of the following error: The value nan is not acceptable.\n",
      "[W 2024-05-04 11:26:00,434] Trial 23 failed with value nan.\n"
     ]
    },
    {
     "name": "stdout",
     "output_type": "stream",
     "text": [
      "1768.1063480377197\n",
      "Epoch 1/5000 running accumulative loss nan --time-- 0.3369300365447998\n",
      "Epoch 501/5000 running accumulative loss nan --time-- 0.3350059986114502\n",
      "Epoch 1001/5000 running accumulative loss nan --time-- 0.33367347717285156\n",
      "Epoch 1501/5000 running accumulative loss nan --time-- 0.3338603973388672\n",
      "Epoch 2001/5000 running accumulative loss nan --time-- 0.3339245319366455\n",
      "Epoch 2501/5000 running accumulative loss nan --time-- 0.3366973400115967\n",
      "Epoch 3001/5000 running accumulative loss nan --time-- 0.33292174339294434\n",
      "Epoch 3501/5000 running accumulative loss nan --time-- 0.3308532238006592\n",
      "Epoch 4001/5000 running accumulative loss nan --time-- 0.3346066474914551\n",
      "Epoch 4501/5000 running accumulative loss nan --time-- 0.3343358039855957\n"
     ]
    },
    {
     "name": "stderr",
     "output_type": "stream",
     "text": [
      "[W 2024-05-04 11:53:58,810] Trial 24 failed with parameters: {'n_layers': 4, 'activation': 'elu', 'weight_init': 'xavier', 'n_units_l0': 285, 'n_units_l1': 686, 'n_units_l2': 952, 'n_units_l3': 57, 'batch_norm': False, 'optimizer': 'SGD', 'learning_rate': 0.049093371291700716, 'regularization': 'none', 'reg_strength': 0.0006150713231070299, 'batch_size': 116} because of the following error: The value nan is not acceptable.\n",
      "[W 2024-05-04 11:53:58,811] Trial 24 failed with value nan.\n"
     ]
    },
    {
     "name": "stdout",
     "output_type": "stream",
     "text": [
      "1678.1464264392853\n",
      "Epoch 1/5000 running accumulative loss nan --time-- 0.7743732929229736\n",
      "Epoch 501/5000 running accumulative loss nan --time-- 0.7758076190948486\n",
      "Epoch 1001/5000 running accumulative loss nan --time-- 0.7754034996032715\n",
      "Epoch 1501/5000 running accumulative loss nan --time-- 0.7750942707061768\n",
      "Epoch 2001/5000 running accumulative loss nan --time-- 0.7752702236175537\n",
      "Epoch 2501/5000 running accumulative loss nan --time-- 0.7764480113983154\n",
      "Epoch 3001/5000 running accumulative loss nan --time-- 0.7772998809814453\n",
      "Epoch 3501/5000 running accumulative loss nan --time-- 0.7749543190002441\n",
      "Epoch 4001/5000 running accumulative loss nan --time-- 0.7753458023071289\n",
      "Epoch 4501/5000 running accumulative loss nan --time-- 0.7757279872894287\n"
     ]
    },
    {
     "name": "stderr",
     "output_type": "stream",
     "text": [
      "[W 2024-05-04 12:58:37,092] Trial 25 failed with parameters: {'n_layers': 4, 'activation': 'elu', 'weight_init': 'xavier', 'n_units_l0': 991, 'n_units_l1': 665, 'n_units_l2': 990, 'n_units_l3': 25, 'batch_norm': False, 'optimizer': 'SGD', 'learning_rate': 0.04665196612353358, 'regularization': 'none', 'reg_strength': 0.00058911069407774, 'batch_size': 98} because of the following error: The value nan is not acceptable.\n",
      "[W 2024-05-04 12:58:37,092] Trial 25 failed with value nan.\n"
     ]
    },
    {
     "name": "stdout",
     "output_type": "stream",
     "text": [
      "3877.6463811397552\n",
      "Epoch 1/5000 running accumulative loss nan --time-- 0.3437540531158447\n",
      "Epoch 501/5000 running accumulative loss nan --time-- 0.33719730377197266\n",
      "Epoch 1001/5000 running accumulative loss nan --time-- 0.33901286125183105\n",
      "Epoch 1501/5000 running accumulative loss nan --time-- 0.33899497985839844\n",
      "Epoch 2001/5000 running accumulative loss nan --time-- 0.34135890007019043\n",
      "Epoch 2501/5000 running accumulative loss nan --time-- 0.34763121604919434\n",
      "Epoch 3001/5000 running accumulative loss nan --time-- 0.3379020690917969\n",
      "Epoch 3501/5000 running accumulative loss nan --time-- 0.341327428817749\n",
      "Epoch 4001/5000 running accumulative loss nan --time-- 0.33917665481567383\n",
      "Epoch 4501/5000 running accumulative loss nan --time-- 0.3412144184112549\n"
     ]
    },
    {
     "name": "stderr",
     "output_type": "stream",
     "text": [
      "[W 2024-05-04 13:27:07,394] Trial 26 failed with parameters: {'n_layers': 4, 'activation': 'elu', 'weight_init': 'xavier', 'n_units_l0': 291, 'n_units_l1': 662, 'n_units_l2': 987, 'n_units_l3': 38, 'batch_norm': False, 'optimizer': 'SGD', 'learning_rate': 0.04586229012001207, 'regularization': 'none', 'reg_strength': 0.0006054345290863561, 'batch_size': 113} because of the following error: The value nan is not acceptable.\n",
      "[W 2024-05-04 13:27:07,395] Trial 26 failed with value nan.\n"
     ]
    },
    {
     "name": "stdout",
     "output_type": "stream",
     "text": [
      "1710.07701587677\n",
      "Epoch 1/5000 running accumulative loss nan --time-- 0.3284757137298584\n",
      "Epoch 501/5000 running accumulative loss nan --time-- 0.32578063011169434\n",
      "Epoch 1001/5000 running accumulative loss nan --time-- 0.32799673080444336\n",
      "Epoch 1501/5000 running accumulative loss nan --time-- 0.3272433280944824\n",
      "Epoch 2001/5000 running accumulative loss nan --time-- 0.3267972469329834\n",
      "Epoch 2501/5000 running accumulative loss nan --time-- 0.32404232025146484\n",
      "Epoch 3001/5000 running accumulative loss nan --time-- 0.343109130859375\n",
      "Epoch 3501/5000 running accumulative loss nan --time-- 0.3287196159362793\n",
      "Epoch 4001/5000 running accumulative loss nan --time-- 0.32476043701171875\n",
      "Epoch 4501/5000 running accumulative loss nan --time-- 0.328723669052124\n"
     ]
    },
    {
     "name": "stderr",
     "output_type": "stream",
     "text": [
      "[W 2024-05-04 13:54:29,312] Trial 27 failed with parameters: {'n_layers': 4, 'activation': 'elu', 'weight_init': 'xavier', 'n_units_l0': 308, 'n_units_l1': 612, 'n_units_l2': 990, 'n_units_l3': 15, 'batch_norm': False, 'optimizer': 'SGD', 'learning_rate': 0.04419763284406943, 'regularization': 'none', 'reg_strength': 0.0006126865454925481, 'batch_size': 119} because of the following error: The value nan is not acceptable.\n",
      "[W 2024-05-04 13:54:29,313] Trial 27 failed with value nan.\n"
     ]
    },
    {
     "name": "stdout",
     "output_type": "stream",
     "text": [
      "1641.6747772693634\n",
      "Epoch 1/5000 running accumulative loss nan --time-- 0.3420908451080322\n",
      "Epoch 501/5000 running accumulative loss nan --time-- 0.3412137031555176\n",
      "Epoch 1001/5000 running accumulative loss nan --time-- 0.3498225212097168\n",
      "Epoch 1501/5000 running accumulative loss nan --time-- 0.3392908573150635\n",
      "Epoch 2001/5000 running accumulative loss nan --time-- 0.3440217971801758\n",
      "Epoch 2501/5000 running accumulative loss nan --time-- 0.3402364253997803\n",
      "Epoch 3001/5000 running accumulative loss nan --time-- 0.3411591053009033\n",
      "Epoch 3501/5000 running accumulative loss nan --time-- 0.3391692638397217\n",
      "Epoch 4001/5000 running accumulative loss nan --time-- 0.3423452377319336\n",
      "Epoch 4501/5000 running accumulative loss nan --time-- 0.340256929397583\n"
     ]
    },
    {
     "name": "stderr",
     "output_type": "stream",
     "text": [
      "[W 2024-05-04 14:23:02,477] Trial 28 failed with parameters: {'n_layers': 4, 'activation': 'elu', 'weight_init': 'xavier', 'n_units_l0': 264, 'n_units_l1': 644, 'n_units_l2': 992, 'n_units_l3': 10, 'batch_norm': False, 'optimizer': 'SGD', 'learning_rate': 0.026253877379302043, 'regularization': 'none', 'reg_strength': 0.0005942651746731975, 'batch_size': 111} because of the following error: The value nan is not acceptable.\n",
      "[W 2024-05-04 14:23:02,477] Trial 28 failed with value nan.\n"
     ]
    },
    {
     "name": "stdout",
     "output_type": "stream",
     "text": [
      "1712.9561400413513\n",
      "Epoch 1/5000 running accumulative loss nan --time-- 0.3412332534790039\n",
      "Epoch 501/5000 running accumulative loss nan --time-- 0.3413536548614502\n",
      "Epoch 1001/5000 running accumulative loss nan --time-- 0.33977317810058594\n",
      "Epoch 1501/5000 running accumulative loss nan --time-- 0.3400554656982422\n",
      "Epoch 2001/5000 running accumulative loss nan --time-- 0.34465909004211426\n",
      "Epoch 2501/5000 running accumulative loss nan --time-- 0.34215688705444336\n",
      "Epoch 3001/5000 running accumulative loss nan --time-- 0.33856916427612305\n",
      "Epoch 3501/5000 running accumulative loss nan --time-- 0.3426997661590576\n",
      "Epoch 4001/5000 running accumulative loss nan --time-- 0.33905744552612305\n",
      "Epoch 4501/5000 running accumulative loss nan --time-- 0.33820438385009766\n"
     ]
    },
    {
     "name": "stderr",
     "output_type": "stream",
     "text": [
      "[W 2024-05-04 14:51:34,239] Trial 29 failed with parameters: {'n_layers': 4, 'activation': 'elu', 'weight_init': 'xavier', 'n_units_l0': 302, 'n_units_l1': 674, 'n_units_l2': 989, 'n_units_l3': 67, 'batch_norm': False, 'optimizer': 'SGD', 'learning_rate': 0.023159683036357483, 'regularization': 'none', 'reg_strength': 0.0006202845972401046, 'batch_size': 112} because of the following error: The value nan is not acceptable.\n",
      "[W 2024-05-04 14:51:34,240] Trial 29 failed with value nan.\n"
     ]
    },
    {
     "name": "stdout",
     "output_type": "stream",
     "text": [
      "1711.5302817821503\n"
     ]
    }
   ],
   "source": [
    "# Make some empty lists for use in plotting metrics for each parameter\n",
    "trialNum = []\n",
    "v = 0\n",
    "AllLoss = []\n",
    "NumLayers = []\n",
    "ActivFunc = []\n",
    "OptimFunc = []\n",
    "LearnRate = []\n",
    "BatchSize = []\n",
    "TotalTime = []\n",
    "NodesPerLayer = []  # New list to record the number of nodes per layer\n",
    "Initializer = []  # New list to record the weight initialization method\n",
    "BatchNorm = []  # New list to record whether batch normalization is used\n",
    "RegularizationType = []  # New list to record the type of regularization used\n",
    "\n",
    "# 1. Define an objective function to be minimized.\n",
    "def objective(trial):\n",
    "\n",
    "    # 2. Suggest values of the hyperparameters using a trial object.\n",
    "    n_layers = trial.suggest_int('n_layers', 1, 4)\n",
    "    \n",
    "    ## Make some empty variables for use in model building and to record variables for plotting performance per metric\n",
    "    layers = []\n",
    "\n",
    "    activation = trial.suggest_categorical('activation', ['relu', 'leaky_relu', 'elu'])\n",
    "    \n",
    "    # Add weight initialization as a hyperparameter\n",
    "    weight_init = trial.suggest_categorical('weight_init', ['he', 'xavier', 'normal'])\n",
    "    Initializer.append(weight_init)\n",
    "\n",
    "    in_features = 46000\n",
    "    nodes_per_layer = []  # Record the number of nodes per layer\n",
    "    \n",
    "    for i in range(n_layers):\n",
    "        out_features = trial.suggest_int(f'n_units_l{i}', 10, 1000)\n",
    "        linear_layer = torch.nn.Linear(in_features, out_features)\n",
    "        nodes_per_layer.append(out_features)  # Record the number of nodes for this layer\n",
    "        \n",
    "        # Initialize weights based on the selected method\n",
    "        if weight_init == 'he':\n",
    "            nn.init.kaiming_normal_(linear_layer.weight, mode='fan_out', nonlinearity='relu')\n",
    "        elif weight_init == 'xavier':\n",
    "            nn.init.xavier_normal_(linear_layer.weight)\n",
    "        else:\n",
    "            nn.init.normal_(linear_layer.weight, mean=0, std=0.01)  # Standard normal initialization\n",
    "        \n",
    "        layers.append(linear_layer)\n",
    "\n",
    "        if activation == 'relu':\n",
    "            layers.append(torch.nn.ReLU())\n",
    "        elif activation == 'leaky_relu':\n",
    "            layers.append(torch.nn.LeakyReLU())\n",
    "        elif activation == 'elu':\n",
    "            layers.append(torch.nn.ELU())\n",
    "        \n",
    "        in_features = out_features\n",
    "    \n",
    "    # Add batch normalization layer\n",
    "    if trial.suggest_categorical('batch_norm', [True, False]):\n",
    "        layers.append(nn.BatchNorm1d(out_features))\n",
    "        BatchNorm.append(True)\n",
    "    else:\n",
    "        BatchNorm.append(False)\n",
    "    \n",
    "\n",
    "    \n",
    "    # Add the final layer with output nodes corresponding to the number of analytes\n",
    "    layers.append(torch.nn.Linear(in_features, 44))\n",
    "\n",
    "    model = torch.nn.Sequential(*layers)\n",
    "    model.to(device)  # Move the model to the GPU    \n",
    "    \n",
    "     # Train and evaluate the model to obtain the loss\n",
    "    optimizer_name = trial.suggest_categorical(\"optimizer\", [\"Adam\", \"RMSprop\", \"SGD\"])\n",
    "    learning_rate = trial.suggest_float('learning_rate', 1e-5, 1e-1)\n",
    "    \n",
    "    \n",
    "    # Add regularization\n",
    "    reg_type = trial.suggest_categorical('regularization', ['none', 'l1', 'l2'])\n",
    "    reg_strength = trial.suggest_float('reg_strength', 1e-6, 1e-3)\n",
    "    RegularizationType.append(reg_type)\n",
    "    # Add regularization to the optimizer\n",
    "    if reg_type == 'l1':\n",
    "        optimizer = torch.optim.Adam(model.parameters(), lr=learning_rate, weight_decay=reg_strength)\n",
    "    elif reg_type == 'l2':\n",
    "        optimizer = torch.optim.Adam(model.parameters(), lr=learning_rate, weight_decay=reg_strength)\n",
    "    else:\n",
    "        optimizer = torch.optim.Adam(model.parameters(), lr=learning_rate)\n",
    "        \n",
    "        \n",
    "    ## Split training data appropriately, selecting the batch size as a hyperparameter\n",
    "    bs = trial.suggest_int('batch_size', 16, 256)\n",
    "    train_loader = torch.utils.data.DataLoader(datasets, batch_size=bs, shuffle=True)\n",
    "    \n",
    "    num_epochs = 5000  # Number of epochs (you can adjust as needed)\n",
    "    \n",
    "\n",
    "\n",
    "    if optimizer_name == \"Adam\":\n",
    "        optimizer = torch.optim.Adam(model.parameters(), lr=learning_rate)\n",
    "    elif optimizer_name == \"RMSprop\":\n",
    "        optimizer = torch.optim.RMSprop(model.parameters(), lr=learning_rate)\n",
    "    else:\n",
    "        optimizer_name == \"SGD\"\n",
    "        optimizer = torch.optim.SGD(model.parameters(), lr=learning_rate)\n",
    "\n",
    "    criterion = torch.nn.MSELoss()\n",
    "\n",
    "    start = time.time()\n",
    "    for epoch in range(num_epochs):\n",
    "        start2 = time.time()\n",
    "        running_loss = 0.\n",
    "        for inputs, labels in train_loader:\n",
    "            inputs, labels = inputs.to(device), labels.to(device)  # Move input data to the GPU\n",
    "            outputs = model(inputs)\n",
    "            loss = criterion(outputs, labels)  # Make sure labels are properly loaded and passed here\n",
    "            optimizer.zero_grad()\n",
    "            loss.backward()\n",
    "            running_loss += loss.item()\n",
    "            optimizer.step()\n",
    "\n",
    "        if epoch % 500 == 0:\n",
    "            end_time2 = time.time()\n",
    "            print(f'Epoch {epoch + 1}/{num_epochs} running accumulative loss {running_loss:.3f}', \"--time--\", end_time2-start2)\n",
    "\n",
    "        # Handle pruning based on the intermediate value. Current implementation isn't working.\n",
    "        if trial.should_prune():\n",
    "            raise optuna.exceptions.TrialPruned()  \n",
    "    end_time = time.time()\n",
    "    print(end_time - start)   \n",
    "    \n",
    "    # Make a variable for saving the best model (currently isn't saving the best model, but the last model)\n",
    "    best_loss = 100000000000000\n",
    "    if running_loss < best_loss:\n",
    "        best_loss = running_loss\n",
    "        globals()[\"best_model\"] = model\n",
    "        \n",
    "    # Make some variables for plotting progress later\n",
    "    globals()['v'] += 1\n",
    "    trialNum.append(v)\n",
    "    AllLoss.append(running_loss)\n",
    "    NumLayers.append(n_layers)\n",
    "    ActivFunc.append(activation)\n",
    "    OptimFunc.append(optimizer_name)\n",
    "    LearnRate.append(learning_rate)\n",
    "    BatchSize.append(bs)\n",
    "    TotalTime.append(end_time2-start2)\n",
    "    NodesPerLayer.append(nodes_per_layer)  # Record the number of nodes per layer\n",
    "    \n",
    "    return running_loss\n",
    "\n",
    "\n",
    "# 3. Create a study object and optimize the objective function.\n",
    "study = optuna.create_study(direction='minimize')\n",
    "study.optimize(objective, n_trials=30)"
   ]
  },
  {
   "cell_type": "code",
   "execution_count": 66,
   "metadata": {},
   "outputs": [
    {
     "name": "stdout",
     "output_type": "stream",
     "text": [
      "    Hyperparameter       Value\n",
      "0         n_layers           1\n",
      "1       activation  leaky_relu\n",
      "2      weight_init      normal\n",
      "3       n_units_l0         139\n",
      "4       batch_norm       False\n",
      "5        optimizer        Adam\n",
      "6    learning_rate    0.046543\n",
      "7   regularization          l2\n",
      "8     reg_strength    0.000993\n",
      "9       batch_size         213\n",
      "10       Best Loss   82.722287\n"
     ]
    }
   ],
   "source": [
    "# Get the best parameters and best value from the study\n",
    "best_params = study.best_params\n",
    "best_value = study.best_value\n",
    "\n",
    "# Create a dictionary to store hyperparameters and best loss\n",
    "data = {\n",
    "    'Hyperparameter': list(best_params.keys()) + ['Best Loss'],\n",
    "    'Value': list(best_params.values()) + [best_value]\n",
    "}\n",
    "\n",
    "# Create a pandas DataFrame\n",
    "df = pd.DataFrame(data)\n",
    "\n",
    "# Display the DataFrame\n",
    "print(df)"
   ]
  },
  {
   "cell_type": "code",
   "execution_count": 67,
   "metadata": {},
   "outputs": [],
   "source": [
    "# Access the best model obtained during the study\n",
    "best_model = globals()[\"best_model\"]"
   ]
  },
  {
   "cell_type": "code",
   "execution_count": 76,
   "metadata": {},
   "outputs": [
    {
     "data": {
      "text/plain": [
       "tensor([19.0684, 19.2711, 19.1042, 19.0251, 19.4245, 19.0373, 18.9473, 18.8617,\n",
       "        19.1224, 19.0021, 19.1271, 18.8651, 19.0853, 18.8718, 18.9730, 19.2432,\n",
       "        18.8847, 18.9802, 19.1069, 19.1229, 19.0175, 19.0215, 18.9735, 18.9637,\n",
       "        18.6799, 19.2983, 18.8779, 19.1631, 19.0312, 18.7834, 19.2884, 19.3326,\n",
       "        19.0210, 18.8603, 19.1570, 18.8320, 19.2733, 18.8424, 19.0642, 18.7437,\n",
       "        18.7150, 18.7426, 18.8634, 18.8091], device='cuda:0',\n",
       "       grad_fn=<ViewBackward0>)"
      ]
     },
     "execution_count": 76,
     "metadata": {},
     "output_type": "execute_result"
    }
   ],
   "source": [
    "best_model(X_train[3])"
   ]
  },
  {
   "cell_type": "code",
   "execution_count": 75,
   "metadata": {},
   "outputs": [
    {
     "data": {
      "text/plain": [
       "tensor([34.3015,  3.5048, 45.4147, 41.3534, 43.3673, 19.9092, 46.3570, 23.6250,\n",
       "        37.8267, 13.1179, 39.6816, 47.5548, 42.5273, 47.2326,  4.5413, 25.2617,\n",
       "         9.1661, 28.1196, 12.8893, 20.9377, 17.5060, 21.9174, 31.2053, 21.0483,\n",
       "        35.2454,  1.9028, 21.9590, 47.9002, 48.6585, 45.5825,  8.0101, 15.6699,\n",
       "         2.8678, 23.2318, 27.1834, 34.7590,  3.1937, 18.3994, 48.7582, 36.1101,\n",
       "        12.2238,  4.9403,  1.9037, 13.8737], device='cuda:0')"
      ]
     },
     "execution_count": 75,
     "metadata": {},
     "output_type": "execute_result"
    }
   ],
   "source": [
    "y_train[3]"
   ]
  },
  {
   "cell_type": "code",
   "execution_count": null,
   "metadata": {},
   "outputs": [],
   "source": []
  },
  {
   "cell_type": "code",
   "execution_count": null,
   "metadata": {},
   "outputs": [],
   "source": []
  },
  {
   "cell_type": "code",
   "execution_count": null,
   "metadata": {},
   "outputs": [],
   "source": []
  },
  {
   "cell_type": "code",
   "execution_count": null,
   "metadata": {},
   "outputs": [],
   "source": []
  },
  {
   "cell_type": "code",
   "execution_count": null,
   "metadata": {},
   "outputs": [],
   "source": []
  },
  {
   "cell_type": "code",
   "execution_count": null,
   "metadata": {},
   "outputs": [],
   "source": []
  },
  {
   "cell_type": "code",
   "execution_count": null,
   "metadata": {},
   "outputs": [],
   "source": []
  },
  {
   "cell_type": "code",
   "execution_count": null,
   "metadata": {},
   "outputs": [],
   "source": []
  },
  {
   "cell_type": "code",
   "execution_count": null,
   "metadata": {},
   "outputs": [],
   "source": []
  },
  {
   "cell_type": "code",
   "execution_count": 117,
   "metadata": {},
   "outputs": [],
   "source": [
    "# Switch to directory for saving model parameters\n",
    "os.chdir('/home/htjhnson/Desktop/DL-NMR-Optimization/SavedParamsAndTrainingMetrics')\n",
    "np.save(ModelName + \"_TrainLoss.npy\", train_losses)\n",
    "np.save(ModelName + \"_TestLoss.npy\", test_losses)"
   ]
  },
  {
   "cell_type": "code",
   "execution_count": 118,
   "metadata": {},
   "outputs": [
    {
     "data": {
      "image/png": "[encoded data removed]",
      "text/plain": [
       "<Figure size 3000x2000 with 1 Axes>"
      ]
     },
     "metadata": {},
     "output_type": "display_data"
    }
   ],
   "source": [
    "\n",
    "# Plot the data\n",
    "plt.plot(np.arange(num_epochs)+1, train_losses, label='Train Loss')\n",
    "plt.plot(np.arange(num_epochs)+1, test_losses, label='Test Loss')\n",
    "\n",
    "# Track the previous minimum test loss and its index\n",
    "prev_min_loss = test_losses[0]\n",
    "prev_min_index = 0\n",
    "\n",
    "# Annotate each local minimum test loss with arrows\n",
    "for idx, loss in enumerate(test_losses[1:], start=1):\n",
    "    if loss < prev_min_loss:\n",
    "        plt.annotate('Min', xy=(idx+1, loss), xytext=(idx+1, loss + 5000),\n",
    "                     arrowprops=dict(facecolor='red', shrink=0.05))\n",
    "        prev_min_loss = loss\n",
    "        prev_min_index = idx\n",
    "        \n",
    "# Add x and y labels\n",
    "plt.xlabel('Epochs')\n",
    "plt.ylabel('Loss (MSE)')\n",
    "\n",
    "# Change axis size\n",
    "plt.rcParams['axes.labelsize'] = 45  # Change label font size\n",
    "\n",
    "# Change tick size\n",
    "plt.tick_params(axis='x', labelsize=30)  # Change tick size for x-axis\n",
    "plt.tick_params(axis='y', labelsize=30)  # Change tick size for y-axis\n",
    "\n",
    "# Plot legend, and display figure\n",
    "plt.legend(fontsize = 40)\n",
    "plt.show()"
   ]
  },
  {
   "cell_type": "code",
   "execution_count": 119,
   "metadata": {},
   "outputs": [
    {
     "data": {
      "text/plain": [
       "NMR_Model_Aq(\n",
       "  (lin1): Linear(in_features=46000, out_features=200, bias=True)\n",
       "  (relu1): ReLU()\n",
       "  (lin2): Linear(in_features=200, out_features=58, bias=True)\n",
       ")"
      ]
     },
     "execution_count": 119,
     "metadata": {},
     "output_type": "execute_result"
    }
   ],
   "source": [
    "## Make sure best parameters are being utilized\n",
    "\n",
    "# Switch to directory for saving model parameters\n",
    "os.chdir('/home/htjhnson/Desktop/DL-NMR-Optimization/SavedParamsAndTrainingMetrics')\n",
    "\n",
    "# Define the path where you saved your model parameters\n",
    "save_path = ModelName + '_Params.pt'\n",
    "\n",
    "# Load the entire dictionary from the saved file\n",
    "checkpoint = torch.load(save_path)\n",
    "\n",
    "# Instantiate the model\n",
    "model_aq = NMR_Model_Aq()\n",
    "\n",
    "# Load the model's state dictionary from the loaded dictionary\n",
    "model_aq.load_state_dict(checkpoint['model_state_dict'])\n",
    "\n",
    "# Move the model to the GPU \n",
    "model_aq.to(device)"
   ]
  },
  {
   "cell_type": "code",
   "execution_count": 120,
   "metadata": {},
   "outputs": [],
   "source": [
    "## Switch to directory for saving model metrics\n",
    "\n",
    "os.chdir('/home/htjhnson/Desktop/DL-NMR-Optimization/ModelPerformanceMetrics')   "
   ]
  },
  {
   "cell_type": "code",
   "execution_count": 121,
   "metadata": {},
   "outputs": [
    {
     "name": "stdout",
     "output_type": "stream",
     "text": [
      "model err:  1.7655908\n"
     ]
    }
   ],
   "source": [
    "## Test model on testing dataset and deterine RMSE\n",
    "\n",
    "outputs = model_aq(X_train) # Evaluate input spectra with MLP\n",
    "\n",
    "# Move tensors to CPU and convert to numpy arrays\n",
    "outputs_cpu = outputs.detach().cpu().numpy()\n",
    "y_train_cpu = y_train.detach().cpu().numpy()\n",
    "\n",
    "err = np.sqrt(mean_squared_error(outputs_cpu, y_train_cpu))  # Determine RMSE\n",
    "print('model err: ', err)  # Print RMSE\n",
    "\n",
    "np.save(ModelName + \"TrainRMSE\",err)"
   ]
  },
  {
   "cell_type": "code",
   "execution_count": 122,
   "metadata": {},
   "outputs": [
    {
     "name": "stdout",
     "output_type": "stream",
     "text": [
      "model err:  2.3651967\n"
     ]
    }
   ],
   "source": [
    "## Test model on testing dataset and deterine RMSE\n",
    "\n",
    "model_aq.eval() # Change to evaluation mode (maybe not needed for this model)\n",
    "outputs = model_aq(X_test) # Evaluate input spectra with MLP\n",
    "\n",
    "# Move tensors to CPU and convert to numpy arrays\n",
    "outputs_cpu = outputs.detach().cpu().numpy()\n",
    "y_test_cpu = y_test.detach().cpu().numpy()\n",
    "\n",
    "err = np.sqrt(mean_squared_error(outputs_cpu, y_test_cpu))  # Determine RMSE\n",
    "print('model err: ', err)  # Print RMSE\n",
    "\n",
    "np.save(ModelName + \"TestRMSE\",err)"
   ]
  },
  {
   "cell_type": "code",
   "execution_count": 123,
   "metadata": {},
   "outputs": [
    {
     "name": "stdout",
     "output_type": "stream",
     "text": [
      "model err:  2.4029853\n"
     ]
    }
   ],
   "source": [
    "## Test model on validation dataset and deterine RMSE\n",
    "\n",
    "model_aq.eval()  # Change to evaluation mode (maybe not needed for this model)\n",
    "outputs = model_aq(spectraVal)  # Evaluate input spectra with MLP\n",
    "\n",
    "# Move tensors to CPU and convert to numpy arrays\n",
    "outputs_cpu = outputs.detach().cpu().numpy()\n",
    "concVal_cpu = concVal.detach().cpu().numpy()\n",
    "\n",
    "err = np.sqrt(mean_squared_error(outputs_cpu, concVal_cpu))  # Determine RMSE\n",
    "print('model err: ', err)  # Print RMSE\n",
    "\n",
    "np.save(ModelName + \"ValRMSE\", err)"
   ]
  },
  {
   "cell_type": "code",
   "execution_count": 124,
   "metadata": {},
   "outputs": [],
   "source": [
    "APEs = []\n",
    "MAPEs = []\n",
    "\n",
    "for i in np.arange(8):\n",
    "    GroundTruth = ValConc[i]\n",
    "    Prediction = model_aq(ValSpectra[i])\n",
    "\n",
    "    # Move Prediction tensor to CPU and detach from computation graph\n",
    "    Prediction_cpu = Prediction.detach().cpu().numpy()\n",
    "\n",
    "    APE = []\n",
    "\n",
    "    for metabolite in range(58):\n",
    "        per_err = 100*(GroundTruth[metabolite] - Prediction_cpu[0][metabolite]) / GroundTruth[metabolite]\n",
    "        APE.append(abs(per_err.cpu()))\n",
    "\n",
    "    MAPE = sum(APE) / len(APE)\n",
    "\n",
    "    APEs.append(APE)\n",
    "    MAPEs.append(MAPE)\n",
    "\n",
    "\n",
    "# Convert lists to numpy arrays and save\n",
    "np.save(ModelName + \"_\" + \"ValExamples_APEs.npy\", np.array(APEs))\n",
    "np.save(ModelName + \"_\" + \"ValExamples_MAPEs.npy\", np.array(MAPEs))\n"
   ]
  },
  {
   "cell_type": "code",
   "execution_count": 125,
   "metadata": {},
   "outputs": [
    {
     "data": {
      "text/plain": [
       "[tensor(12.6250),\n",
       " tensor(2.7946),\n",
       " tensor(1.2731),\n",
       " tensor(1.1857),\n",
       " tensor(3.0590),\n",
       " tensor(15.2223),\n",
       " tensor(98.4701),\n",
       " tensor(27.3247)]"
      ]
     },
     "execution_count": 125,
     "metadata": {},
     "output_type": "execute_result"
    }
   ],
   "source": [
    "MAPEs"
   ]
  },
  {
   "cell_type": "code",
   "execution_count": null,
   "metadata": {},
   "outputs": [],
   "source": []
  },
  {
   "cell_type": "code",
   "execution_count": null,
   "metadata": {},
   "outputs": [],
   "source": []
  },
  {
   "cell_type": "code",
   "execution_count": null,
   "metadata": {},
   "outputs": [],
   "source": []
  },
  {
   "cell_type": "code",
   "execution_count": 92,
   "metadata": {},
   "outputs": [
    {
     "name": "stderr",
     "output_type": "stream",
     "text": [
      "[I 2024-05-04 22:24:55,611] A new study created in memory with name: no-name-6bee6d8a-4a86-4f8e-890e-e78f8e7c401e\n",
      "/tmp/ipykernel_73405/3983604795.py:20: FutureWarning: suggest_loguniform has been deprecated in v3.0.0. This feature will be removed in v6.0.0. See https://github.com/optuna/optuna/releases/tag/v3.0.0. Use suggest_float(..., log=True) instead.\n",
      "  weight_decay = trial.suggest_loguniform('weight_decay', 1e-5, 1e-2)\n",
      "/tmp/ipykernel_73405/3983604795.py:22: FutureWarning: suggest_loguniform has been deprecated in v3.0.0. This feature will be removed in v6.0.0. See https://github.com/optuna/optuna/releases/tag/v3.0.0. Use suggest_float(..., log=True) instead.\n",
      "  learning_rate = trial.suggest_loguniform('learning_rate', 1e-5, 1e-2)\n",
      "[W 2024-05-04 22:24:55,736] Trial 0 failed with parameters: {'hidden_layers': 3, 'nodes_per_layer': 325, 'activation': 'leaky_relu', 'batch_norm': True, 'regularization': None, 'weight_decay': 0.0026162022698641442, 'optimizer': 'sgd', 'learning_rate': 0.0010946972310395338, 'initializer': 'normal'} because of the following error: RuntimeError('Expected all tensors to be on the same device, but found at least two devices, cpu and cuda:0! (when checking argument for argument mat1 in method wrapper_CUDA_addmm)').\n",
      "Traceback (most recent call last):\n",
      "  File \"/home/htjhnson/anaconda3/lib/python3.11/site-packages/optuna/study/_optimize.py\", line 196, in _run_trial\n",
      "    value_or_values = func(trial)\n",
      "                      ^^^^^^^^^^^\n",
      "  File \"/tmp/ipykernel_73405/3983604795.py\", line 63, in objective\n",
      "    outputs = model(inputs)\n",
      "              ^^^^^^^^^^^^^\n",
      "  File \"/home/htjhnson/anaconda3/lib/python3.11/site-packages/torch/nn/modules/module.py\", line 1511, in _wrapped_call_impl\n",
      "    return self._call_impl(*args, **kwargs)\n",
      "           ^^^^^^^^^^^^^^^^^^^^^^^^^^^^^^^^\n",
      "  File \"/home/htjhnson/anaconda3/lib/python3.11/site-packages/torch/nn/modules/module.py\", line 1520, in _call_impl\n",
      "    return forward_call(*args, **kwargs)\n",
      "           ^^^^^^^^^^^^^^^^^^^^^^^^^^^^^\n",
      "  File \"/home/htjhnson/anaconda3/lib/python3.11/site-packages/torch/nn/modules/container.py\", line 217, in forward\n",
      "    input = module(input)\n",
      "            ^^^^^^^^^^^^^\n",
      "  File \"/home/htjhnson/anaconda3/lib/python3.11/site-packages/torch/nn/modules/module.py\", line 1511, in _wrapped_call_impl\n",
      "    return self._call_impl(*args, **kwargs)\n",
      "           ^^^^^^^^^^^^^^^^^^^^^^^^^^^^^^^^\n",
      "  File \"/home/htjhnson/anaconda3/lib/python3.11/site-packages/torch/nn/modules/module.py\", line 1520, in _call_impl\n",
      "    return forward_call(*args, **kwargs)\n",
      "           ^^^^^^^^^^^^^^^^^^^^^^^^^^^^^\n",
      "  File \"/home/htjhnson/anaconda3/lib/python3.11/site-packages/torch/nn/modules/linear.py\", line 116, in forward\n",
      "    return F.linear(input, self.weight, self.bias)\n",
      "           ^^^^^^^^^^^^^^^^^^^^^^^^^^^^^^^^^^^^^^^\n",
      "RuntimeError: Expected all tensors to be on the same device, but found at least two devices, cpu and cuda:0! (when checking argument for argument mat1 in method wrapper_CUDA_addmm)\n",
      "[W 2024-05-04 22:24:55,738] Trial 0 failed with value None.\n"
     ]
    },
    {
     "ename": "RuntimeError",
     "evalue": "Expected all tensors to be on the same device, but found at least two devices, cpu and cuda:0! (when checking argument for argument mat1 in method wrapper_CUDA_addmm)",
     "output_type": "error",
     "traceback": [
      "\u001b[0;31m---------------------------------------------------------------------------\u001b[0m",
      "\u001b[0;31mRuntimeError\u001b[0m                              Traceback (most recent call last)",
      "Cell \u001b[0;32mIn[92], line 77\u001b[0m\n\u001b[1;32m     74\u001b[0m \u001b[38;5;28;01mif\u001b[39;00m \u001b[38;5;18m__name__\u001b[39m \u001b[38;5;241m==\u001b[39m \u001b[38;5;124m\"\u001b[39m\u001b[38;5;124m__main__\u001b[39m\u001b[38;5;124m\"\u001b[39m:\n\u001b[1;32m     75\u001b[0m     \u001b[38;5;66;03m# Create study and optimize\u001b[39;00m\n\u001b[1;32m     76\u001b[0m     study \u001b[38;5;241m=\u001b[39m optuna\u001b[38;5;241m.\u001b[39mcreate_study(direction\u001b[38;5;241m=\u001b[39m\u001b[38;5;124m'\u001b[39m\u001b[38;5;124mminimize\u001b[39m\u001b[38;5;124m'\u001b[39m)\n\u001b[0;32m---> 77\u001b[0m     study\u001b[38;5;241m.\u001b[39moptimize(objective, n_trials\u001b[38;5;241m=\u001b[39m\u001b[38;5;241m100\u001b[39m)\n\u001b[1;32m     78\u001b[0m     \u001b[38;5;28mprint\u001b[39m(\u001b[38;5;124m'\u001b[39m\u001b[38;5;124mBest trial:\u001b[39m\u001b[38;5;124m'\u001b[39m)\n\u001b[1;32m     79\u001b[0m     \u001b[38;5;28mprint\u001b[39m(study\u001b[38;5;241m.\u001b[39mbest_trial\u001b[38;5;241m.\u001b[39mparams)\n",
      "File \u001b[0;32m~/anaconda3/lib/python3.11/site-packages/optuna/study/study.py:451\u001b[0m, in \u001b[0;36mStudy.optimize\u001b[0;34m(self, func, n_trials, timeout, n_jobs, catch, callbacks, gc_after_trial, show_progress_bar)\u001b[0m\n\u001b[1;32m    348\u001b[0m \u001b[38;5;28;01mdef\u001b[39;00m \u001b[38;5;21moptimize\u001b[39m(\n\u001b[1;32m    349\u001b[0m     \u001b[38;5;28mself\u001b[39m,\n\u001b[1;32m    350\u001b[0m     func: ObjectiveFuncType,\n\u001b[0;32m   (...)\u001b[0m\n\u001b[1;32m    357\u001b[0m     show_progress_bar: \u001b[38;5;28mbool\u001b[39m \u001b[38;5;241m=\u001b[39m \u001b[38;5;28;01mFalse\u001b[39;00m,\n\u001b[1;32m    358\u001b[0m ) \u001b[38;5;241m-\u001b[39m\u001b[38;5;241m>\u001b[39m \u001b[38;5;28;01mNone\u001b[39;00m:\n\u001b[1;32m    359\u001b[0m \u001b[38;5;250m    \u001b[39m\u001b[38;5;124;03m\"\"\"Optimize an objective function.\u001b[39;00m\n\u001b[1;32m    360\u001b[0m \n\u001b[1;32m    361\u001b[0m \u001b[38;5;124;03m    Optimization is done by choosing a suitable set of hyperparameter values from a given\u001b[39;00m\n\u001b[0;32m   (...)\u001b[0m\n\u001b[1;32m    449\u001b[0m \u001b[38;5;124;03m            If nested invocation of this method occurs.\u001b[39;00m\n\u001b[1;32m    450\u001b[0m \u001b[38;5;124;03m    \"\"\"\u001b[39;00m\n\u001b[0;32m--> 451\u001b[0m     _optimize(\n\u001b[1;32m    452\u001b[0m         study\u001b[38;5;241m=\u001b[39m\u001b[38;5;28mself\u001b[39m,\n\u001b[1;32m    453\u001b[0m         func\u001b[38;5;241m=\u001b[39mfunc,\n\u001b[1;32m    454\u001b[0m         n_trials\u001b[38;5;241m=\u001b[39mn_trials,\n\u001b[1;32m    455\u001b[0m         timeout\u001b[38;5;241m=\u001b[39mtimeout,\n\u001b[1;32m    456\u001b[0m         n_jobs\u001b[38;5;241m=\u001b[39mn_jobs,\n\u001b[1;32m    457\u001b[0m         catch\u001b[38;5;241m=\u001b[39m\u001b[38;5;28mtuple\u001b[39m(catch) \u001b[38;5;28;01mif\u001b[39;00m \u001b[38;5;28misinstance\u001b[39m(catch, Iterable) \u001b[38;5;28;01melse\u001b[39;00m (catch,),\n\u001b[1;32m    458\u001b[0m         callbacks\u001b[38;5;241m=\u001b[39mcallbacks,\n\u001b[1;32m    459\u001b[0m         gc_after_trial\u001b[38;5;241m=\u001b[39mgc_after_trial,\n\u001b[1;32m    460\u001b[0m         show_progress_bar\u001b[38;5;241m=\u001b[39mshow_progress_bar,\n\u001b[1;32m    461\u001b[0m     )\n",
      "File \u001b[0;32m~/anaconda3/lib/python3.11/site-packages/optuna/study/_optimize.py:62\u001b[0m, in \u001b[0;36m_optimize\u001b[0;34m(study, func, n_trials, timeout, n_jobs, catch, callbacks, gc_after_trial, show_progress_bar)\u001b[0m\n\u001b[1;32m     60\u001b[0m \u001b[38;5;28;01mtry\u001b[39;00m:\n\u001b[1;32m     61\u001b[0m     \u001b[38;5;28;01mif\u001b[39;00m n_jobs \u001b[38;5;241m==\u001b[39m \u001b[38;5;241m1\u001b[39m:\n\u001b[0;32m---> 62\u001b[0m         _optimize_sequential(\n\u001b[1;32m     63\u001b[0m             study,\n\u001b[1;32m     64\u001b[0m             func,\n\u001b[1;32m     65\u001b[0m             n_trials,\n\u001b[1;32m     66\u001b[0m             timeout,\n\u001b[1;32m     67\u001b[0m             catch,\n\u001b[1;32m     68\u001b[0m             callbacks,\n\u001b[1;32m     69\u001b[0m             gc_after_trial,\n\u001b[1;32m     70\u001b[0m             reseed_sampler_rng\u001b[38;5;241m=\u001b[39m\u001b[38;5;28;01mFalse\u001b[39;00m,\n\u001b[1;32m     71\u001b[0m             time_start\u001b[38;5;241m=\u001b[39m\u001b[38;5;28;01mNone\u001b[39;00m,\n\u001b[1;32m     72\u001b[0m             progress_bar\u001b[38;5;241m=\u001b[39mprogress_bar,\n\u001b[1;32m     73\u001b[0m         )\n\u001b[1;32m     74\u001b[0m     \u001b[38;5;28;01melse\u001b[39;00m:\n\u001b[1;32m     75\u001b[0m         \u001b[38;5;28;01mif\u001b[39;00m n_jobs \u001b[38;5;241m==\u001b[39m \u001b[38;5;241m-\u001b[39m\u001b[38;5;241m1\u001b[39m:\n",
      "File \u001b[0;32m~/anaconda3/lib/python3.11/site-packages/optuna/study/_optimize.py:159\u001b[0m, in \u001b[0;36m_optimize_sequential\u001b[0;34m(study, func, n_trials, timeout, catch, callbacks, gc_after_trial, reseed_sampler_rng, time_start, progress_bar)\u001b[0m\n\u001b[1;32m    156\u001b[0m         \u001b[38;5;28;01mbreak\u001b[39;00m\n\u001b[1;32m    158\u001b[0m \u001b[38;5;28;01mtry\u001b[39;00m:\n\u001b[0;32m--> 159\u001b[0m     frozen_trial \u001b[38;5;241m=\u001b[39m _run_trial(study, func, catch)\n\u001b[1;32m    160\u001b[0m \u001b[38;5;28;01mfinally\u001b[39;00m:\n\u001b[1;32m    161\u001b[0m     \u001b[38;5;66;03m# The following line mitigates memory problems that can be occurred in some\u001b[39;00m\n\u001b[1;32m    162\u001b[0m     \u001b[38;5;66;03m# environments (e.g., services that use computing containers such as GitHub Actions).\u001b[39;00m\n\u001b[1;32m    163\u001b[0m     \u001b[38;5;66;03m# Please refer to the following PR for further details:\u001b[39;00m\n\u001b[1;32m    164\u001b[0m     \u001b[38;5;66;03m# https://github.com/optuna/optuna/pull/325.\u001b[39;00m\n\u001b[1;32m    165\u001b[0m     \u001b[38;5;28;01mif\u001b[39;00m gc_after_trial:\n",
      "File \u001b[0;32m~/anaconda3/lib/python3.11/site-packages/optuna/study/_optimize.py:247\u001b[0m, in \u001b[0;36m_run_trial\u001b[0;34m(study, func, catch)\u001b[0m\n\u001b[1;32m    240\u001b[0m         \u001b[38;5;28;01massert\u001b[39;00m \u001b[38;5;28;01mFalse\u001b[39;00m, \u001b[38;5;124m\"\u001b[39m\u001b[38;5;124mShould not reach.\u001b[39m\u001b[38;5;124m\"\u001b[39m\n\u001b[1;32m    242\u001b[0m \u001b[38;5;28;01mif\u001b[39;00m (\n\u001b[1;32m    243\u001b[0m     frozen_trial\u001b[38;5;241m.\u001b[39mstate \u001b[38;5;241m==\u001b[39m TrialState\u001b[38;5;241m.\u001b[39mFAIL\n\u001b[1;32m    244\u001b[0m     \u001b[38;5;129;01mand\u001b[39;00m func_err \u001b[38;5;129;01mis\u001b[39;00m \u001b[38;5;129;01mnot\u001b[39;00m \u001b[38;5;28;01mNone\u001b[39;00m\n\u001b[1;32m    245\u001b[0m     \u001b[38;5;129;01mand\u001b[39;00m \u001b[38;5;129;01mnot\u001b[39;00m \u001b[38;5;28misinstance\u001b[39m(func_err, catch)\n\u001b[1;32m    246\u001b[0m ):\n\u001b[0;32m--> 247\u001b[0m     \u001b[38;5;28;01mraise\u001b[39;00m func_err\n\u001b[1;32m    248\u001b[0m \u001b[38;5;28;01mreturn\u001b[39;00m frozen_trial\n",
      "File \u001b[0;32m~/anaconda3/lib/python3.11/site-packages/optuna/study/_optimize.py:196\u001b[0m, in \u001b[0;36m_run_trial\u001b[0;34m(study, func, catch)\u001b[0m\n\u001b[1;32m    194\u001b[0m \u001b[38;5;28;01mwith\u001b[39;00m get_heartbeat_thread(trial\u001b[38;5;241m.\u001b[39m_trial_id, study\u001b[38;5;241m.\u001b[39m_storage):\n\u001b[1;32m    195\u001b[0m     \u001b[38;5;28;01mtry\u001b[39;00m:\n\u001b[0;32m--> 196\u001b[0m         value_or_values \u001b[38;5;241m=\u001b[39m func(trial)\n\u001b[1;32m    197\u001b[0m     \u001b[38;5;28;01mexcept\u001b[39;00m exceptions\u001b[38;5;241m.\u001b[39mTrialPruned \u001b[38;5;28;01mas\u001b[39;00m e:\n\u001b[1;32m    198\u001b[0m         \u001b[38;5;66;03m# TODO(mamu): Handle multi-objective cases.\u001b[39;00m\n\u001b[1;32m    199\u001b[0m         state \u001b[38;5;241m=\u001b[39m TrialState\u001b[38;5;241m.\u001b[39mPRUNED\n",
      "Cell \u001b[0;32mIn[92], line 63\u001b[0m, in \u001b[0;36mobjective\u001b[0;34m(trial)\u001b[0m\n\u001b[1;32m     60\u001b[0m \u001b[38;5;28;01mfor\u001b[39;00m epoch \u001b[38;5;129;01min\u001b[39;00m \u001b[38;5;28mrange\u001b[39m(num_epochs):\n\u001b[1;32m     61\u001b[0m     \u001b[38;5;28;01mfor\u001b[39;00m inputs, labels \u001b[38;5;129;01min\u001b[39;00m train_loader:\n\u001b[1;32m     62\u001b[0m         \u001b[38;5;66;03m# Forward pass\u001b[39;00m\n\u001b[0;32m---> 63\u001b[0m         outputs \u001b[38;5;241m=\u001b[39m model(inputs)\n\u001b[1;32m     64\u001b[0m         loss \u001b[38;5;241m=\u001b[39m criterion(outputs, labels)\n\u001b[1;32m     66\u001b[0m         \u001b[38;5;66;03m# Backward pass and optimization\u001b[39;00m\n",
      "File \u001b[0;32m~/anaconda3/lib/python3.11/site-packages/torch/nn/modules/module.py:1511\u001b[0m, in \u001b[0;36mModule._wrapped_call_impl\u001b[0;34m(self, *args, **kwargs)\u001b[0m\n\u001b[1;32m   1509\u001b[0m     \u001b[38;5;28;01mreturn\u001b[39;00m \u001b[38;5;28mself\u001b[39m\u001b[38;5;241m.\u001b[39m_compiled_call_impl(\u001b[38;5;241m*\u001b[39margs, \u001b[38;5;241m*\u001b[39m\u001b[38;5;241m*\u001b[39mkwargs)  \u001b[38;5;66;03m# type: ignore[misc]\u001b[39;00m\n\u001b[1;32m   1510\u001b[0m \u001b[38;5;28;01melse\u001b[39;00m:\n\u001b[0;32m-> 1511\u001b[0m     \u001b[38;5;28;01mreturn\u001b[39;00m \u001b[38;5;28mself\u001b[39m\u001b[38;5;241m.\u001b[39m_call_impl(\u001b[38;5;241m*\u001b[39margs, \u001b[38;5;241m*\u001b[39m\u001b[38;5;241m*\u001b[39mkwargs)\n",
      "File \u001b[0;32m~/anaconda3/lib/python3.11/site-packages/torch/nn/modules/module.py:1520\u001b[0m, in \u001b[0;36mModule._call_impl\u001b[0;34m(self, *args, **kwargs)\u001b[0m\n\u001b[1;32m   1515\u001b[0m \u001b[38;5;66;03m# If we don't have any hooks, we want to skip the rest of the logic in\u001b[39;00m\n\u001b[1;32m   1516\u001b[0m \u001b[38;5;66;03m# this function, and just call forward.\u001b[39;00m\n\u001b[1;32m   1517\u001b[0m \u001b[38;5;28;01mif\u001b[39;00m \u001b[38;5;129;01mnot\u001b[39;00m (\u001b[38;5;28mself\u001b[39m\u001b[38;5;241m.\u001b[39m_backward_hooks \u001b[38;5;129;01mor\u001b[39;00m \u001b[38;5;28mself\u001b[39m\u001b[38;5;241m.\u001b[39m_backward_pre_hooks \u001b[38;5;129;01mor\u001b[39;00m \u001b[38;5;28mself\u001b[39m\u001b[38;5;241m.\u001b[39m_forward_hooks \u001b[38;5;129;01mor\u001b[39;00m \u001b[38;5;28mself\u001b[39m\u001b[38;5;241m.\u001b[39m_forward_pre_hooks\n\u001b[1;32m   1518\u001b[0m         \u001b[38;5;129;01mor\u001b[39;00m _global_backward_pre_hooks \u001b[38;5;129;01mor\u001b[39;00m _global_backward_hooks\n\u001b[1;32m   1519\u001b[0m         \u001b[38;5;129;01mor\u001b[39;00m _global_forward_hooks \u001b[38;5;129;01mor\u001b[39;00m _global_forward_pre_hooks):\n\u001b[0;32m-> 1520\u001b[0m     \u001b[38;5;28;01mreturn\u001b[39;00m forward_call(\u001b[38;5;241m*\u001b[39margs, \u001b[38;5;241m*\u001b[39m\u001b[38;5;241m*\u001b[39mkwargs)\n\u001b[1;32m   1522\u001b[0m \u001b[38;5;28;01mtry\u001b[39;00m:\n\u001b[1;32m   1523\u001b[0m     result \u001b[38;5;241m=\u001b[39m \u001b[38;5;28;01mNone\u001b[39;00m\n",
      "File \u001b[0;32m~/anaconda3/lib/python3.11/site-packages/torch/nn/modules/container.py:217\u001b[0m, in \u001b[0;36mSequential.forward\u001b[0;34m(self, input)\u001b[0m\n\u001b[1;32m    215\u001b[0m \u001b[38;5;28;01mdef\u001b[39;00m \u001b[38;5;21mforward\u001b[39m(\u001b[38;5;28mself\u001b[39m, \u001b[38;5;28minput\u001b[39m):\n\u001b[1;32m    216\u001b[0m     \u001b[38;5;28;01mfor\u001b[39;00m module \u001b[38;5;129;01min\u001b[39;00m \u001b[38;5;28mself\u001b[39m:\n\u001b[0;32m--> 217\u001b[0m         \u001b[38;5;28minput\u001b[39m \u001b[38;5;241m=\u001b[39m module(\u001b[38;5;28minput\u001b[39m)\n\u001b[1;32m    218\u001b[0m     \u001b[38;5;28;01mreturn\u001b[39;00m \u001b[38;5;28minput\u001b[39m\n",
      "File \u001b[0;32m~/anaconda3/lib/python3.11/site-packages/torch/nn/modules/module.py:1511\u001b[0m, in \u001b[0;36mModule._wrapped_call_impl\u001b[0;34m(self, *args, **kwargs)\u001b[0m\n\u001b[1;32m   1509\u001b[0m     \u001b[38;5;28;01mreturn\u001b[39;00m \u001b[38;5;28mself\u001b[39m\u001b[38;5;241m.\u001b[39m_compiled_call_impl(\u001b[38;5;241m*\u001b[39margs, \u001b[38;5;241m*\u001b[39m\u001b[38;5;241m*\u001b[39mkwargs)  \u001b[38;5;66;03m# type: ignore[misc]\u001b[39;00m\n\u001b[1;32m   1510\u001b[0m \u001b[38;5;28;01melse\u001b[39;00m:\n\u001b[0;32m-> 1511\u001b[0m     \u001b[38;5;28;01mreturn\u001b[39;00m \u001b[38;5;28mself\u001b[39m\u001b[38;5;241m.\u001b[39m_call_impl(\u001b[38;5;241m*\u001b[39margs, \u001b[38;5;241m*\u001b[39m\u001b[38;5;241m*\u001b[39mkwargs)\n",
      "File \u001b[0;32m~/anaconda3/lib/python3.11/site-packages/torch/nn/modules/module.py:1520\u001b[0m, in \u001b[0;36mModule._call_impl\u001b[0;34m(self, *args, **kwargs)\u001b[0m\n\u001b[1;32m   1515\u001b[0m \u001b[38;5;66;03m# If we don't have any hooks, we want to skip the rest of the logic in\u001b[39;00m\n\u001b[1;32m   1516\u001b[0m \u001b[38;5;66;03m# this function, and just call forward.\u001b[39;00m\n\u001b[1;32m   1517\u001b[0m \u001b[38;5;28;01mif\u001b[39;00m \u001b[38;5;129;01mnot\u001b[39;00m (\u001b[38;5;28mself\u001b[39m\u001b[38;5;241m.\u001b[39m_backward_hooks \u001b[38;5;129;01mor\u001b[39;00m \u001b[38;5;28mself\u001b[39m\u001b[38;5;241m.\u001b[39m_backward_pre_hooks \u001b[38;5;129;01mor\u001b[39;00m \u001b[38;5;28mself\u001b[39m\u001b[38;5;241m.\u001b[39m_forward_hooks \u001b[38;5;129;01mor\u001b[39;00m \u001b[38;5;28mself\u001b[39m\u001b[38;5;241m.\u001b[39m_forward_pre_hooks\n\u001b[1;32m   1518\u001b[0m         \u001b[38;5;129;01mor\u001b[39;00m _global_backward_pre_hooks \u001b[38;5;129;01mor\u001b[39;00m _global_backward_hooks\n\u001b[1;32m   1519\u001b[0m         \u001b[38;5;129;01mor\u001b[39;00m _global_forward_hooks \u001b[38;5;129;01mor\u001b[39;00m _global_forward_pre_hooks):\n\u001b[0;32m-> 1520\u001b[0m     \u001b[38;5;28;01mreturn\u001b[39;00m forward_call(\u001b[38;5;241m*\u001b[39margs, \u001b[38;5;241m*\u001b[39m\u001b[38;5;241m*\u001b[39mkwargs)\n\u001b[1;32m   1522\u001b[0m \u001b[38;5;28;01mtry\u001b[39;00m:\n\u001b[1;32m   1523\u001b[0m     result \u001b[38;5;241m=\u001b[39m \u001b[38;5;28;01mNone\u001b[39;00m\n",
      "File \u001b[0;32m~/anaconda3/lib/python3.11/site-packages/torch/nn/modules/linear.py:116\u001b[0m, in \u001b[0;36mLinear.forward\u001b[0;34m(self, input)\u001b[0m\n\u001b[1;32m    115\u001b[0m \u001b[38;5;28;01mdef\u001b[39;00m \u001b[38;5;21mforward\u001b[39m(\u001b[38;5;28mself\u001b[39m, \u001b[38;5;28minput\u001b[39m: Tensor) \u001b[38;5;241m-\u001b[39m\u001b[38;5;241m>\u001b[39m Tensor:\n\u001b[0;32m--> 116\u001b[0m     \u001b[38;5;28;01mreturn\u001b[39;00m F\u001b[38;5;241m.\u001b[39mlinear(\u001b[38;5;28minput\u001b[39m, \u001b[38;5;28mself\u001b[39m\u001b[38;5;241m.\u001b[39mweight, \u001b[38;5;28mself\u001b[39m\u001b[38;5;241m.\u001b[39mbias)\n",
      "\u001b[0;31mRuntimeError\u001b[0m: Expected all tensors to be on the same device, but found at least two devices, cpu and cuda:0! (when checking argument for argument mat1 in method wrapper_CUDA_addmm)"
     ]
    }
   ],
   "source": [
    "import torch\n",
    "\n",
    "# Define theimport optuna\n",
    "import torch\n",
    "import torch.nn as nn\n",
    "import torch.utils.data\n",
    "\n",
    "# Define your dataset and data loader outside the optimization loop\n",
    "datasets = torch.utils.data.TensorDataset(X_train, y_train)\n",
    "train_loader = torch.utils.data.DataLoader(datasets, batch_size=128, shuffle=True)\n",
    "\n",
    "# Define the objective function\n",
    "def objective(trial):\n",
    "    # Define the hyperparameters to optimize\n",
    "    hidden_layers = trial.suggest_int('hidden_layers', 1, 3)\n",
    "    nodes_per_layer = trial.suggest_int('nodes_per_layer', 32, 512)\n",
    "    activation_func_name = trial.suggest_categorical('activation', ['relu', 'leaky_relu', 'elu'])\n",
    "    batch_norm = trial.suggest_categorical('batch_norm', [True, False])\n",
    "    regularization = trial.suggest_categorical('regularization', ['l1', 'l2', None])\n",
    "    weight_decay = trial.suggest_loguniform('weight_decay', 1e-5, 1e-2)\n",
    "    optimizer = trial.suggest_categorical('optimizer', ['adam', 'sgd'])\n",
    "    learning_rate = trial.suggest_loguniform('learning_rate', 1e-5, 1e-2)\n",
    "    initializer_name = trial.suggest_categorical('initializer', ['he', 'xavier', 'normal'])\n",
    "\n",
    "    # Convert activation function name to actual function\n",
    "    if activation_func_name == 'relu':\n",
    "        activation_func = nn.ReLU()\n",
    "    elif activation_func_name == 'leaky_relu':\n",
    "        activation_func = nn.LeakyReLU()\n",
    "    elif activation_func_name == 'elu':\n",
    "        activation_func = nn.ELU(inplace=True)  # ELU activation in PyTorch\n",
    "\n",
    "    # Define model architecture\n",
    "    layers = []\n",
    "    layers.append(nn.Linear(46000, nodes_per_layer))  # Input layer\n",
    "    layers.append(activation_func)  # Activation function for input layer\n",
    "\n",
    "    # Add hidden layers\n",
    "    for _ in range(hidden_layers):\n",
    "        layers.append(nn.Linear(nodes_per_layer, nodes_per_layer))\n",
    "        layers.append(activation_func)  # Activation function for hidden layers\n",
    "        if batch_norm:\n",
    "            layers.append(nn.BatchNorm1d(nodes_per_layer))\n",
    "\n",
    "    # Output layer\n",
    "    layers.append(nn.Linear(nodes_per_layer, 8))  # Output layer\n",
    "\n",
    "    model = nn.Sequential(*layers)\n",
    "\n",
    "    # Define loss function\n",
    "    criterion = nn.CrossEntropyLoss()\n",
    "\n",
    "    # Define optimizer\n",
    "    if optimizer == 'adam':\n",
    "        optimizer = torch.optim.Adam(model.parameters(), lr=learning_rate, weight_decay=weight_decay)\n",
    "    elif optimizer == 'sgd':\n",
    "        optimizer = torch.optim.SGD(model.parameters(), lr=learning_rate, weight_decay=weight_decay)\n",
    "\n",
    "    # Training loop\n",
    "    for epoch in range(num_epochs):\n",
    "        for inputs, labels in train_loader:\n",
    "            # Forward pass\n",
    "            outputs = model(inputs)\n",
    "            loss = criterion(outputs, labels)\n",
    "\n",
    "            # Backward pass and optimization\n",
    "            optimizer.zero_grad()\n",
    "            loss.backward()\n",
    "            optimizer.step()\n",
    "\n",
    "    # Return loss or accuracy based on your optimization goal\n",
    "    return loss.item()\n",
    "\n",
    "if __name__ == \"__main__\":\n",
    "    # Create study and optimize\n",
    "    study = optuna.create_study(direction='minimize')\n",
    "    study.optimize(objective, n_trials=100)\n",
    "    print('Best trial:')\n",
    "    print(study.best_trial.params)\n"
   ]
  },
  {
   "cell_type": "code",
   "execution_count": null,
   "metadata": {},
   "outputs": [],
   "source": []
  },
  {
   "cell_type": "code",
   "execution_count": null,
   "metadata": {},
   "outputs": [],
   "source": []
  },
  {
   "cell_type": "code",
   "execution_count": null,
   "metadata": {},
   "outputs": [],
   "source": []
  },
  {
   "cell_type": "code",
   "execution_count": null,
   "metadata": {},
   "outputs": [],
   "source": []
  }
 ],
 "metadata": {
  "kernelspec": {
   "display_name": "Python 3 (ipykernel)",
   "language": "python",
   "name": "python3"
  },
  "language_info": {
   "codemirror_mode": {
    "name": "ipython",
    "version": 3
   },
   "file_extension": ".py",
   "mimetype": "text/x-python",
   "name": "python",
   "nbconvert_exporter": "python",
   "pygments_lexer": "ipython3",
   "version": "3.11.5"
  }
 },
 "nbformat": 4,
 "nbformat_minor": 4
}
