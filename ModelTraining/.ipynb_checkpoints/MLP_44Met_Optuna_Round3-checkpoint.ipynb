{
 "cells": [
  {
   "cell_type": "code",
   "execution_count": null,
   "metadata": {},
   "outputs": [],
   "source": [
    "## Import dependencies\n",
    "\n",
    "import numpy as np\n",
    "from os import path\n",
    "import matplotlib.pyplot as plt\n",
    "import os\n",
    "import nmrglue as ng\n",
    "import seaborn as sns\n",
    "import sklearn\n",
    "from sklearn.model_selection import train_test_split\n",
    "from sklearn.metrics import mean_squared_error\n",
    "import torch\n",
    "import torch.nn as nn\n",
    "import torch.optim as optim\n",
    "import copy\n",
    "import time\n",
    "import optuna\n",
    "import pandas as pd\n",
    "\n",
    "# Set default plot size\n",
    "plt.rcParams[\"figure.figsize\"] = (30,20)"
   ]
  },
  {
   "cell_type": "code",
   "execution_count": null,
   "metadata": {},
   "outputs": [],
   "source": []
  },
  {
   "cell_type": "markdown",
   "metadata": {},
   "source": [
    "## Optimize MLP architecture and hyperparameters on dataset of 44 metabolites"
   ]
  },
  {
   "cell_type": "code",
   "execution_count": null,
   "metadata": {},
   "outputs": [],
   "source": [
    "# Define number of epochs used later in training\n",
    "num_epochs = 5000\n",
    "\n",
    "# Name variable used for saving model metrics, name should reflect model used, dataset used, and other information such as # of epochs\n",
    "ModelName = \"MLP_Opt_44Met\" + str(num_epochs) +\"ep\"\n",
    "\n",
    "# Set the random seed\n",
    "os.chdir('/home/htjhnson/Desktop/DL-NMR-Optimization/ModelPerformanceMetrics/') \n",
    "seed = 1 \n",
    "torch.manual_seed(seed)\n",
    "np.save(ModelName + \"_Seed.npy\", seed)"
   ]
  },
  {
   "cell_type": "code",
   "execution_count": null,
   "metadata": {},
   "outputs": [],
   "source": [
    "## Load training and testing datasets, validation datasets, and representative example spectra \n",
    "\n",
    "# Switch to directory containing datasets\n",
    "os.chdir('/home/htjhnson/Desktop/DL-NMR-Optimization/GeneratedDataAndVariables')\n",
    "\n",
    "# Load training data and max value from testing and training datasets\n",
    "spectra = np.load('Dataset44_Spec.npy')\n",
    "conc1 = np.load('Dataset44_Conc.npy')\n",
    "\n",
    "# Load validation dataset\n",
    "spectraVal = np.load('Dataset44_Val_Spec.npy')\n",
    "concVal = np.load('Dataset44_Val_Conc.npy')\n",
    "\n",
    "# Load representative validation spectra\n",
    "ValSpectra = np.load(\"Dataset44_RepresentativeExamples_Spectra.npy\")\n",
    "ValConc = np.load(\"Dataset44_RepresentativeExamples_Concentrations.npy\")\n",
    "ValSpecNames = np.load(\"Dataset44_RepresentativeExamples_VariableNames.npy\")"
   ]
  },
  {
   "cell_type": "code",
   "execution_count": null,
   "metadata": {},
   "outputs": [],
   "source": [
    "## Prepare to switch data from CPU to GPU\n",
    "\n",
    "# Check if CUDA (GPU support) is available\n",
    "if torch.cuda.is_available():\n",
    "    device = torch.device(\"cuda\")          # A CUDA device object\n",
    "    print(\"Using GPU for training.\")\n",
    "else:\n",
    "    device = torch.device(\"cpu\")           # A CPU object\n",
    "    print(\"CUDA is not available. Using CPU for training.\")"
   ]
  },
  {
   "cell_type": "code",
   "execution_count": null,
   "metadata": {},
   "outputs": [],
   "source": [
    "## Set up data for testing and training\n",
    "\n",
    "# Split into testing and training data\n",
    "X_train1, X_test1, y_train1, y_test1 = train_test_split(spectra, conc1, test_size = 0.2, random_state = 1)\n",
    "\n",
    "# Tensorize and prepare datasets\n",
    "X_train = torch.tensor(X_train1).float()\n",
    "y_train = torch.tensor(y_train1).float()\n",
    "X_test = torch.tensor(X_test1).float()\n",
    "y_test = torch.tensor(y_test1).float()\n",
    "\n",
    "\n",
    "# Move the input data to the GPU device\n",
    "X_train = X_train.to(device)\n",
    "X_test = X_test.to(device)\n",
    "spectraVal = torch.tensor(spectraVal).float().to(device)   # Confusing names, these spectra are the 5000 spectra generated like the training dataset\n",
    "ValSpectra = torch.tensor(ValSpectra).float().to(device)   # Confusing names, these spectra are the 10 representative example spectra\n",
    "\n",
    "# Move the target data to the GPU device\n",
    "y_train = y_train.to(device)\n",
    "y_test = y_test.to(device)\n",
    "concVal = torch.tensor(concVal).float().to(device)\n",
    "ValConc = torch.tensor(ValConc).float().to(device)\n",
    "\n",
    "# More data prep?\n",
    "datasets = torch.utils.data.TensorDataset(X_train, y_train)\n",
    "Test_datasets = torch.utils.data.TensorDataset(X_test, y_test)\n",
    "#train_iter = torch.utils.data.DataLoader(datasets, batch_size = 128, shuffle=True)\n",
    "#test_iter = torch.utils.data.DataLoader(Test_datasets, batch_size = 128, shuffle=True)"
   ]
  },
  {
   "cell_type": "code",
   "execution_count": 10,
   "metadata": {},
   "outputs": [
    {
     "name": "stderr",
     "output_type": "stream",
     "text": [
      "[I 2024-05-05 13:47:43,302] A new study created in memory with name: no-name-ec31957b-18e9-495f-9486-4dae91418fdc\n"
     ]
    },
    {
     "name": "stdout",
     "output_type": "stream",
     "text": [
      "Epoch 1/1000 | Train Loss: 58176.293 | Test Loss: 54053.376 --time-- 1.2235488891601562\n",
      "Epoch 501/1000 | Train Loss: 493.533 | Test Loss: 475.715 --time-- 1.2054789066314697\n"
     ]
    },
    {
     "name": "stderr",
     "output_type": "stream",
     "text": [
      "[I 2024-05-05 14:07:49,096] Trial 0 finished with value: 396.14930975437164 and parameters: {'n_layers': 3, 'activation': 'elu', 'weight_init': 'normal', 'n_units_l0': 295, 'n_units_l1': 81, 'n_units_l2': 463, 'batch_norm': False, 'optimizer': 'Adam', 'learning_rate': 0.0019417996138249764, 'regularization': 'l1', 'reg_strength': 0.000413440073105368, 'batch_size': 67}. Best is trial 0 with value: 396.14930975437164.\n"
     ]
    },
    {
     "name": "stdout",
     "output_type": "stream",
     "text": [
      "1205.5821924209595\n",
      "Epoch 1/1000 | Train Loss: 24438.298 | Test Loss: 13860.458 --time-- 0.5304820537567139\n",
      "Epoch 501/1000 | Train Loss: 701.621 | Test Loss: 638.882 --time-- 0.5310814380645752\n"
     ]
    },
    {
     "name": "stderr",
     "output_type": "stream",
     "text": [
      "[I 2024-05-05 14:16:53,804] Trial 1 finished with value: 724.5301494598389 and parameters: {'n_layers': 1, 'activation': 'elu', 'weight_init': 'normal', 'n_units_l0': 252, 'batch_norm': False, 'optimizer': 'RMSprop', 'learning_rate': 0.02921369335333748, 'regularization': 'l1', 'reg_strength': 0.00033100807186020354, 'batch_size': 173}. Best is trial 0 with value: 396.14930975437164.\n"
     ]
    },
    {
     "name": "stdout",
     "output_type": "stream",
     "text": [
      "544.5427465438843\n",
      "Epoch 1/1000 | Train Loss: 50007.480 | Test Loss: 48312.651 --time-- 2.0980870723724365\n",
      "Epoch 501/1000 | Train Loss: 36675.750 | Test Loss: 118786.601 --time-- 2.105877637863159\n"
     ]
    },
    {
     "name": "stderr",
     "output_type": "stream",
     "text": [
      "[I 2024-05-05 14:52:01,430] Trial 2 finished with value: 35628.11991882324 and parameters: {'n_layers': 4, 'activation': 'relu', 'weight_init': 'xavier', 'n_units_l0': 885, 'n_units_l1': 244, 'n_units_l2': 196, 'n_units_l3': 330, 'batch_norm': True, 'optimizer': 'SGD', 'learning_rate': 0.051274518756513954, 'regularization': 'l2', 'reg_strength': 0.00047644445900443263, 'batch_size': 77}. Best is trial 0 with value: 396.14930975437164.\n"
     ]
    },
    {
     "name": "stdout",
     "output_type": "stream",
     "text": [
      "2107.0719282627106\n",
      "Epoch 1/1000 | Train Loss: 9375.501 | Test Loss: 1533.211 --time-- 0.9361512660980225\n",
      "Epoch 501/1000 | Train Loss: 307.937 | Test Loss: 346.439 --time-- 0.9364330768585205\n"
     ]
    },
    {
     "name": "stderr",
     "output_type": "stream",
     "text": [
      "[I 2024-05-05 15:07:44,900] Trial 3 finished with value: 284.61716163158417 and parameters: {'n_layers': 1, 'activation': 'elu', 'weight_init': 'normal', 'n_units_l0': 683, 'batch_norm': True, 'optimizer': 'RMSprop', 'learning_rate': 0.04607673828393817, 'regularization': 'none', 'reg_strength': 8.681340928461363e-05, 'batch_size': 171}. Best is trial 3 with value: 284.61716163158417.\n"
     ]
    },
    {
     "name": "stdout",
     "output_type": "stream",
     "text": [
      "943.0524210929871\n",
      "Epoch 1/1000 | Train Loss: 42834.116 | Test Loss: 30011.631 --time-- 1.130744218826294\n",
      "Epoch 501/1000 | Train Loss: 10198.223 | Test Loss: 11335.989 --time-- 1.1343176364898682\n"
     ]
    },
    {
     "name": "stderr",
     "output_type": "stream",
     "text": [
      "[I 2024-05-05 15:26:39,190] Trial 4 finished with value: 9215.156372070312 and parameters: {'n_layers': 2, 'activation': 'relu', 'weight_init': 'he', 'n_units_l0': 423, 'n_units_l1': 38, 'batch_norm': True, 'optimizer': 'Adam', 'learning_rate': 0.030921127969488538, 'regularization': 'l2', 'reg_strength': 0.00014119408578588347, 'batch_size': 84}. Best is trial 3 with value: 284.61716163158417.\n"
     ]
    },
    {
     "name": "stdout",
     "output_type": "stream",
     "text": [
      "1134.029533624649\n",
      "Epoch 1/1000 | Train Loss: 17744.788 | Test Loss: 14780.848 --time-- 0.331601619720459\n"
     ]
    },
    {
     "name": "stderr",
     "output_type": "stream",
     "text": [
      "[I 2024-05-05 15:26:45,708] Trial 5 pruned. \n",
      "[I 2024-05-05 15:26:48,246] Trial 6 pruned. \n"
     ]
    },
    {
     "name": "stdout",
     "output_type": "stream",
     "text": [
      "Epoch 1/1000 | Train Loss: 1404380.140 | Test Loss: 35637.070 --time-- 1.9344758987426758\n"
     ]
    },
    {
     "name": "stderr",
     "output_type": "stream",
     "text": [
      "[I 2024-05-05 15:26:50,713] Trial 7 pruned. \n"
     ]
    },
    {
     "name": "stdout",
     "output_type": "stream",
     "text": [
      "Epoch 1/1000 | Train Loss: 12583351.332 | Test Loss: 101460.396 --time-- 2.188451051712036\n"
     ]
    },
    {
     "name": "stderr",
     "output_type": "stream",
     "text": [
      "[I 2024-05-05 15:26:52,490] Trial 8 pruned. \n"
     ]
    },
    {
     "name": "stdout",
     "output_type": "stream",
     "text": [
      "Epoch 1/1000 | Train Loss: 21578749.034 | Test Loss: 21657.868 --time-- 1.1604344844818115\n"
     ]
    },
    {
     "name": "stderr",
     "output_type": "stream",
     "text": [
      "[I 2024-05-05 15:26:54,581] Trial 9 pruned. \n"
     ]
    },
    {
     "name": "stdout",
     "output_type": "stream",
     "text": [
      "Epoch 1/1000 | Train Loss: 299946.239 | Test Loss: 28208.088 --time-- 1.5627481937408447\n",
      "Epoch 1/1000 | Train Loss: 21685.696 | Test Loss: 16660.950 --time-- 0.9855377674102783\n",
      "Epoch 501/1000 | Train Loss: 379.731 | Test Loss: 147.868 --time-- 0.984938383102417\n"
     ]
    },
    {
     "name": "stderr",
     "output_type": "stream",
     "text": [
      "[I 2024-05-05 15:43:21,802] Trial 10 finished with value: 336.77388882637024 and parameters: {'n_layers': 2, 'activation': 'leaky_relu', 'weight_init': 'he', 'n_units_l0': 674, 'n_units_l1': 872, 'batch_norm': True, 'optimizer': 'RMSprop', 'learning_rate': 0.06262228994236242, 'regularization': 'none', 'reg_strength': 0.0009962171292298534, 'batch_size': 160}. Best is trial 3 with value: 284.61716163158417.\n"
     ]
    },
    {
     "name": "stdout",
     "output_type": "stream",
     "text": [
      "986.7713639736176\n",
      "Epoch 1/1000 | Train Loss: 21220.701 | Test Loss: 16795.388 --time-- 0.9980401992797852\n",
      "Epoch 501/1000 | Train Loss: 370.116 | Test Loss: 186.907 --time-- 0.998403787612915\n"
     ]
    },
    {
     "name": "stderr",
     "output_type": "stream",
     "text": [
      "[I 2024-05-05 16:00:00,372] Trial 11 finished with value: 341.1594948768616 and parameters: {'n_layers': 2, 'activation': 'leaky_relu', 'weight_init': 'he', 'n_units_l0': 695, 'n_units_l1': 998, 'batch_norm': True, 'optimizer': 'RMSprop', 'learning_rate': 0.05337636812658122, 'regularization': 'none', 'reg_strength': 0.0009861582505955996, 'batch_size': 163}. Best is trial 3 with value: 284.61716163158417.\n"
     ]
    },
    {
     "name": "stdout",
     "output_type": "stream",
     "text": [
      "998.106739282608\n",
      "Epoch 1/1000 | Train Loss: 20472.876 | Test Loss: 13768.443 --time-- 0.9941530227661133\n"
     ]
    },
    {
     "name": "stderr",
     "output_type": "stream",
     "text": [
      "[I 2024-05-05 16:00:06,777] Trial 12 pruned. \n"
     ]
    },
    {
     "name": "stdout",
     "output_type": "stream",
     "text": [
      "Epoch 1/1000 | Train Loss: 22402.738 | Test Loss: 18291.650 --time-- 0.8892323970794678\n"
     ]
    },
    {
     "name": "stderr",
     "output_type": "stream",
     "text": [
      "[I 2024-05-05 16:00:09,007] Trial 13 pruned. \n"
     ]
    },
    {
     "name": "stdout",
     "output_type": "stream",
     "text": [
      "Epoch 1/1000 | Train Loss: 17377.565 | Test Loss: 15159.003 --time-- 0.8781170845031738\n"
     ]
    },
    {
     "name": "stderr",
     "output_type": "stream",
     "text": [
      "[I 2024-05-05 16:00:12,207] Trial 14 pruned. \n",
      "[I 2024-05-05 16:00:14,029] Trial 15 pruned. \n"
     ]
    },
    {
     "name": "stdout",
     "output_type": "stream",
     "text": [
      "Epoch 1/1000 | Train Loss: 30317.576 | Test Loss: 18021446170.000 --time-- 1.289902925491333\n",
      "Epoch 1/1000 | Train Loss: 15031.138 | Test Loss: 3669.131 --time-- 0.778311014175415\n",
      "Epoch 501/1000 | Train Loss: 354.379 | Test Loss: 337.252 --time-- 0.7753973007202148\n"
     ]
    },
    {
     "name": "stderr",
     "output_type": "stream",
     "text": [
      "[I 2024-05-05 16:13:22,710] Trial 16 finished with value: 338.0789852142334 and parameters: {'n_layers': 1, 'activation': 'leaky_relu', 'weight_init': 'he', 'n_units_l0': 543, 'batch_norm': True, 'optimizer': 'RMSprop', 'learning_rate': 0.09897476635797736, 'regularization': 'none', 'reg_strength': 0.0006480538606878072, 'batch_size': 192}. Best is trial 3 with value: 284.61716163158417.\n"
     ]
    },
    {
     "name": "stdout",
     "output_type": "stream",
     "text": [
      "788.3158371448517\n",
      "Epoch 1/1000 | Train Loss: 22334.498 | Test Loss: 9878.811 --time-- 1.165656328201294\n"
     ]
    },
    {
     "name": "stderr",
     "output_type": "stream",
     "text": [
      "[I 2024-05-05 16:13:30,203] Trial 17 pruned. \n"
     ]
    },
    {
     "name": "stdout",
     "output_type": "stream",
     "text": [
      "Epoch 1/1000 | Train Loss: 8301.336 | Test Loss: 1203.727 --time-- 0.5966055393218994\n",
      "Epoch 501/1000 | Train Loss: 239.072 | Test Loss: 831.370 --time-- 0.5963654518127441\n"
     ]
    },
    {
     "name": "stderr",
     "output_type": "stream",
     "text": [
      "[I 2024-05-05 16:23:40,040] Trial 18 finished with value: 209.6026576757431 and parameters: {'n_layers': 1, 'activation': 'elu', 'weight_init': 'he', 'n_units_l0': 359, 'batch_norm': True, 'optimizer': 'RMSprop', 'learning_rate': 0.04419364873515742, 'regularization': 'none', 'reg_strength': 0.0008811596125463264, 'batch_size': 196}. Best is trial 18 with value: 209.6026576757431.\n"
     ]
    },
    {
     "name": "stdout",
     "output_type": "stream",
     "text": [
      "609.5750839710236\n",
      "Epoch 1/1000 | Train Loss: 10004.319 | Test Loss: 2109.531 --time-- 0.5312223434448242\n",
      "Epoch 501/1000 | Train Loss: 187.100 | Test Loss: 92.095 --time-- 0.529930830001831\n"
     ]
    },
    {
     "name": "stderr",
     "output_type": "stream",
     "text": [
      "[I 2024-05-05 16:32:41,948] Trial 19 finished with value: 175.90719377994537 and parameters: {'n_layers': 1, 'activation': 'elu', 'weight_init': 'xavier', 'n_units_l0': 330, 'batch_norm': True, 'optimizer': 'SGD', 'learning_rate': 0.04268505036377852, 'regularization': 'none', 'reg_strength': 0.00016504368946676558, 'batch_size': 217}. Best is trial 19 with value: 175.90719377994537.\n"
     ]
    },
    {
     "name": "stdout",
     "output_type": "stream",
     "text": [
      "541.6652507781982\n"
     ]
    },
    {
     "name": "stderr",
     "output_type": "stream",
     "text": [
      "[I 2024-05-05 16:32:42,729] Trial 20 pruned. \n"
     ]
    },
    {
     "name": "stdout",
     "output_type": "stream",
     "text": [
      "Epoch 1/1000 | Train Loss: 31706.865 | Test Loss: 57823.100 --time-- 0.6397523880004883\n",
      "Epoch 1/1000 | Train Loss: 10058.796 | Test Loss: 1504.994 --time-- 0.5859959125518799\n",
      "Epoch 501/1000 | Train Loss: 222.548 | Test Loss: 213.500 --time-- 0.584151029586792\n"
     ]
    },
    {
     "name": "stderr",
     "output_type": "stream",
     "text": [
      "[I 2024-05-05 16:42:41,240] Trial 21 finished with value: 216.65087747573853 and parameters: {'n_layers': 1, 'activation': 'elu', 'weight_init': 'xavier', 'n_units_l0': 365, 'batch_norm': True, 'optimizer': 'SGD', 'learning_rate': 0.04257637395503554, 'regularization': 'none', 'reg_strength': 0.0001117177422095765, 'batch_size': 200}. Best is trial 19 with value: 175.90719377994537.\n"
     ]
    },
    {
     "name": "stdout",
     "output_type": "stream",
     "text": [
      "598.258062839508\n",
      "Epoch 1/1000 | Train Loss: 10730.879 | Test Loss: 1469.960 --time-- 0.5649209022521973\n",
      "Epoch 501/1000 | Train Loss: 220.167 | Test Loss: 167.371 --time-- 0.7065205574035645\n"
     ]
    },
    {
     "name": "stderr",
     "output_type": "stream",
     "text": [
      "[I 2024-05-05 16:52:16,905] Trial 22 finished with value: 201.75524473190308 and parameters: {'n_layers': 1, 'activation': 'elu', 'weight_init': 'xavier', 'n_units_l0': 342, 'batch_norm': True, 'optimizer': 'SGD', 'learning_rate': 0.04051304649174606, 'regularization': 'none', 'reg_strength': 0.00024828346640838313, 'batch_size': 199}. Best is trial 19 with value: 175.90719377994537.\n"
     ]
    },
    {
     "name": "stdout",
     "output_type": "stream",
     "text": [
      "575.4242022037506\n",
      "Epoch 1/1000 | Train Loss: 14485.152 | Test Loss: 5660.324 --time-- 0.4201779365539551\n",
      "Epoch 501/1000 | Train Loss: 145.870 | Test Loss: 59.231 --time-- 0.4216740131378174\n"
     ]
    },
    {
     "name": "stderr",
     "output_type": "stream",
     "text": [
      "[I 2024-05-05 16:59:26,901] Trial 23 finished with value: 132.50139272212982 and parameters: {'n_layers': 1, 'activation': 'elu', 'weight_init': 'xavier', 'n_units_l0': 140, 'batch_norm': True, 'optimizer': 'SGD', 'learning_rate': 0.029927292204990262, 'regularization': 'none', 'reg_strength': 0.0002860715916369282, 'batch_size': 256}. Best is trial 23 with value: 132.50139272212982.\n"
     ]
    },
    {
     "name": "stdout",
     "output_type": "stream",
     "text": [
      "429.8805422782898\n"
     ]
    },
    {
     "name": "stderr",
     "output_type": "stream",
     "text": [
      "[I 2024-05-05 16:59:27,493] Trial 24 pruned. \n"
     ]
    },
    {
     "name": "stdout",
     "output_type": "stream",
     "text": [
      "Epoch 1/1000 | Train Loss: 19843.135 | Test Loss: 8286.523 --time-- 0.5009982585906982\n"
     ]
    },
    {
     "name": "stderr",
     "output_type": "stream",
     "text": [
      "[I 2024-05-05 16:59:28,079] Trial 25 pruned. \n"
     ]
    },
    {
     "name": "stdout",
     "output_type": "stream",
     "text": [
      "Epoch 1/1000 | Train Loss: 17414.273 | Test Loss: 12517.565 --time-- 0.43532752990722656\n",
      "Epoch 1/1000 | Train Loss: 12743.650 | Test Loss: 2273.699 --time-- 0.45196032524108887\n",
      "Epoch 501/1000 | Train Loss: 150.357 | Test Loss: 68.064 --time-- 0.44991254806518555\n"
     ]
    },
    {
     "name": "stderr",
     "output_type": "stream",
     "text": [
      "[I 2024-05-05 17:07:09,541] Trial 26 finished with value: 128.7985633611679 and parameters: {'n_layers': 1, 'activation': 'elu', 'weight_init': 'xavier', 'n_units_l0': 245, 'batch_norm': True, 'optimizer': 'SGD', 'learning_rate': 0.022046679839144857, 'regularization': 'none', 'reg_strength': 0.00022297857887856973, 'batch_size': 242}. Best is trial 26 with value: 128.7985633611679.\n"
     ]
    },
    {
     "name": "stdout",
     "output_type": "stream",
     "text": [
      "461.2807836532593\n"
     ]
    },
    {
     "name": "stderr",
     "output_type": "stream",
     "text": [
      "[I 2024-05-05 17:07:10,139] Trial 27 pruned. \n"
     ]
    },
    {
     "name": "stdout",
     "output_type": "stream",
     "text": [
      "Epoch 1/1000 | Train Loss: 17221.083 | Test Loss: 10814.668 --time-- 0.4379618167877197\n"
     ]
    },
    {
     "name": "stderr",
     "output_type": "stream",
     "text": [
      "[I 2024-05-05 17:07:10,564] Trial 28 pruned. \n"
     ]
    },
    {
     "name": "stdout",
     "output_type": "stream",
     "text": [
      "Epoch 1/1000 | Train Loss: 21740.736 | Test Loss: 8984.341 --time-- 0.34422993659973145\n"
     ]
    },
    {
     "name": "stderr",
     "output_type": "stream",
     "text": [
      "[I 2024-05-05 17:07:11,413] Trial 29 pruned. \n"
     ]
    },
    {
     "name": "stdout",
     "output_type": "stream",
     "text": [
      "Epoch 1/1000 | Train Loss: 20572.298 | Test Loss: 16994.793 --time-- 0.6301274299621582\n"
     ]
    },
    {
     "name": "stderr",
     "output_type": "stream",
     "text": [
      "[I 2024-05-05 17:07:11,896] Trial 30 pruned. \n"
     ]
    },
    {
     "name": "stdout",
     "output_type": "stream",
     "text": [
      "Epoch 1/1000 | Train Loss: 16184.571 | Test Loss: 6035.595 --time-- 0.37928032875061035\n",
      "Epoch 1/1000 | Train Loss: 9995.570 | Test Loss: 1824.343 --time-- 0.6657986640930176\n",
      "Epoch 501/1000 | Train Loss: 154.311 | Test Loss: 65.605 --time-- 0.6613848209381104\n"
     ]
    },
    {
     "name": "stderr",
     "output_type": "stream",
     "text": [
      "[I 2024-05-05 17:18:26,029] Trial 31 finished with value: 138.7430305480957 and parameters: {'n_layers': 1, 'activation': 'elu', 'weight_init': 'xavier', 'n_units_l0': 390, 'batch_norm': True, 'optimizer': 'SGD', 'learning_rate': 0.03561553097142534, 'regularization': 'none', 'reg_strength': 0.0002671038148957608, 'batch_size': 243}. Best is trial 26 with value: 128.7985633611679.\n"
     ]
    },
    {
     "name": "stdout",
     "output_type": "stream",
     "text": [
      "673.8527069091797\n",
      "Epoch 1/1000 | Train Loss: 11610.528 | Test Loss: 3193.985 --time-- 0.5289978981018066\n",
      "Epoch 501/1000 | Train Loss: 133.603 | Test Loss: 59.339 --time-- 0.5282292366027832\n"
     ]
    },
    {
     "name": "stderr",
     "output_type": "stream",
     "text": [
      "[I 2024-05-05 17:27:24,675] Trial 32 finished with value: 129.53869903087616 and parameters: {'n_layers': 1, 'activation': 'elu', 'weight_init': 'xavier', 'n_units_l0': 262, 'batch_norm': True, 'optimizer': 'SGD', 'learning_rate': 0.032492224372543094, 'regularization': 'none', 'reg_strength': 0.0003084442164057405, 'batch_size': 255}. Best is trial 26 with value: 128.7985633611679.\n"
     ]
    },
    {
     "name": "stdout",
     "output_type": "stream",
     "text": [
      "538.4507043361664\n",
      "Epoch 1/1000 | Train Loss: 12186.535 | Test Loss: 3372.633 --time-- 0.4294013977050781\n",
      "Epoch 501/1000 | Train Loss: 122.128 | Test Loss: 54.334 --time-- 0.42824649810791016\n"
     ]
    },
    {
     "name": "stderr",
     "output_type": "stream",
     "text": [
      "[I 2024-05-05 17:34:43,637] Trial 33 finished with value: 119.7928775548935 and parameters: {'n_layers': 1, 'activation': 'elu', 'weight_init': 'xavier', 'n_units_l0': 240, 'batch_norm': True, 'optimizer': 'SGD', 'learning_rate': 0.028950481175510183, 'regularization': 'none', 'reg_strength': 0.00031071613007658, 'batch_size': 255}. Best is trial 33 with value: 119.7928775548935.\n"
     ]
    },
    {
     "name": "stdout",
     "output_type": "stream",
     "text": [
      "438.7806324958801\n",
      "Epoch 1/1000 | Train Loss: 12459.519 | Test Loss: 2674.670 --time-- 0.43115663528442383\n",
      "Epoch 501/1000 | Train Loss: 136.149 | Test Loss: 63.189 --time-- 0.4301307201385498\n"
     ]
    },
    {
     "name": "stderr",
     "output_type": "stream",
     "text": [
      "[I 2024-05-05 17:42:04,134] Trial 34 finished with value: 121.5157790184021 and parameters: {'n_layers': 1, 'activation': 'elu', 'weight_init': 'xavier', 'n_units_l0': 247, 'batch_norm': True, 'optimizer': 'SGD', 'learning_rate': 0.026535585896083576, 'regularization': 'none', 'reg_strength': 0.0004082133789909435, 'batch_size': 256}. Best is trial 33 with value: 119.7928775548935.\n"
     ]
    },
    {
     "name": "stdout",
     "output_type": "stream",
     "text": [
      "440.31237173080444\n"
     ]
    },
    {
     "name": "stderr",
     "output_type": "stream",
     "text": [
      "[I 2024-05-05 17:42:04,784] Trial 35 pruned. \n"
     ]
    },
    {
     "name": "stdout",
     "output_type": "stream",
     "text": [
      "Epoch 1/1000 | Train Loss: 14251.542 | Test Loss: 2662.278 --time-- 0.46950697898864746\n"
     ]
    },
    {
     "name": "stderr",
     "output_type": "stream",
     "text": [
      "[I 2024-05-05 17:42:06,983] Trial 36 pruned. \n"
     ]
    },
    {
     "name": "stdout",
     "output_type": "stream",
     "text": [
      "Epoch 1/1000 | Train Loss: 56983.576 | Test Loss: 12060.915 --time-- 2.0006070137023926\n"
     ]
    },
    {
     "name": "stderr",
     "output_type": "stream",
     "text": [
      "[I 2024-05-05 17:42:07,363] Trial 37 pruned. \n"
     ]
    },
    {
     "name": "stdout",
     "output_type": "stream",
     "text": [
      "Epoch 1/1000 | Train Loss: 22587.743 | Test Loss: 15106.347 --time-- 0.3341681957244873\n",
      "Epoch 1/1000 | Train Loss: 10409.555 | Test Loss: 1657.128 --time-- 0.7105140686035156\n"
     ]
    },
    {
     "name": "stderr",
     "output_type": "stream",
     "text": [
      "[I 2024-05-05 17:42:09,822] Trial 38 pruned. \n",
      "[I 2024-05-05 17:42:10,697] Trial 39 pruned. \n"
     ]
    },
    {
     "name": "stdout",
     "output_type": "stream",
     "text": [
      "Epoch 1/1000 | Train Loss: 261081.828 | Test Loss: 17702.106 --time-- 0.644118070602417\n"
     ]
    },
    {
     "name": "stderr",
     "output_type": "stream",
     "text": [
      "[I 2024-05-05 17:42:11,934] Trial 40 pruned. \n"
     ]
    },
    {
     "name": "stdout",
     "output_type": "stream",
     "text": [
      "Epoch 1/1000 | Train Loss: 18497.962 | Test Loss: 271906.840 --time-- 0.8586733341217041\n"
     ]
    },
    {
     "name": "stderr",
     "output_type": "stream",
     "text": [
      "[I 2024-05-05 17:42:12,496] Trial 41 pruned. \n"
     ]
    },
    {
     "name": "stdout",
     "output_type": "stream",
     "text": [
      "Epoch 1/1000 | Train Loss: 14483.242 | Test Loss: 5094.225 --time-- 0.4364495277404785\n",
      "Epoch 1/1000 | Train Loss: 12252.663 | Test Loss: 3044.906 --time-- 0.4657557010650635\n",
      "Epoch 501/1000 | Train Loss: 158.254 | Test Loss: 236.209 --time-- 0.449660062789917\n"
     ]
    },
    {
     "name": "stderr",
     "output_type": "stream",
     "text": [
      "[I 2024-05-05 17:49:57,412] Trial 42 finished with value: 150.52135479450226 and parameters: {'n_layers': 1, 'activation': 'elu', 'weight_init': 'xavier', 'n_units_l0': 221, 'batch_norm': True, 'optimizer': 'SGD', 'learning_rate': 0.0314431490626172, 'regularization': 'none', 'reg_strength': 0.00020174159054616502, 'batch_size': 229}. Best is trial 33 with value: 119.7928775548935.\n"
     ]
    },
    {
     "name": "stdout",
     "output_type": "stream",
     "text": [
      "464.7377803325653\n"
     ]
    },
    {
     "name": "stderr",
     "output_type": "stream",
     "text": [
      "[I 2024-05-05 17:49:57,827] Trial 43 pruned. \n"
     ]
    },
    {
     "name": "stdout",
     "output_type": "stream",
     "text": [
      "Epoch 1/1000 | Train Loss: 18515.764 | Test Loss: 10322.164 --time-- 0.34807419776916504\n"
     ]
    },
    {
     "name": "stderr",
     "output_type": "stream",
     "text": [
      "[I 2024-05-05 17:49:58,365] Trial 44 pruned. \n"
     ]
    },
    {
     "name": "stdout",
     "output_type": "stream",
     "text": [
      "Epoch 1/1000 | Train Loss: 14048.281 | Test Loss: 4863.137 --time-- 0.409912109375\n",
      "Epoch 1/1000 | Train Loss: 9720.964 | Test Loss: 2649.997 --time-- 0.5821657180786133\n"
     ]
    },
    {
     "name": "stderr",
     "output_type": "stream",
     "text": [
      "[I 2024-05-05 17:50:00,930] Trial 45 pruned. \n",
      "[I 2024-05-05 17:50:01,916] Trial 46 pruned. \n"
     ]
    },
    {
     "name": "stdout",
     "output_type": "stream",
     "text": [
      "Epoch 1/1000 | Train Loss: 15657.819 | Test Loss: 11727.015 --time-- 0.6791107654571533\n"
     ]
    },
    {
     "name": "stderr",
     "output_type": "stream",
     "text": [
      "[I 2024-05-05 17:50:02,784] Trial 47 pruned. \n"
     ]
    },
    {
     "name": "stdout",
     "output_type": "stream",
     "text": [
      "Epoch 1/1000 | Train Loss: 21416.153 | Test Loss: 10489.146 --time-- 0.6801729202270508\n"
     ]
    },
    {
     "name": "stderr",
     "output_type": "stream",
     "text": [
      "[I 2024-05-05 17:50:03,316] Trial 48 pruned. \n"
     ]
    },
    {
     "name": "stdout",
     "output_type": "stream",
     "text": [
      "Epoch 1/1000 | Train Loss: 14961.853 | Test Loss: 3164.365 --time-- 0.40639281272888184\n"
     ]
    },
    {
     "name": "stderr",
     "output_type": "stream",
     "text": [
      "[I 2024-05-05 17:50:04,349] Trial 49 pruned. \n"
     ]
    },
    {
     "name": "stdout",
     "output_type": "stream",
     "text": [
      "Epoch 1/1000 | Train Loss: 40176.734 | Test Loss: 23639.691 --time-- 0.9511890411376953\n"
     ]
    },
    {
     "name": "stderr",
     "output_type": "stream",
     "text": [
      "[I 2024-05-05 17:50:05,352] Trial 50 pruned. \n"
     ]
    },
    {
     "name": "stdout",
     "output_type": "stream",
     "text": [
      "Epoch 1/1000 | Train Loss: 27581.500 | Test Loss: 16598.492 --time-- 0.7107834815979004\n",
      "Epoch 1/1000 | Train Loss: 9592.726 | Test Loss: 1977.266 --time-- 0.6691818237304688\n",
      "Epoch 501/1000 | Train Loss: 173.569 | Test Loss: 152.173 --time-- 0.6575772762298584\n"
     ]
    },
    {
     "name": "stderr",
     "output_type": "stream",
     "text": [
      "[I 2024-05-05 18:01:12,973] Trial 51 finished with value: 188.0648978948593 and parameters: {'n_layers': 1, 'activation': 'elu', 'weight_init': 'xavier', 'n_units_l0': 386, 'batch_norm': True, 'optimizer': 'SGD', 'learning_rate': 0.03670417227493738, 'regularization': 'none', 'reg_strength': 0.00027916320679953553, 'batch_size': 246}. Best is trial 33 with value: 119.7928775548935.\n"
     ]
    },
    {
     "name": "stdout",
     "output_type": "stream",
     "text": [
      "667.3497712612152\n"
     ]
    },
    {
     "name": "stderr",
     "output_type": "stream",
     "text": [
      "[I 2024-05-05 18:01:13,949] Trial 52 pruned. \n"
     ]
    },
    {
     "name": "stdout",
     "output_type": "stream",
     "text": [
      "Epoch 1/1000 | Train Loss: 14242.436 | Test Loss: 2309.703 --time-- 0.7531464099884033\n",
      "Epoch 1/1000 | Train Loss: 12138.364 | Test Loss: 3971.317 --time-- 0.42713117599487305\n"
     ]
    },
    {
     "name": "stderr",
     "output_type": "stream",
     "text": [
      "[I 2024-05-05 18:01:14,976] Trial 53 pruned. \n"
     ]
    },
    {
     "name": "stdout",
     "output_type": "stream",
     "text": [
      "Epoch 1/1000 | Train Loss: 10306.746 | Test Loss: 2666.130 --time-- 0.556652307510376\n"
     ]
    },
    {
     "name": "stderr",
     "output_type": "stream",
     "text": [
      "[I 2024-05-05 18:01:52,179] Trial 54 pruned. \n",
      "[I 2024-05-05 18:01:52,986] Trial 55 pruned. \n"
     ]
    },
    {
     "name": "stdout",
     "output_type": "stream",
     "text": [
      "Epoch 1/1000 | Train Loss: 13622.149 | Test Loss: 3067.730 --time-- 0.5776538848876953\n",
      "Epoch 1/1000 | Train Loss: 8556.774 | Test Loss: 4480.778 --time-- 0.677910327911377\n"
     ]
    },
    {
     "name": "stderr",
     "output_type": "stream",
     "text": [
      "[I 2024-05-05 18:01:57,967] Trial 56 pruned. \n",
      "[I 2024-05-05 18:01:58,448] Trial 57 pruned. \n"
     ]
    },
    {
     "name": "stdout",
     "output_type": "stream",
     "text": [
      "Epoch 1/1000 | Train Loss: 15278.021 | Test Loss: 7688.974 --time-- 0.3735921382904053\n"
     ]
    },
    {
     "name": "stderr",
     "output_type": "stream",
     "text": [
      "[I 2024-05-05 18:01:59,019] Trial 58 pruned. \n"
     ]
    },
    {
     "name": "stdout",
     "output_type": "stream",
     "text": [
      "Epoch 1/1000 | Train Loss: 18316.945 | Test Loss: 11780.357 --time-- 0.42577362060546875\n"
     ]
    },
    {
     "name": "stderr",
     "output_type": "stream",
     "text": [
      "[I 2024-05-05 18:02:00,049] Trial 59 pruned. \n"
     ]
    },
    {
     "name": "stdout",
     "output_type": "stream",
     "text": [
      "Epoch 1/1000 | Train Loss: 13026.667 | Test Loss: 2228.155 --time-- 0.7862420082092285\n"
     ]
    },
    {
     "name": "stderr",
     "output_type": "stream",
     "text": [
      "[I 2024-05-05 18:02:01,057] Trial 60 pruned. \n"
     ]
    },
    {
     "name": "stdout",
     "output_type": "stream",
     "text": [
      "Epoch 1/1000 | Train Loss: 17930.569 | Test Loss: 16429.380 --time-- 0.6648273468017578\n"
     ]
    },
    {
     "name": "stderr",
     "output_type": "stream",
     "text": [
      "[I 2024-05-05 18:02:01,697] Trial 61 pruned. \n"
     ]
    },
    {
     "name": "stdout",
     "output_type": "stream",
     "text": [
      "Epoch 1/1000 | Train Loss: 12644.222 | Test Loss: 2888.705 --time-- 0.45784497261047363\n"
     ]
    },
    {
     "name": "stderr",
     "output_type": "stream",
     "text": [
      "[I 2024-05-05 18:02:02,437] Trial 62 pruned. \n"
     ]
    },
    {
     "name": "stdout",
     "output_type": "stream",
     "text": [
      "Epoch 1/1000 | Train Loss: 12463.836 | Test Loss: 2746.595 --time-- 0.540687084197998\n"
     ]
    },
    {
     "name": "stderr",
     "output_type": "stream",
     "text": [
      "[I 2024-05-05 18:02:03,156] Trial 63 pruned. \n"
     ]
    },
    {
     "name": "stdout",
     "output_type": "stream",
     "text": [
      "Epoch 1/1000 | Train Loss: 13332.780 | Test Loss: 3705.020 --time-- 0.5710556507110596\n"
     ]
    },
    {
     "name": "stderr",
     "output_type": "stream",
     "text": [
      "[I 2024-05-05 18:02:03,841] Trial 64 pruned. \n"
     ]
    },
    {
     "name": "stdout",
     "output_type": "stream",
     "text": [
      "Epoch 1/1000 | Train Loss: 14688.181 | Test Loss: 1565.191 --time-- 0.5194611549377441\n",
      "Epoch 1/1000 | Train Loss: 8539.942 | Test Loss: 1512.122 --time-- 0.5382089614868164\n",
      "Epoch 501/1000 | Train Loss: 152.408 | Test Loss: 66.800 --time-- 0.533703088760376\n"
     ]
    },
    {
     "name": "stderr",
     "output_type": "stream",
     "text": [
      "[I 2024-05-05 18:11:08,471] Trial 65 finished with value: 136.84343707561493 and parameters: {'n_layers': 1, 'activation': 'elu', 'weight_init': 'he', 'n_units_l0': 375, 'batch_norm': True, 'optimizer': 'SGD', 'learning_rate': 0.033081346916082346, 'regularization': 'none', 'reg_strength': 0.00023637917886331435, 'batch_size': 240}. Best is trial 33 with value: 119.7928775548935.\n"
     ]
    },
    {
     "name": "stdout",
     "output_type": "stream",
     "text": [
      "544.3654308319092\n",
      "Epoch 1/1000 | Train Loss: 10192.677 | Test Loss: 1209.879 --time-- 0.5345602035522461\n",
      "Epoch 501/1000 | Train Loss: 132.443 | Test Loss: 95.269 --time-- 0.5353820323944092\n"
     ]
    },
    {
     "name": "stderr",
     "output_type": "stream",
     "text": [
      "[I 2024-05-05 18:20:13,612] Trial 66 finished with value: 127.05337738990784 and parameters: {'n_layers': 1, 'activation': 'elu', 'weight_init': 'he', 'n_units_l0': 378, 'batch_norm': True, 'optimizer': 'SGD', 'learning_rate': 0.020785897939421573, 'regularization': 'none', 'reg_strength': 0.0003482230012953528, 'batch_size': 241}. Best is trial 33 with value: 119.7928775548935.\n"
     ]
    },
    {
     "name": "stdout",
     "output_type": "stream",
     "text": [
      "544.8623237609863\n"
     ]
    },
    {
     "name": "stderr",
     "output_type": "stream",
     "text": [
      "[I 2024-05-05 18:20:14,471] Trial 67 pruned. \n"
     ]
    },
    {
     "name": "stdout",
     "output_type": "stream",
     "text": [
      "Epoch 1/1000 | Train Loss: 12539.910 | Test Loss: 1528.884 --time-- 0.6027569770812988\n"
     ]
    },
    {
     "name": "stderr",
     "output_type": "stream",
     "text": [
      "[I 2024-05-05 18:20:15,673] Trial 68 pruned. \n"
     ]
    },
    {
     "name": "stdout",
     "output_type": "stream",
     "text": [
      "Epoch 1/1000 | Train Loss: 21037.853 | Test Loss: 14824.345 --time-- 0.8393139839172363\n"
     ]
    },
    {
     "name": "stderr",
     "output_type": "stream",
     "text": [
      "[I 2024-05-05 18:20:16,998] Trial 69 pruned. \n"
     ]
    },
    {
     "name": "stdout",
     "output_type": "stream",
     "text": [
      "Epoch 1/1000 | Train Loss: 15385.176 | Test Loss: 2806.116 --time-- 1.09309983253479\n"
     ]
    },
    {
     "name": "stderr",
     "output_type": "stream",
     "text": [
      "[I 2024-05-05 18:20:17,934] Trial 70 pruned. \n"
     ]
    },
    {
     "name": "stdout",
     "output_type": "stream",
     "text": [
      "Epoch 1/1000 | Train Loss: 17113.716 | Test Loss: 15005.088 --time-- 0.6302745342254639\n",
      "Epoch 1/1000 | Train Loss: 8094.609 | Test Loss: 1245.329 --time-- 0.626147985458374\n",
      "Epoch 501/1000 | Train Loss: 146.239 | Test Loss: 53.804 --time-- 0.6240863800048828\n"
     ]
    },
    {
     "name": "stderr",
     "output_type": "stream",
     "text": [
      "[I 2024-05-05 18:30:52,530] Trial 71 finished with value: 141.30568885803223 and parameters: {'n_layers': 1, 'activation': 'elu', 'weight_init': 'he', 'n_units_l0': 459, 'batch_norm': True, 'optimizer': 'SGD', 'learning_rate': 0.03459865858595648, 'regularization': 'none', 'reg_strength': 0.0002584021871435533, 'batch_size': 243}. Best is trial 33 with value: 119.7928775548935.\n"
     ]
    },
    {
     "name": "stdout",
     "output_type": "stream",
     "text": [
      "634.279388666153\n",
      "Epoch 1/1000 | Train Loss: 9268.531 | Test Loss: 1642.164 --time-- 0.684718132019043\n",
      "Epoch 501/1000 | Train Loss: 144.365 | Test Loss: 142.755 --time-- 0.683485746383667\n"
     ]
    },
    {
     "name": "stderr",
     "output_type": "stream",
     "text": [
      "[I 2024-05-05 18:42:28,478] Trial 72 finished with value: 136.6089140176773 and parameters: {'n_layers': 1, 'activation': 'elu', 'weight_init': 'he', 'n_units_l0': 393, 'batch_norm': True, 'optimizer': 'SGD', 'learning_rate': 0.024816280664911962, 'regularization': 'none', 'reg_strength': 0.00031277937661840216, 'batch_size': 233}. Best is trial 33 with value: 119.7928775548935.\n"
     ]
    },
    {
     "name": "stdout",
     "output_type": "stream",
     "text": [
      "695.671266078949\n",
      "Epoch 1/1000 | Train Loss: 8715.551 | Test Loss: 1086.745 --time-- 0.8666236400604248\n",
      "Epoch 501/1000 | Train Loss: 149.630 | Test Loss: 224.799 --time-- 0.8694641590118408\n"
     ]
    },
    {
     "name": "stderr",
     "output_type": "stream",
     "text": [
      "[I 2024-05-05 18:57:05,938] Trial 73 finished with value: 123.38535904884338 and parameters: {'n_layers': 1, 'activation': 'elu', 'weight_init': 'he', 'n_units_l0': 598, 'batch_norm': True, 'optimizer': 'SGD', 'learning_rate': 0.02346274662619077, 'regularization': 'none', 'reg_strength': 0.00032050964696928036, 'batch_size': 232}. Best is trial 33 with value: 119.7928775548935.\n"
     ]
    },
    {
     "name": "stdout",
     "output_type": "stream",
     "text": [
      "877.0376844406128\n"
     ]
    },
    {
     "name": "stderr",
     "output_type": "stream",
     "text": [
      "[I 2024-05-05 18:57:07,256] Trial 74 pruned. \n"
     ]
    },
    {
     "name": "stdout",
     "output_type": "stream",
     "text": [
      "Epoch 1/1000 | Train Loss: 30955.148 | Test Loss: 17440.397 --time-- 0.8943979740142822\n",
      "Epoch 1/1000 | Train Loss: 9099.718 | Test Loss: 1101.974 --time-- 0.7586054801940918\n"
     ]
    },
    {
     "name": "stderr",
     "output_type": "stream",
     "text": [
      "[I 2024-05-05 18:57:10,090] Trial 75 pruned. \n"
     ]
    },
    {
     "name": "stdout",
     "output_type": "stream",
     "text": [
      "Epoch 1/1000 | Train Loss: 9707.432 | Test Loss: 1503.187 --time-- 0.8331038951873779\n",
      "Epoch 501/1000 | Train Loss: 107.245 | Test Loss: 32.608 --time-- 0.991830587387085\n"
     ]
    },
    {
     "name": "stderr",
     "output_type": "stream",
     "text": [
      "[I 2024-05-05 19:11:00,796] Trial 76 finished with value: 113.97299516201019 and parameters: {'n_layers': 1, 'activation': 'relu', 'weight_init': 'he', 'n_units_l0': 574, 'batch_norm': True, 'optimizer': 'SGD', 'learning_rate': 0.019204049948359517, 'regularization': 'none', 'reg_strength': 0.0003993910874071267, 'batch_size': 256}. Best is trial 76 with value: 113.97299516201019.\n"
     ]
    },
    {
     "name": "stdout",
     "output_type": "stream",
     "text": [
      "830.3214099407196\n",
      "Epoch 1/1000 | Train Loss: 9352.584 | Test Loss: 1169.573 --time-- 0.8399927616119385\n",
      "Epoch 501/1000 | Train Loss: 127.816 | Test Loss: 37.675 --time-- 0.8410031795501709\n"
     ]
    },
    {
     "name": "stderr",
     "output_type": "stream",
     "text": [
      "[I 2024-05-05 19:25:12,460] Trial 77 finished with value: 110.25415349006653 and parameters: {'n_layers': 1, 'activation': 'relu', 'weight_init': 'he', 'n_units_l0': 652, 'batch_norm': True, 'optimizer': 'SGD', 'learning_rate': 0.018388748973892147, 'regularization': 'none', 'reg_strength': 0.00039661517960734897, 'batch_size': 251}. Best is trial 77 with value: 110.25415349006653.\n"
     ]
    },
    {
     "name": "stdout",
     "output_type": "stream",
     "text": [
      "851.2317042350769\n",
      "Epoch 1/1000 | Train Loss: 9573.870 | Test Loss: 1199.767 --time-- 0.832526445388794\n",
      "Epoch 501/1000 | Train Loss: 120.814 | Test Loss: 38.996 --time-- 0.8304734230041504\n"
     ]
    },
    {
     "name": "stderr",
     "output_type": "stream",
     "text": [
      "[I 2024-05-05 19:39:15,680] Trial 78 finished with value: 105.90128165483475 and parameters: {'n_layers': 1, 'activation': 'relu', 'weight_init': 'he', 'n_units_l0': 725, 'batch_norm': True, 'optimizer': 'SGD', 'learning_rate': 0.014451326814678426, 'regularization': 'none', 'reg_strength': 0.00040815728299145056, 'batch_size': 251}. Best is trial 78 with value: 105.90128165483475.\n"
     ]
    },
    {
     "name": "stdout",
     "output_type": "stream",
     "text": [
      "842.7413647174835\n"
     ]
    },
    {
     "name": "stderr",
     "output_type": "stream",
     "text": [
      "[I 2024-05-05 19:39:16,983] Trial 79 pruned. \n"
     ]
    },
    {
     "name": "stdout",
     "output_type": "stream",
     "text": [
      "Epoch 1/1000 | Train Loss: 11251.758 | Test Loss: 1383.404 --time-- 0.8384521007537842\n"
     ]
    },
    {
     "name": "stderr",
     "output_type": "stream",
     "text": [
      "[I 2024-05-05 19:39:18,596] Trial 80 pruned. \n"
     ]
    },
    {
     "name": "stdout",
     "output_type": "stream",
     "text": [
      "Epoch 1/1000 | Train Loss: 16604.938 | Test Loss: 1210.823 --time-- 1.1254639625549316\n",
      "Epoch 1/1000 | Train Loss: 10175.524 | Test Loss: 1156.753 --time-- 0.8381257057189941\n",
      "Epoch 501/1000 | Train Loss: 110.163 | Test Loss: 35.576 --time-- 0.8387129306793213\n"
     ]
    },
    {
     "name": "stderr",
     "output_type": "stream",
     "text": [
      "[I 2024-05-05 19:53:28,484] Trial 81 finished with value: 101.4488878250122 and parameters: {'n_layers': 1, 'activation': 'relu', 'weight_init': 'he', 'n_units_l0': 644, 'batch_norm': True, 'optimizer': 'SGD', 'learning_rate': 0.01459126942955301, 'regularization': 'none', 'reg_strength': 0.000399935829738892, 'batch_size': 251}. Best is trial 81 with value: 101.4488878250122.\n"
     ]
    },
    {
     "name": "stdout",
     "output_type": "stream",
     "text": [
      "849.4563655853271\n"
     ]
    },
    {
     "name": "stderr",
     "output_type": "stream",
     "text": [
      "[I 2024-05-05 19:53:29,785] Trial 82 pruned. \n"
     ]
    },
    {
     "name": "stdout",
     "output_type": "stream",
     "text": [
      "Epoch 1/1000 | Train Loss: 10293.954 | Test Loss: 1309.533 --time-- 0.880333662033081\n",
      "Epoch 1/1000 | Train Loss: 8578.997 | Test Loss: 1145.822 --time-- 0.9974524974822998\n",
      "Epoch 501/1000 | Train Loss: 109.817 | Test Loss: 45.142 --time-- 1.0012106895446777\n"
     ]
    },
    {
     "name": "stderr",
     "output_type": "stream",
     "text": [
      "[I 2024-05-05 20:10:18,096] Trial 83 finished with value: 104.26472508907318 and parameters: {'n_layers': 1, 'activation': 'relu', 'weight_init': 'he', 'n_units_l0': 828, 'batch_norm': True, 'optimizer': 'SGD', 'learning_rate': 0.017992711406309675, 'regularization': 'none', 'reg_strength': 0.00040388320556877756, 'batch_size': 250}. Best is trial 81 with value: 101.4488878250122.\n"
     ]
    },
    {
     "name": "stdout",
     "output_type": "stream",
     "text": [
      "1007.7526988983154\n",
      "Epoch 1/1000 | Train Loss: 8526.548 | Test Loss: 1325.576 --time-- 0.9941980838775635\n",
      "Epoch 501/1000 | Train Loss: 114.506 | Test Loss: 30.915 --time-- 0.9899356365203857\n"
     ]
    },
    {
     "name": "stderr",
     "output_type": "stream",
     "text": [
      "[I 2024-05-05 20:26:59,121] Trial 84 finished with value: 118.70478057861328 and parameters: {'n_layers': 1, 'activation': 'relu', 'weight_init': 'he', 'n_units_l0': 826, 'batch_norm': True, 'optimizer': 'SGD', 'learning_rate': 0.01826695809336478, 'regularization': 'none', 'reg_strength': 0.0003989499893101443, 'batch_size': 252}. Best is trial 81 with value: 101.4488878250122.\n"
     ]
    },
    {
     "name": "stdout",
     "output_type": "stream",
     "text": [
      "1000.4862542152405\n"
     ]
    },
    {
     "name": "stderr",
     "output_type": "stream",
     "text": [
      "[I 2024-05-05 20:27:00,948] Trial 85 pruned. \n"
     ]
    },
    {
     "name": "stdout",
     "output_type": "stream",
     "text": [
      "Epoch 1/1000 | Train Loss: 13619.829 | Test Loss: 1690.050 --time-- 1.2500319480895996\n"
     ]
    },
    {
     "name": "stderr",
     "output_type": "stream",
     "text": [
      "[I 2024-05-05 20:27:02,755] Trial 86 pruned. \n"
     ]
    },
    {
     "name": "stdout",
     "output_type": "stream",
     "text": [
      "Epoch 1/1000 | Train Loss: 21068.984 | Test Loss: 14446.384 --time-- 1.2402455806732178\n",
      "Epoch 1/1000 | Train Loss: 9347.166 | Test Loss: 2029.695 --time-- 1.036695957183838\n"
     ]
    },
    {
     "name": "stderr",
     "output_type": "stream",
     "text": [
      "[I 2024-05-05 20:27:06,384] Trial 87 pruned. \n"
     ]
    },
    {
     "name": "stdout",
     "output_type": "stream",
     "text": [
      "Epoch 1/1000 | Train Loss: 8812.001 | Test Loss: 2402.289 --time-- 1.0391440391540527\n"
     ]
    },
    {
     "name": "stderr",
     "output_type": "stream",
     "text": [
      "[I 2024-05-05 20:27:12,120] Trial 88 pruned. \n"
     ]
    },
    {
     "name": "stdout",
     "output_type": "stream",
     "text": [
      "Epoch 1/1000 | Train Loss: 9943.999 | Test Loss: 1619.411 --time-- 0.8527200222015381\n",
      "Epoch 501/1000 | Train Loss: 111.628 | Test Loss: 45.842 --time-- 0.8412525653839111\n"
     ]
    },
    {
     "name": "stderr",
     "output_type": "stream",
     "text": [
      "[I 2024-05-05 20:41:24,986] Trial 89 finished with value: 105.6905711889267 and parameters: {'n_layers': 1, 'activation': 'relu', 'weight_init': 'he', 'n_units_l0': 650, 'batch_norm': True, 'optimizer': 'SGD', 'learning_rate': 0.014433261256850804, 'regularization': 'none', 'reg_strength': 0.0004025495200200304, 'batch_size': 251}. Best is trial 81 with value: 101.4488878250122.\n"
     ]
    },
    {
     "name": "stdout",
     "output_type": "stream",
     "text": [
      "852.4086291790009\n",
      "Epoch 1/1000 | Train Loss: 8812.232 | Test Loss: 1721.544 --time-- 1.4290118217468262\n"
     ]
    },
    {
     "name": "stderr",
     "output_type": "stream",
     "text": [
      "[I 2024-05-05 20:41:29,892] Trial 90 pruned. \n",
      "[I 2024-05-05 20:41:31,188] Trial 91 pruned. \n"
     ]
    },
    {
     "name": "stdout",
     "output_type": "stream",
     "text": [
      "Epoch 1/1000 | Train Loss: 11470.858 | Test Loss: 1983.828 --time-- 0.8544056415557861\n"
     ]
    },
    {
     "name": "stderr",
     "output_type": "stream",
     "text": [
      "[I 2024-05-05 20:41:32,410] Trial 92 pruned. \n"
     ]
    },
    {
     "name": "stdout",
     "output_type": "stream",
     "text": [
      "Epoch 1/1000 | Train Loss: 30478.317 | Test Loss: 37869.340 --time-- 0.8315482139587402\n",
      "Epoch 1/1000 | Train Loss: 8814.487 | Test Loss: 1292.701 --time-- 0.9628431797027588\n"
     ]
    },
    {
     "name": "stderr",
     "output_type": "stream",
     "text": [
      "[I 2024-05-05 20:41:37,757] Trial 93 pruned. \n",
      "[I 2024-05-05 20:41:39,320] Trial 94 pruned. \n"
     ]
    },
    {
     "name": "stdout",
     "output_type": "stream",
     "text": [
      "Epoch 1/1000 | Train Loss: 12400.233 | Test Loss: 2288.763 --time-- 1.1286346912384033\n",
      "Epoch 1/1000 | Train Loss: 8445.979 | Test Loss: 1796.892 --time-- 0.8561666011810303\n"
     ]
    },
    {
     "name": "stderr",
     "output_type": "stream",
     "text": [
      "[I 2024-05-05 20:41:43,189] Trial 95 pruned. \n"
     ]
    },
    {
     "name": "stdout",
     "output_type": "stream",
     "text": [
      "Epoch 1/1000 | Train Loss: 9721.226 | Test Loss: 2082.286 --time-- 0.823711633682251\n",
      "Epoch 501/1000 | Train Loss: 112.929 | Test Loss: 31.719 --time-- 0.8235728740692139\n"
     ]
    },
    {
     "name": "stderr",
     "output_type": "stream",
     "text": [
      "[I 2024-05-05 20:55:37,640] Trial 96 finished with value: 105.67104244232178 and parameters: {'n_layers': 1, 'activation': 'relu', 'weight_init': 'he', 'n_units_l0': 755, 'batch_norm': True, 'optimizer': 'SGD', 'learning_rate': 0.015625354028779417, 'regularization': 'none', 'reg_strength': 0.00034540393515273535, 'batch_size': 252}. Best is trial 81 with value: 101.4488878250122.\n"
     ]
    },
    {
     "name": "stdout",
     "output_type": "stream",
     "text": [
      "833.9533033370972\n"
     ]
    },
    {
     "name": "stderr",
     "output_type": "stream",
     "text": [
      "[I 2024-05-05 20:55:38,948] Trial 97 pruned. \n"
     ]
    },
    {
     "name": "stdout",
     "output_type": "stream",
     "text": [
      "Epoch 1/1000 | Train Loss: 13349.140 | Test Loss: 1096.373 --time-- 0.819005012512207\n"
     ]
    },
    {
     "name": "stderr",
     "output_type": "stream",
     "text": [
      "[I 2024-05-05 20:55:40,248] Trial 98 pruned. \n"
     ]
    },
    {
     "name": "stdout",
     "output_type": "stream",
     "text": [
      "Epoch 1/1000 | Train Loss: 19809.670 | Test Loss: 3672.191 --time-- 0.8386752605438232\n"
     ]
    },
    {
     "name": "stderr",
     "output_type": "stream",
     "text": [
      "[I 2024-05-05 20:55:41,662] Trial 99 pruned. \n"
     ]
    },
    {
     "name": "stdout",
     "output_type": "stream",
     "text": [
      "Epoch 1/1000 | Train Loss: 15268.314 | Test Loss: 9903.838 --time-- 0.914541482925415\n"
     ]
    }
   ],
   "source": [
    "# Make some empty lists for use in plotting metrics for each parameter\n",
    "trialNum = []\n",
    "v = 0\n",
    "TrainLoss = []\n",
    "TestLoss = []\n",
    "NumLayers = []\n",
    "ActivFunc = []\n",
    "OptimFunc = []\n",
    "LearnRate = []\n",
    "BatchSize = []\n",
    "TotalTime = []\n",
    "NodesPerLayer = []  # New list to record the number of nodes per layer\n",
    "Initializer = []  # New list to record the weight initialization method\n",
    "BatchNorm = []  # New list to record whether batch normalization is used\n",
    "RegularizationType = []  # New list to record the type of regularization used\n",
    "\n",
    "# Define an objective function to be minimized.\n",
    "def objective(trial):\n",
    "\n",
    "    # Suggest values of the hyperparameters using a trial object.\n",
    "    n_layers = trial.suggest_int('n_layers', 1, 4)\n",
    "    \n",
    "    ## Make some empty variables for use in model building and to record variables for plotting performance per metric\n",
    "    layers = []\n",
    "\n",
    "    activation = trial.suggest_categorical('activation', ['relu', 'leaky_relu', 'elu'])\n",
    "    \n",
    "    # Add weight initialization as a hyperparameter\n",
    "    weight_init = trial.suggest_categorical('weight_init', ['he', 'xavier', 'normal'])\n",
    "    Initializer.append(weight_init)\n",
    "\n",
    "    in_features = 46000\n",
    "    nodes_per_layer = []  # Record the number of nodes per layer\n",
    "    \n",
    "    for i in range(n_layers):\n",
    "        out_features = trial.suggest_int(f'n_units_l{i}', 10, 1000)\n",
    "        linear_layer = torch.nn.Linear(in_features, out_features)\n",
    "        nodes_per_layer.append(out_features)  # Record the number of nodes for this layer\n",
    "        \n",
    "        # Initialize weights based on the selected method\n",
    "        if weight_init == 'he':\n",
    "            nn.init.kaiming_normal_(linear_layer.weight, mode='fan_out', nonlinearity='relu')\n",
    "        elif weight_init == 'xavier':\n",
    "            nn.init.xavier_normal_(linear_layer.weight)\n",
    "        else:\n",
    "            nn.init.normal_(linear_layer.weight, mean=0, std=0.01)  # Standard normal initialization\n",
    "        \n",
    "        layers.append(linear_layer)\n",
    "\n",
    "        if activation == 'relu':\n",
    "            layers.append(torch.nn.ReLU())\n",
    "        elif activation == 'leaky_relu':\n",
    "            layers.append(torch.nn.LeakyReLU())\n",
    "        elif activation == 'elu':\n",
    "            layers.append(torch.nn.ELU())\n",
    "        \n",
    "        in_features = out_features\n",
    "        \n",
    "    # Add batch normalization layer\n",
    "    if trial.suggest_categorical('batch_norm', [True, False]):\n",
    "        layers.append(nn.BatchNorm1d(out_features))\n",
    "        BatchNorm.append(True)\n",
    "    else:\n",
    "        BatchNorm.append(False)\n",
    "\n",
    "    \n",
    "    # Add the final layer with output nodes corresponding to the number of analytes\n",
    "    layers.append(torch.nn.Linear(in_features, 44))\n",
    "\n",
    "    model = torch.nn.Sequential(*layers)\n",
    "    model.to(device)  # Move the model to the GPU    \n",
    "    \n",
    "    # Train and evaluate the model to obtain the loss\n",
    "    optimizer_name = trial.suggest_categorical(\"optimizer\", [\"Adam\", \"RMSprop\", \"SGD\"])\n",
    "    learning_rate = trial.suggest_float('learning_rate', 1e-5, 1e-1)\n",
    "    \n",
    "    if optimizer_name == \"Adam\":\n",
    "        optimizer = torch.optim.Adam(model.parameters(), lr=learning_rate)\n",
    "    elif optimizer_name == \"RMSprop\":\n",
    "        optimizer = torch.optim.RMSprop(model.parameters(), lr=learning_rate)\n",
    "    else:\n",
    "        optimizer_name == \"SGD\"\n",
    "        optimizer = torch.optim.SGD(model.parameters(), lr=learning_rate)\n",
    "    \n",
    "    # Add regularization\n",
    "    reg_type = trial.suggest_categorical('regularization', ['none', 'l1', 'l2'])\n",
    "    reg_strength = trial.suggest_float('reg_strength', 1e-6, 1e-3)\n",
    "    RegularizationType.append(reg_type)\n",
    "    # Add regularization to the optimizer\n",
    "    if reg_type == 'l1':\n",
    "        optimizer = torch.optim.Adam(model.parameters(), lr=learning_rate, weight_decay=reg_strength)\n",
    "    elif reg_type == 'l2':\n",
    "        optimizer = torch.optim.Adam(model.parameters(), lr=learning_rate, weight_decay=reg_strength)\n",
    "    else:\n",
    "        optimizer = torch.optim.Adam(model.parameters(), lr=learning_rate)\n",
    "        \n",
    "    ## Split training data appropriately, selecting the batch size as a hyperparameter\n",
    "    bs = trial.suggest_int('batch_size', 16, 256)\n",
    "    train_loader = torch.utils.data.DataLoader(datasets, batch_size=bs, shuffle=True)\n",
    "    test_loader = torch.utils.data.DataLoader(datasets, batch_size=bs, shuffle=False)\n",
    "    \n",
    "    num_epochs = 1000  # Number of epochs (you can adjust as needed)\n",
    "    \n",
    "    criterion = torch.nn.MSELoss()\n",
    "\n",
    "    start = time.time()\n",
    "    for epoch in range(num_epochs):\n",
    "        start2 = time.time()\n",
    "        running_train_loss = 0.\n",
    "        running_test_loss = 0.\n",
    "        \n",
    "        # Training phase\n",
    "        model.train()\n",
    "        for inputs, labels in train_loader:\n",
    "            inputs, labels = inputs.to(device), labels.to(device)  # Move input data to the GPU\n",
    "            optimizer.zero_grad()\n",
    "            outputs = model(inputs)\n",
    "            loss = criterion(outputs, labels)  # Make sure labels are properly loaded and passed here\n",
    "            loss.backward()\n",
    "            optimizer.step()\n",
    "            running_train_loss += loss.item()\n",
    "        \n",
    "        # Testing phase\n",
    "        model.eval()\n",
    "        with torch.no_grad():\n",
    "            for inputs, labels in test_loader:\n",
    "                inputs, labels = inputs.to(device), labels.to(device)  # Move input data to the GPU\n",
    "                outputs = model(inputs)\n",
    "                loss = criterion(outputs, labels)\n",
    "                running_test_loss += loss.item()\n",
    "                \n",
    "        TrainLoss.append(running_train_loss)\n",
    "        TestLoss.append(running_test_loss)\n",
    "\n",
    "        # Print loss every 500 epochs\n",
    "        if epoch % 500 == 0:\n",
    "            end_time2 = time.time()\n",
    "            print(f'Epoch {epoch + 1}/{num_epochs} | Train Loss: {running_train_loss:.3f} | Test Loss: {running_test_loss:.3f}', \"--time--\", end_time2-start2)\n",
    "\n",
    "        # Handle pruning based on the intermediate value\n",
    "        trial.report(running_train_loss, epoch)\n",
    "        if trial.should_prune():\n",
    "            raise optuna.TrialPruned()\n",
    "            \n",
    "    end_time = time.time()\n",
    "    print(end_time - start)   \n",
    "\n",
    "    # Record hyperparameters and results for analysis\n",
    "    globals()['v'] += 1\n",
    "    trialNum.append(v)\n",
    "    NumLayers.append(n_layers)\n",
    "    ActivFunc.append(activation)\n",
    "    OptimFunc.append(optimizer_name)\n",
    "    LearnRate.append(learning_rate)\n",
    "    BatchSize.append(bs)\n",
    "    TotalTime.append(end_time-start)\n",
    "    NodesPerLayer.append(nodes_per_layer)  # Record the number of nodes per layer\n",
    "    \n",
    "    return running_train_loss\n",
    "\n",
    "\n",
    "# Create a study object and optimize the objective function.\n",
    "study = optuna.create_study(direction='minimize')\n",
    "study.optimize(objective, n_trials=100)"
   ]
  },
  {
   "cell_type": "code",
   "execution_count": null,
   "metadata": {},
   "outputs": [],
   "source": [
    "# Get the best parameters and best value from the study\n",
    "best_params = study.best_params\n",
    "best_value = study.best_value\n",
    "\n",
    "# Create a dictionary to store hyperparameters and best loss\n",
    "data = {\n",
    "    'Hyperparameter': list(best_params.keys()) + ['Best Loss'],\n",
    "    'Value': list(best_params.values()) + [best_value]\n",
    "}\n",
    "\n",
    "# Create a pandas DataFrame\n",
    "df = pd.DataFrame(data)\n",
    "\n",
    "# Display the DataFrame\n",
    "print(df)"
   ]
  },
  {
   "cell_type": "code",
   "execution_count": null,
   "metadata": {},
   "outputs": [],
   "source": [
    "# Access the best model obtained during the study\n",
    "best_model = globals()[\"best_model\"]"
   ]
  },
  {
   "cell_type": "code",
   "execution_count": null,
   "metadata": {},
   "outputs": [],
   "source": [
    "best_model(X_train[3])"
   ]
  },
  {
   "cell_type": "code",
   "execution_count": null,
   "metadata": {},
   "outputs": [],
   "source": [
    "y_train[3]"
   ]
  },
  {
   "cell_type": "code",
   "execution_count": null,
   "metadata": {},
   "outputs": [],
   "source": []
  },
  {
   "cell_type": "code",
   "execution_count": null,
   "metadata": {},
   "outputs": [],
   "source": []
  },
  {
   "cell_type": "code",
   "execution_count": null,
   "metadata": {},
   "outputs": [],
   "source": []
  },
  {
   "cell_type": "code",
   "execution_count": null,
   "metadata": {},
   "outputs": [],
   "source": []
  },
  {
   "cell_type": "code",
   "execution_count": null,
   "metadata": {},
   "outputs": [],
   "source": []
  },
  {
   "cell_type": "code",
   "execution_count": null,
   "metadata": {},
   "outputs": [],
   "source": []
  },
  {
   "cell_type": "code",
   "execution_count": null,
   "metadata": {},
   "outputs": [],
   "source": []
  },
  {
   "cell_type": "code",
   "execution_count": null,
   "metadata": {},
   "outputs": [],
   "source": []
  },
  {
   "cell_type": "code",
   "execution_count": null,
   "metadata": {},
   "outputs": [],
   "source": []
  },
  {
   "cell_type": "code",
   "execution_count": 117,
   "metadata": {},
   "outputs": [],
   "source": [
    "# Switch to directory for saving model parameters\n",
    "os.chdir('/home/htjhnson/Desktop/DL-NMR-Optimization/SavedParamsAndTrainingMetrics')\n",
    "np.save(ModelName + \"_TrainLoss.npy\", train_losses)\n",
    "np.save(ModelName + \"_TestLoss.npy\", test_losses)"
   ]
  },
  {
   "cell_type": "code",
   "execution_count": 118,
   "metadata": {},
   "outputs": [
    {
     "data": {
      "image/png": "[encoded data removed]",
      "text/plain": [
       "<Figure size 3000x2000 with 1 Axes>"
      ]
     },
     "metadata": {},
     "output_type": "display_data"
    }
   ],
   "source": [
    "\n",
    "# Plot the data\n",
    "plt.plot(np.arange(num_epochs)+1, train_losses, label='Train Loss')\n",
    "plt.plot(np.arange(num_epochs)+1, test_losses, label='Test Loss')\n",
    "\n",
    "# Track the previous minimum test loss and its index\n",
    "prev_min_loss = test_losses[0]\n",
    "prev_min_index = 0\n",
    "\n",
    "# Annotate each local minimum test loss with arrows\n",
    "for idx, loss in enumerate(test_losses[1:], start=1):\n",
    "    if loss < prev_min_loss:\n",
    "        plt.annotate('Min', xy=(idx+1, loss), xytext=(idx+1, loss + 5000),\n",
    "                     arrowprops=dict(facecolor='red', shrink=0.05))\n",
    "        prev_min_loss = loss\n",
    "        prev_min_index = idx\n",
    "        \n",
    "# Add x and y labels\n",
    "plt.xlabel('Epochs')\n",
    "plt.ylabel('Loss (MSE)')\n",
    "\n",
    "# Change axis size\n",
    "plt.rcParams['axes.labelsize'] = 45  # Change label font size\n",
    "\n",
    "# Change tick size\n",
    "plt.tick_params(axis='x', labelsize=30)  # Change tick size for x-axis\n",
    "plt.tick_params(axis='y', labelsize=30)  # Change tick size for y-axis\n",
    "\n",
    "# Plot legend, and display figure\n",
    "plt.legend(fontsize = 40)\n",
    "plt.show()"
   ]
  },
  {
   "cell_type": "code",
   "execution_count": 119,
   "metadata": {},
   "outputs": [
    {
     "data": {
      "text/plain": [
       "NMR_Model_Aq(\n",
       "  (lin1): Linear(in_features=46000, out_features=200, bias=True)\n",
       "  (relu1): ReLU()\n",
       "  (lin2): Linear(in_features=200, out_features=58, bias=True)\n",
       ")"
      ]
     },
     "execution_count": 119,
     "metadata": {},
     "output_type": "execute_result"
    }
   ],
   "source": [
    "## Make sure best parameters are being utilized\n",
    "\n",
    "# Switch to directory for saving model parameters\n",
    "os.chdir('/home/htjhnson/Desktop/DL-NMR-Optimization/SavedParamsAndTrainingMetrics')\n",
    "\n",
    "# Define the path where you saved your model parameters\n",
    "save_path = ModelName + '_Params.pt'\n",
    "\n",
    "# Load the entire dictionary from the saved file\n",
    "checkpoint = torch.load(save_path)\n",
    "\n",
    "# Instantiate the model\n",
    "model_aq = NMR_Model_Aq()\n",
    "\n",
    "# Load the model's state dictionary from the loaded dictionary\n",
    "model_aq.load_state_dict(checkpoint['model_state_dict'])\n",
    "\n",
    "# Move the model to the GPU \n",
    "model_aq.to(device)"
   ]
  },
  {
   "cell_type": "code",
   "execution_count": 120,
   "metadata": {},
   "outputs": [],
   "source": [
    "## Switch to directory for saving model metrics\n",
    "\n",
    "os.chdir('/home/htjhnson/Desktop/DL-NMR-Optimization/ModelPerformanceMetrics')   "
   ]
  },
  {
   "cell_type": "code",
   "execution_count": 121,
   "metadata": {},
   "outputs": [
    {
     "name": "stdout",
     "output_type": "stream",
     "text": [
      "model err:  1.7655908\n"
     ]
    }
   ],
   "source": [
    "## Test model on testing dataset and deterine RMSE\n",
    "\n",
    "outputs = model_aq(X_train) # Evaluate input spectra with MLP\n",
    "\n",
    "# Move tensors to CPU and convert to numpy arrays\n",
    "outputs_cpu = outputs.detach().cpu().numpy()\n",
    "y_train_cpu = y_train.detach().cpu().numpy()\n",
    "\n",
    "err = np.sqrt(mean_squared_error(outputs_cpu, y_train_cpu))  # Determine RMSE\n",
    "print('model err: ', err)  # Print RMSE\n",
    "\n",
    "np.save(ModelName + \"TrainRMSE\",err)"
   ]
  },
  {
   "cell_type": "code",
   "execution_count": 122,
   "metadata": {},
   "outputs": [
    {
     "name": "stdout",
     "output_type": "stream",
     "text": [
      "model err:  2.3651967\n"
     ]
    }
   ],
   "source": [
    "## Test model on testing dataset and deterine RMSE\n",
    "\n",
    "model_aq.eval() # Change to evaluation mode (maybe not needed for this model)\n",
    "outputs = model_aq(X_test) # Evaluate input spectra with MLP\n",
    "\n",
    "# Move tensors to CPU and convert to numpy arrays\n",
    "outputs_cpu = outputs.detach().cpu().numpy()\n",
    "y_test_cpu = y_test.detach().cpu().numpy()\n",
    "\n",
    "err = np.sqrt(mean_squared_error(outputs_cpu, y_test_cpu))  # Determine RMSE\n",
    "print('model err: ', err)  # Print RMSE\n",
    "\n",
    "np.save(ModelName + \"TestRMSE\",err)"
   ]
  },
  {
   "cell_type": "code",
   "execution_count": 123,
   "metadata": {},
   "outputs": [
    {
     "name": "stdout",
     "output_type": "stream",
     "text": [
      "model err:  2.4029853\n"
     ]
    }
   ],
   "source": [
    "## Test model on validation dataset and deterine RMSE\n",
    "\n",
    "model_aq.eval()  # Change to evaluation mode (maybe not needed for this model)\n",
    "outputs = model_aq(spectraVal)  # Evaluate input spectra with MLP\n",
    "\n",
    "# Move tensors to CPU and convert to numpy arrays\n",
    "outputs_cpu = outputs.detach().cpu().numpy()\n",
    "concVal_cpu = concVal.detach().cpu().numpy()\n",
    "\n",
    "err = np.sqrt(mean_squared_error(outputs_cpu, concVal_cpu))  # Determine RMSE\n",
    "print('model err: ', err)  # Print RMSE\n",
    "\n",
    "np.save(ModelName + \"ValRMSE\", err)"
   ]
  },
  {
   "cell_type": "code",
   "execution_count": 124,
   "metadata": {},
   "outputs": [],
   "source": [
    "APEs = []\n",
    "MAPEs = []\n",
    "\n",
    "for i in np.arange(8):\n",
    "    GroundTruth = ValConc[i]\n",
    "    Prediction = model_aq(ValSpectra[i])\n",
    "\n",
    "    # Move Prediction tensor to CPU and detach from computation graph\n",
    "    Prediction_cpu = Prediction.detach().cpu().numpy()\n",
    "\n",
    "    APE = []\n",
    "\n",
    "    for metabolite in range(58):\n",
    "        per_err = 100*(GroundTruth[metabolite] - Prediction_cpu[0][metabolite]) / GroundTruth[metabolite]\n",
    "        APE.append(abs(per_err.cpu()))\n",
    "\n",
    "    MAPE = sum(APE) / len(APE)\n",
    "\n",
    "    APEs.append(APE)\n",
    "    MAPEs.append(MAPE)\n",
    "\n",
    "\n",
    "# Convert lists to numpy arrays and save\n",
    "np.save(ModelName + \"_\" + \"ValExamples_APEs.npy\", np.array(APEs))\n",
    "np.save(ModelName + \"_\" + \"ValExamples_MAPEs.npy\", np.array(MAPEs))\n"
   ]
  },
  {
   "cell_type": "code",
   "execution_count": 125,
   "metadata": {},
   "outputs": [
    {
     "data": {
      "text/plain": [
       "[tensor(12.6250),\n",
       " tensor(2.7946),\n",
       " tensor(1.2731),\n",
       " tensor(1.1857),\n",
       " tensor(3.0590),\n",
       " tensor(15.2223),\n",
       " tensor(98.4701),\n",
       " tensor(27.3247)]"
      ]
     },
     "execution_count": 125,
     "metadata": {},
     "output_type": "execute_result"
    }
   ],
   "source": [
    "MAPEs"
   ]
  },
  {
   "cell_type": "code",
   "execution_count": null,
   "metadata": {},
   "outputs": [],
   "source": []
  },
  {
   "cell_type": "code",
   "execution_count": null,
   "metadata": {},
   "outputs": [],
   "source": []
  },
  {
   "cell_type": "code",
   "execution_count": null,
   "metadata": {},
   "outputs": [],
   "source": []
  },
  {
   "cell_type": "code",
   "execution_count": 92,
   "metadata": {},
   "outputs": [
    {
     "name": "stderr",
     "output_type": "stream",
     "text": [
      "[I 2024-05-04 22:24:55,611] A new study created in memory with name: no-name-6bee6d8a-4a86-4f8e-890e-e78f8e7c401e\n",
      "/tmp/ipykernel_73405/3983604795.py:20: FutureWarning: suggest_loguniform has been deprecated in v3.0.0. This feature will be removed in v6.0.0. See https://github.com/optuna/optuna/releases/tag/v3.0.0. Use suggest_float(..., log=True) instead.\n",
      "  weight_decay = trial.suggest_loguniform('weight_decay', 1e-5, 1e-2)\n",
      "/tmp/ipykernel_73405/3983604795.py:22: FutureWarning: suggest_loguniform has been deprecated in v3.0.0. This feature will be removed in v6.0.0. See https://github.com/optuna/optuna/releases/tag/v3.0.0. Use suggest_float(..., log=True) instead.\n",
      "  learning_rate = trial.suggest_loguniform('learning_rate', 1e-5, 1e-2)\n",
      "[W 2024-05-04 22:24:55,736] Trial 0 failed with parameters: {'hidden_layers': 3, 'nodes_per_layer': 325, 'activation': 'leaky_relu', 'batch_norm': True, 'regularization': None, 'weight_decay': 0.0026162022698641442, 'optimizer': 'sgd', 'learning_rate': 0.0010946972310395338, 'initializer': 'normal'} because of the following error: RuntimeError('Expected all tensors to be on the same device, but found at least two devices, cpu and cuda:0! (when checking argument for argument mat1 in method wrapper_CUDA_addmm)').\n",
      "Traceback (most recent call last):\n",
      "  File \"/home/htjhnson/anaconda3/lib/python3.11/site-packages/optuna/study/_optimize.py\", line 196, in _run_trial\n",
      "    value_or_values = func(trial)\n",
      "                      ^^^^^^^^^^^\n",
      "  File \"/tmp/ipykernel_73405/3983604795.py\", line 63, in objective\n",
      "    outputs = model(inputs)\n",
      "              ^^^^^^^^^^^^^\n",
      "  File \"/home/htjhnson/anaconda3/lib/python3.11/site-packages/torch/nn/modules/module.py\", line 1511, in _wrapped_call_impl\n",
      "    return self._call_impl(*args, **kwargs)\n",
      "           ^^^^^^^^^^^^^^^^^^^^^^^^^^^^^^^^\n",
      "  File \"/home/htjhnson/anaconda3/lib/python3.11/site-packages/torch/nn/modules/module.py\", line 1520, in _call_impl\n",
      "    return forward_call(*args, **kwargs)\n",
      "           ^^^^^^^^^^^^^^^^^^^^^^^^^^^^^\n",
      "  File \"/home/htjhnson/anaconda3/lib/python3.11/site-packages/torch/nn/modules/container.py\", line 217, in forward\n",
      "    input = module(input)\n",
      "            ^^^^^^^^^^^^^\n",
      "  File \"/home/htjhnson/anaconda3/lib/python3.11/site-packages/torch/nn/modules/module.py\", line 1511, in _wrapped_call_impl\n",
      "    return self._call_impl(*args, **kwargs)\n",
      "           ^^^^^^^^^^^^^^^^^^^^^^^^^^^^^^^^\n",
      "  File \"/home/htjhnson/anaconda3/lib/python3.11/site-packages/torch/nn/modules/module.py\", line 1520, in _call_impl\n",
      "    return forward_call(*args, **kwargs)\n",
      "           ^^^^^^^^^^^^^^^^^^^^^^^^^^^^^\n",
      "  File \"/home/htjhnson/anaconda3/lib/python3.11/site-packages/torch/nn/modules/linear.py\", line 116, in forward\n",
      "    return F.linear(input, self.weight, self.bias)\n",
      "           ^^^^^^^^^^^^^^^^^^^^^^^^^^^^^^^^^^^^^^^\n",
      "RuntimeError: Expected all tensors to be on the same device, but found at least two devices, cpu and cuda:0! (when checking argument for argument mat1 in method wrapper_CUDA_addmm)\n",
      "[W 2024-05-04 22:24:55,738] Trial 0 failed with value None.\n"
     ]
    },
    {
     "ename": "RuntimeError",
     "evalue": "Expected all tensors to be on the same device, but found at least two devices, cpu and cuda:0! (when checking argument for argument mat1 in method wrapper_CUDA_addmm)",
     "output_type": "error",
     "traceback": [
      "\u001b[0;31m---------------------------------------------------------------------------\u001b[0m",
      "\u001b[0;31mRuntimeError\u001b[0m                              Traceback (most recent call last)",
      "Cell \u001b[0;32mIn[92], line 77\u001b[0m\n\u001b[1;32m     74\u001b[0m \u001b[38;5;28;01mif\u001b[39;00m \u001b[38;5;18m__name__\u001b[39m \u001b[38;5;241m==\u001b[39m \u001b[38;5;124m\"\u001b[39m\u001b[38;5;124m__main__\u001b[39m\u001b[38;5;124m\"\u001b[39m:\n\u001b[1;32m     75\u001b[0m     \u001b[38;5;66;03m# Create study and optimize\u001b[39;00m\n\u001b[1;32m     76\u001b[0m     study \u001b[38;5;241m=\u001b[39m optuna\u001b[38;5;241m.\u001b[39mcreate_study(direction\u001b[38;5;241m=\u001b[39m\u001b[38;5;124m'\u001b[39m\u001b[38;5;124mminimize\u001b[39m\u001b[38;5;124m'\u001b[39m)\n\u001b[0;32m---> 77\u001b[0m     study\u001b[38;5;241m.\u001b[39moptimize(objective, n_trials\u001b[38;5;241m=\u001b[39m\u001b[38;5;241m100\u001b[39m)\n\u001b[1;32m     78\u001b[0m     \u001b[38;5;28mprint\u001b[39m(\u001b[38;5;124m'\u001b[39m\u001b[38;5;124mBest trial:\u001b[39m\u001b[38;5;124m'\u001b[39m)\n\u001b[1;32m     79\u001b[0m     \u001b[38;5;28mprint\u001b[39m(study\u001b[38;5;241m.\u001b[39mbest_trial\u001b[38;5;241m.\u001b[39mparams)\n",
      "File \u001b[0;32m~/anaconda3/lib/python3.11/site-packages/optuna/study/study.py:451\u001b[0m, in \u001b[0;36mStudy.optimize\u001b[0;34m(self, func, n_trials, timeout, n_jobs, catch, callbacks, gc_after_trial, show_progress_bar)\u001b[0m\n\u001b[1;32m    348\u001b[0m \u001b[38;5;28;01mdef\u001b[39;00m \u001b[38;5;21moptimize\u001b[39m(\n\u001b[1;32m    349\u001b[0m     \u001b[38;5;28mself\u001b[39m,\n\u001b[1;32m    350\u001b[0m     func: ObjectiveFuncType,\n\u001b[0;32m   (...)\u001b[0m\n\u001b[1;32m    357\u001b[0m     show_progress_bar: \u001b[38;5;28mbool\u001b[39m \u001b[38;5;241m=\u001b[39m \u001b[38;5;28;01mFalse\u001b[39;00m,\n\u001b[1;32m    358\u001b[0m ) \u001b[38;5;241m-\u001b[39m\u001b[38;5;241m>\u001b[39m \u001b[38;5;28;01mNone\u001b[39;00m:\n\u001b[1;32m    359\u001b[0m \u001b[38;5;250m    \u001b[39m\u001b[38;5;124;03m\"\"\"Optimize an objective function.\u001b[39;00m\n\u001b[1;32m    360\u001b[0m \n\u001b[1;32m    361\u001b[0m \u001b[38;5;124;03m    Optimization is done by choosing a suitable set of hyperparameter values from a given\u001b[39;00m\n\u001b[0;32m   (...)\u001b[0m\n\u001b[1;32m    449\u001b[0m \u001b[38;5;124;03m            If nested invocation of this method occurs.\u001b[39;00m\n\u001b[1;32m    450\u001b[0m \u001b[38;5;124;03m    \"\"\"\u001b[39;00m\n\u001b[0;32m--> 451\u001b[0m     _optimize(\n\u001b[1;32m    452\u001b[0m         study\u001b[38;5;241m=\u001b[39m\u001b[38;5;28mself\u001b[39m,\n\u001b[1;32m    453\u001b[0m         func\u001b[38;5;241m=\u001b[39mfunc,\n\u001b[1;32m    454\u001b[0m         n_trials\u001b[38;5;241m=\u001b[39mn_trials,\n\u001b[1;32m    455\u001b[0m         timeout\u001b[38;5;241m=\u001b[39mtimeout,\n\u001b[1;32m    456\u001b[0m         n_jobs\u001b[38;5;241m=\u001b[39mn_jobs,\n\u001b[1;32m    457\u001b[0m         catch\u001b[38;5;241m=\u001b[39m\u001b[38;5;28mtuple\u001b[39m(catch) \u001b[38;5;28;01mif\u001b[39;00m \u001b[38;5;28misinstance\u001b[39m(catch, Iterable) \u001b[38;5;28;01melse\u001b[39;00m (catch,),\n\u001b[1;32m    458\u001b[0m         callbacks\u001b[38;5;241m=\u001b[39mcallbacks,\n\u001b[1;32m    459\u001b[0m         gc_after_trial\u001b[38;5;241m=\u001b[39mgc_after_trial,\n\u001b[1;32m    460\u001b[0m         show_progress_bar\u001b[38;5;241m=\u001b[39mshow_progress_bar,\n\u001b[1;32m    461\u001b[0m     )\n",
      "File \u001b[0;32m~/anaconda3/lib/python3.11/site-packages/optuna/study/_optimize.py:62\u001b[0m, in \u001b[0;36m_optimize\u001b[0;34m(study, func, n_trials, timeout, n_jobs, catch, callbacks, gc_after_trial, show_progress_bar)\u001b[0m\n\u001b[1;32m     60\u001b[0m \u001b[38;5;28;01mtry\u001b[39;00m:\n\u001b[1;32m     61\u001b[0m     \u001b[38;5;28;01mif\u001b[39;00m n_jobs \u001b[38;5;241m==\u001b[39m \u001b[38;5;241m1\u001b[39m:\n\u001b[0;32m---> 62\u001b[0m         _optimize_sequential(\n\u001b[1;32m     63\u001b[0m             study,\n\u001b[1;32m     64\u001b[0m             func,\n\u001b[1;32m     65\u001b[0m             n_trials,\n\u001b[1;32m     66\u001b[0m             timeout,\n\u001b[1;32m     67\u001b[0m             catch,\n\u001b[1;32m     68\u001b[0m             callbacks,\n\u001b[1;32m     69\u001b[0m             gc_after_trial,\n\u001b[1;32m     70\u001b[0m             reseed_sampler_rng\u001b[38;5;241m=\u001b[39m\u001b[38;5;28;01mFalse\u001b[39;00m,\n\u001b[1;32m     71\u001b[0m             time_start\u001b[38;5;241m=\u001b[39m\u001b[38;5;28;01mNone\u001b[39;00m,\n\u001b[1;32m     72\u001b[0m             progress_bar\u001b[38;5;241m=\u001b[39mprogress_bar,\n\u001b[1;32m     73\u001b[0m         )\n\u001b[1;32m     74\u001b[0m     \u001b[38;5;28;01melse\u001b[39;00m:\n\u001b[1;32m     75\u001b[0m         \u001b[38;5;28;01mif\u001b[39;00m n_jobs \u001b[38;5;241m==\u001b[39m \u001b[38;5;241m-\u001b[39m\u001b[38;5;241m1\u001b[39m:\n",
      "File \u001b[0;32m~/anaconda3/lib/python3.11/site-packages/optuna/study/_optimize.py:159\u001b[0m, in \u001b[0;36m_optimize_sequential\u001b[0;34m(study, func, n_trials, timeout, catch, callbacks, gc_after_trial, reseed_sampler_rng, time_start, progress_bar)\u001b[0m\n\u001b[1;32m    156\u001b[0m         \u001b[38;5;28;01mbreak\u001b[39;00m\n\u001b[1;32m    158\u001b[0m \u001b[38;5;28;01mtry\u001b[39;00m:\n\u001b[0;32m--> 159\u001b[0m     frozen_trial \u001b[38;5;241m=\u001b[39m _run_trial(study, func, catch)\n\u001b[1;32m    160\u001b[0m \u001b[38;5;28;01mfinally\u001b[39;00m:\n\u001b[1;32m    161\u001b[0m     \u001b[38;5;66;03m# The following line mitigates memory problems that can be occurred in some\u001b[39;00m\n\u001b[1;32m    162\u001b[0m     \u001b[38;5;66;03m# environments (e.g., services that use computing containers such as GitHub Actions).\u001b[39;00m\n\u001b[1;32m    163\u001b[0m     \u001b[38;5;66;03m# Please refer to the following PR for further details:\u001b[39;00m\n\u001b[1;32m    164\u001b[0m     \u001b[38;5;66;03m# https://github.com/optuna/optuna/pull/325.\u001b[39;00m\n\u001b[1;32m    165\u001b[0m     \u001b[38;5;28;01mif\u001b[39;00m gc_after_trial:\n",
      "File \u001b[0;32m~/anaconda3/lib/python3.11/site-packages/optuna/study/_optimize.py:247\u001b[0m, in \u001b[0;36m_run_trial\u001b[0;34m(study, func, catch)\u001b[0m\n\u001b[1;32m    240\u001b[0m         \u001b[38;5;28;01massert\u001b[39;00m \u001b[38;5;28;01mFalse\u001b[39;00m, \u001b[38;5;124m\"\u001b[39m\u001b[38;5;124mShould not reach.\u001b[39m\u001b[38;5;124m\"\u001b[39m\n\u001b[1;32m    242\u001b[0m \u001b[38;5;28;01mif\u001b[39;00m (\n\u001b[1;32m    243\u001b[0m     frozen_trial\u001b[38;5;241m.\u001b[39mstate \u001b[38;5;241m==\u001b[39m TrialState\u001b[38;5;241m.\u001b[39mFAIL\n\u001b[1;32m    244\u001b[0m     \u001b[38;5;129;01mand\u001b[39;00m func_err \u001b[38;5;129;01mis\u001b[39;00m \u001b[38;5;129;01mnot\u001b[39;00m \u001b[38;5;28;01mNone\u001b[39;00m\n\u001b[1;32m    245\u001b[0m     \u001b[38;5;129;01mand\u001b[39;00m \u001b[38;5;129;01mnot\u001b[39;00m \u001b[38;5;28misinstance\u001b[39m(func_err, catch)\n\u001b[1;32m    246\u001b[0m ):\n\u001b[0;32m--> 247\u001b[0m     \u001b[38;5;28;01mraise\u001b[39;00m func_err\n\u001b[1;32m    248\u001b[0m \u001b[38;5;28;01mreturn\u001b[39;00m frozen_trial\n",
      "File \u001b[0;32m~/anaconda3/lib/python3.11/site-packages/optuna/study/_optimize.py:196\u001b[0m, in \u001b[0;36m_run_trial\u001b[0;34m(study, func, catch)\u001b[0m\n\u001b[1;32m    194\u001b[0m \u001b[38;5;28;01mwith\u001b[39;00m get_heartbeat_thread(trial\u001b[38;5;241m.\u001b[39m_trial_id, study\u001b[38;5;241m.\u001b[39m_storage):\n\u001b[1;32m    195\u001b[0m     \u001b[38;5;28;01mtry\u001b[39;00m:\n\u001b[0;32m--> 196\u001b[0m         value_or_values \u001b[38;5;241m=\u001b[39m func(trial)\n\u001b[1;32m    197\u001b[0m     \u001b[38;5;28;01mexcept\u001b[39;00m exceptions\u001b[38;5;241m.\u001b[39mTrialPruned \u001b[38;5;28;01mas\u001b[39;00m e:\n\u001b[1;32m    198\u001b[0m         \u001b[38;5;66;03m# TODO(mamu): Handle multi-objective cases.\u001b[39;00m\n\u001b[1;32m    199\u001b[0m         state \u001b[38;5;241m=\u001b[39m TrialState\u001b[38;5;241m.\u001b[39mPRUNED\n",
      "Cell \u001b[0;32mIn[92], line 63\u001b[0m, in \u001b[0;36mobjective\u001b[0;34m(trial)\u001b[0m\n\u001b[1;32m     60\u001b[0m \u001b[38;5;28;01mfor\u001b[39;00m epoch \u001b[38;5;129;01min\u001b[39;00m \u001b[38;5;28mrange\u001b[39m(num_epochs):\n\u001b[1;32m     61\u001b[0m     \u001b[38;5;28;01mfor\u001b[39;00m inputs, labels \u001b[38;5;129;01min\u001b[39;00m train_loader:\n\u001b[1;32m     62\u001b[0m         \u001b[38;5;66;03m# Forward pass\u001b[39;00m\n\u001b[0;32m---> 63\u001b[0m         outputs \u001b[38;5;241m=\u001b[39m model(inputs)\n\u001b[1;32m     64\u001b[0m         loss \u001b[38;5;241m=\u001b[39m criterion(outputs, labels)\n\u001b[1;32m     66\u001b[0m         \u001b[38;5;66;03m# Backward pass and optimization\u001b[39;00m\n",
      "File \u001b[0;32m~/anaconda3/lib/python3.11/site-packages/torch/nn/modules/module.py:1511\u001b[0m, in \u001b[0;36mModule._wrapped_call_impl\u001b[0;34m(self, *args, **kwargs)\u001b[0m\n\u001b[1;32m   1509\u001b[0m     \u001b[38;5;28;01mreturn\u001b[39;00m \u001b[38;5;28mself\u001b[39m\u001b[38;5;241m.\u001b[39m_compiled_call_impl(\u001b[38;5;241m*\u001b[39margs, \u001b[38;5;241m*\u001b[39m\u001b[38;5;241m*\u001b[39mkwargs)  \u001b[38;5;66;03m# type: ignore[misc]\u001b[39;00m\n\u001b[1;32m   1510\u001b[0m \u001b[38;5;28;01melse\u001b[39;00m:\n\u001b[0;32m-> 1511\u001b[0m     \u001b[38;5;28;01mreturn\u001b[39;00m \u001b[38;5;28mself\u001b[39m\u001b[38;5;241m.\u001b[39m_call_impl(\u001b[38;5;241m*\u001b[39margs, \u001b[38;5;241m*\u001b[39m\u001b[38;5;241m*\u001b[39mkwargs)\n",
      "File \u001b[0;32m~/anaconda3/lib/python3.11/site-packages/torch/nn/modules/module.py:1520\u001b[0m, in \u001b[0;36mModule._call_impl\u001b[0;34m(self, *args, **kwargs)\u001b[0m\n\u001b[1;32m   1515\u001b[0m \u001b[38;5;66;03m# If we don't have any hooks, we want to skip the rest of the logic in\u001b[39;00m\n\u001b[1;32m   1516\u001b[0m \u001b[38;5;66;03m# this function, and just call forward.\u001b[39;00m\n\u001b[1;32m   1517\u001b[0m \u001b[38;5;28;01mif\u001b[39;00m \u001b[38;5;129;01mnot\u001b[39;00m (\u001b[38;5;28mself\u001b[39m\u001b[38;5;241m.\u001b[39m_backward_hooks \u001b[38;5;129;01mor\u001b[39;00m \u001b[38;5;28mself\u001b[39m\u001b[38;5;241m.\u001b[39m_backward_pre_hooks \u001b[38;5;129;01mor\u001b[39;00m \u001b[38;5;28mself\u001b[39m\u001b[38;5;241m.\u001b[39m_forward_hooks \u001b[38;5;129;01mor\u001b[39;00m \u001b[38;5;28mself\u001b[39m\u001b[38;5;241m.\u001b[39m_forward_pre_hooks\n\u001b[1;32m   1518\u001b[0m         \u001b[38;5;129;01mor\u001b[39;00m _global_backward_pre_hooks \u001b[38;5;129;01mor\u001b[39;00m _global_backward_hooks\n\u001b[1;32m   1519\u001b[0m         \u001b[38;5;129;01mor\u001b[39;00m _global_forward_hooks \u001b[38;5;129;01mor\u001b[39;00m _global_forward_pre_hooks):\n\u001b[0;32m-> 1520\u001b[0m     \u001b[38;5;28;01mreturn\u001b[39;00m forward_call(\u001b[38;5;241m*\u001b[39margs, \u001b[38;5;241m*\u001b[39m\u001b[38;5;241m*\u001b[39mkwargs)\n\u001b[1;32m   1522\u001b[0m \u001b[38;5;28;01mtry\u001b[39;00m:\n\u001b[1;32m   1523\u001b[0m     result \u001b[38;5;241m=\u001b[39m \u001b[38;5;28;01mNone\u001b[39;00m\n",
      "File \u001b[0;32m~/anaconda3/lib/python3.11/site-packages/torch/nn/modules/container.py:217\u001b[0m, in \u001b[0;36mSequential.forward\u001b[0;34m(self, input)\u001b[0m\n\u001b[1;32m    215\u001b[0m \u001b[38;5;28;01mdef\u001b[39;00m \u001b[38;5;21mforward\u001b[39m(\u001b[38;5;28mself\u001b[39m, \u001b[38;5;28minput\u001b[39m):\n\u001b[1;32m    216\u001b[0m     \u001b[38;5;28;01mfor\u001b[39;00m module \u001b[38;5;129;01min\u001b[39;00m \u001b[38;5;28mself\u001b[39m:\n\u001b[0;32m--> 217\u001b[0m         \u001b[38;5;28minput\u001b[39m \u001b[38;5;241m=\u001b[39m module(\u001b[38;5;28minput\u001b[39m)\n\u001b[1;32m    218\u001b[0m     \u001b[38;5;28;01mreturn\u001b[39;00m \u001b[38;5;28minput\u001b[39m\n",
      "File \u001b[0;32m~/anaconda3/lib/python3.11/site-packages/torch/nn/modules/module.py:1511\u001b[0m, in \u001b[0;36mModule._wrapped_call_impl\u001b[0;34m(self, *args, **kwargs)\u001b[0m\n\u001b[1;32m   1509\u001b[0m     \u001b[38;5;28;01mreturn\u001b[39;00m \u001b[38;5;28mself\u001b[39m\u001b[38;5;241m.\u001b[39m_compiled_call_impl(\u001b[38;5;241m*\u001b[39margs, \u001b[38;5;241m*\u001b[39m\u001b[38;5;241m*\u001b[39mkwargs)  \u001b[38;5;66;03m# type: ignore[misc]\u001b[39;00m\n\u001b[1;32m   1510\u001b[0m \u001b[38;5;28;01melse\u001b[39;00m:\n\u001b[0;32m-> 1511\u001b[0m     \u001b[38;5;28;01mreturn\u001b[39;00m \u001b[38;5;28mself\u001b[39m\u001b[38;5;241m.\u001b[39m_call_impl(\u001b[38;5;241m*\u001b[39margs, \u001b[38;5;241m*\u001b[39m\u001b[38;5;241m*\u001b[39mkwargs)\n",
      "File \u001b[0;32m~/anaconda3/lib/python3.11/site-packages/torch/nn/modules/module.py:1520\u001b[0m, in \u001b[0;36mModule._call_impl\u001b[0;34m(self, *args, **kwargs)\u001b[0m\n\u001b[1;32m   1515\u001b[0m \u001b[38;5;66;03m# If we don't have any hooks, we want to skip the rest of the logic in\u001b[39;00m\n\u001b[1;32m   1516\u001b[0m \u001b[38;5;66;03m# this function, and just call forward.\u001b[39;00m\n\u001b[1;32m   1517\u001b[0m \u001b[38;5;28;01mif\u001b[39;00m \u001b[38;5;129;01mnot\u001b[39;00m (\u001b[38;5;28mself\u001b[39m\u001b[38;5;241m.\u001b[39m_backward_hooks \u001b[38;5;129;01mor\u001b[39;00m \u001b[38;5;28mself\u001b[39m\u001b[38;5;241m.\u001b[39m_backward_pre_hooks \u001b[38;5;129;01mor\u001b[39;00m \u001b[38;5;28mself\u001b[39m\u001b[38;5;241m.\u001b[39m_forward_hooks \u001b[38;5;129;01mor\u001b[39;00m \u001b[38;5;28mself\u001b[39m\u001b[38;5;241m.\u001b[39m_forward_pre_hooks\n\u001b[1;32m   1518\u001b[0m         \u001b[38;5;129;01mor\u001b[39;00m _global_backward_pre_hooks \u001b[38;5;129;01mor\u001b[39;00m _global_backward_hooks\n\u001b[1;32m   1519\u001b[0m         \u001b[38;5;129;01mor\u001b[39;00m _global_forward_hooks \u001b[38;5;129;01mor\u001b[39;00m _global_forward_pre_hooks):\n\u001b[0;32m-> 1520\u001b[0m     \u001b[38;5;28;01mreturn\u001b[39;00m forward_call(\u001b[38;5;241m*\u001b[39margs, \u001b[38;5;241m*\u001b[39m\u001b[38;5;241m*\u001b[39mkwargs)\n\u001b[1;32m   1522\u001b[0m \u001b[38;5;28;01mtry\u001b[39;00m:\n\u001b[1;32m   1523\u001b[0m     result \u001b[38;5;241m=\u001b[39m \u001b[38;5;28;01mNone\u001b[39;00m\n",
      "File \u001b[0;32m~/anaconda3/lib/python3.11/site-packages/torch/nn/modules/linear.py:116\u001b[0m, in \u001b[0;36mLinear.forward\u001b[0;34m(self, input)\u001b[0m\n\u001b[1;32m    115\u001b[0m \u001b[38;5;28;01mdef\u001b[39;00m \u001b[38;5;21mforward\u001b[39m(\u001b[38;5;28mself\u001b[39m, \u001b[38;5;28minput\u001b[39m: Tensor) \u001b[38;5;241m-\u001b[39m\u001b[38;5;241m>\u001b[39m Tensor:\n\u001b[0;32m--> 116\u001b[0m     \u001b[38;5;28;01mreturn\u001b[39;00m F\u001b[38;5;241m.\u001b[39mlinear(\u001b[38;5;28minput\u001b[39m, \u001b[38;5;28mself\u001b[39m\u001b[38;5;241m.\u001b[39mweight, \u001b[38;5;28mself\u001b[39m\u001b[38;5;241m.\u001b[39mbias)\n",
      "\u001b[0;31mRuntimeError\u001b[0m: Expected all tensors to be on the same device, but found at least two devices, cpu and cuda:0! (when checking argument for argument mat1 in method wrapper_CUDA_addmm)"
     ]
    }
   ],
   "source": [
    "import torch\n",
    "\n",
    "# Define theimport optuna\n",
    "import torch\n",
    "import torch.nn as nn\n",
    "import torch.utils.data\n",
    "\n",
    "# Define your dataset and data loader outside the optimization loop\n",
    "datasets = torch.utils.data.TensorDataset(X_train, y_train)\n",
    "train_loader = torch.utils.data.DataLoader(datasets, batch_size=128, shuffle=True)\n",
    "\n",
    "# Define the objective function\n",
    "def objective(trial):\n",
    "    # Define the hyperparameters to optimize\n",
    "    hidden_layers = trial.suggest_int('hidden_layers', 1, 3)\n",
    "    nodes_per_layer = trial.suggest_int('nodes_per_layer', 32, 512)\n",
    "    activation_func_name = trial.suggest_categorical('activation', ['relu', 'leaky_relu', 'elu'])\n",
    "    batch_norm = trial.suggest_categorical('batch_norm', [True, False])\n",
    "    regularization = trial.suggest_categorical('regularization', ['l1', 'l2', None])\n",
    "    weight_decay = trial.suggest_loguniform('weight_decay', 1e-5, 1e-2)\n",
    "    optimizer = trial.suggest_categorical('optimizer', ['adam', 'sgd'])\n",
    "    learning_rate = trial.suggest_loguniform('learning_rate', 1e-5, 1e-2)\n",
    "    initializer_name = trial.suggest_categorical('initializer', ['he', 'xavier', 'normal'])\n",
    "\n",
    "    # Convert activation function name to actual function\n",
    "    if activation_func_name == 'relu':\n",
    "        activation_func = nn.ReLU()\n",
    "    elif activation_func_name == 'leaky_relu':\n",
    "        activation_func = nn.LeakyReLU()\n",
    "    elif activation_func_name == 'elu':\n",
    "        activation_func = nn.ELU(inplace=True)  # ELU activation in PyTorch\n",
    "\n",
    "    # Define model architecture\n",
    "    layers = []\n",
    "    layers.append(nn.Linear(46000, nodes_per_layer))  # Input layer\n",
    "    layers.append(activation_func)  # Activation function for input layer\n",
    "\n",
    "    # Add hidden layers\n",
    "    for _ in range(hidden_layers):\n",
    "        layers.append(nn.Linear(nodes_per_layer, nodes_per_layer))\n",
    "        layers.append(activation_func)  # Activation function for hidden layers\n",
    "        if batch_norm:\n",
    "            layers.append(nn.BatchNorm1d(nodes_per_layer))\n",
    "\n",
    "    # Output layer\n",
    "    layers.append(nn.Linear(nodes_per_layer, 8))  # Output layer\n",
    "\n",
    "    model = nn.Sequential(*layers)\n",
    "\n",
    "    # Define loss function\n",
    "    criterion = nn.CrossEntropyLoss()\n",
    "\n",
    "    # Define optimizer\n",
    "    if optimizer == 'adam':\n",
    "        optimizer = torch.optim.Adam(model.parameters(), lr=learning_rate, weight_decay=weight_decay)\n",
    "    elif optimizer == 'sgd':\n",
    "        optimizer = torch.optim.SGD(model.parameters(), lr=learning_rate, weight_decay=weight_decay)\n",
    "\n",
    "    # Training loop\n",
    "    for epoch in range(num_epochs):\n",
    "        for inputs, labels in train_loader:\n",
    "            # Forward pass\n",
    "            outputs = model(inputs)\n",
    "            loss = criterion(outputs, labels)\n",
    "\n",
    "            # Backward pass and optimization\n",
    "            optimizer.zero_grad()\n",
    "            loss.backward()\n",
    "            optimizer.step()\n",
    "\n",
    "    # Return loss or accuracy based on your optimization goal\n",
    "    return loss.item()\n",
    "\n",
    "if __name__ == \"__main__\":\n",
    "    # Create study and optimize\n",
    "    study = optuna.create_study(direction='minimize')\n",
    "    study.optimize(objective, n_trials=100)\n",
    "    print('Best trial:')\n",
    "    print(study.best_trial.params)\n"
   ]
  },
  {
   "cell_type": "code",
   "execution_count": null,
   "metadata": {},
   "outputs": [],
   "source": []
  },
  {
   "cell_type": "code",
   "execution_count": null,
   "metadata": {},
   "outputs": [],
   "source": []
  },
  {
   "cell_type": "code",
   "execution_count": null,
   "metadata": {},
   "outputs": [],
   "source": []
  },
  {
   "cell_type": "code",
   "execution_count": null,
   "metadata": {},
   "outputs": [],
   "source": []
  }
 ],
 "metadata": {
  "kernelspec": {
   "display_name": "Python 3 (ipykernel)",
   "language": "python",
   "name": "python3"
  },
  "language_info": {
   "codemirror_mode": {
    "name": "ipython",
    "version": 3
   },
   "file_extension": ".py",
   "mimetype": "text/x-python",
   "name": "python",
   "nbconvert_exporter": "python",
   "pygments_lexer": "ipython3",
   "version": "3.11.5"
  }
 },
 "nbformat": 4,
 "nbformat_minor": 4
}
